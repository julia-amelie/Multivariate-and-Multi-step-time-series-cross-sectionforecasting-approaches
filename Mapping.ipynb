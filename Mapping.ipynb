{
 "cells": [
  {
   "cell_type": "code",
   "execution_count": 438,
   "id": "clinical-pavilion",
   "metadata": {},
   "outputs": [],
   "source": [
    "import pandas as pd\n",
    "from matplotlib import pyplot\n",
    "import statsmodels as sm\n",
    "from statsmodels.tsa.stattools import adfuller\n",
    "from statsmodels.graphics.tsaplots import plot_acf, plot_pacf\n",
    "from statsmodels.tsa.arima_model import ARIMA\n",
    "import statistics"
   ]
  },
  {
   "cell_type": "code",
   "execution_count": 261,
   "id": "jewish-spending",
   "metadata": {},
   "outputs": [
    {
     "data": {
      "text/plain": [
       "'/Users/julia/Desktop'"
      ]
     },
     "execution_count": 261,
     "metadata": {},
     "output_type": "execute_result"
    }
   ],
   "source": [
    "pwd()"
   ]
  },
  {
   "cell_type": "code",
   "execution_count": 569,
   "id": "fatal-yesterday",
   "metadata": {},
   "outputs": [],
   "source": [
    "project = pd.read_csv('projectnumber.csv', sep=';')"
   ]
  },
  {
   "cell_type": "code",
   "execution_count": 570,
   "id": "adjacent-sterling",
   "metadata": {},
   "outputs": [
    {
     "data": {
      "text/html": [
       "<div>\n",
       "<style scoped>\n",
       "    .dataframe tbody tr th:only-of-type {\n",
       "        vertical-align: middle;\n",
       "    }\n",
       "\n",
       "    .dataframe tbody tr th {\n",
       "        vertical-align: top;\n",
       "    }\n",
       "\n",
       "    .dataframe thead th {\n",
       "        text-align: right;\n",
       "    }\n",
       "</style>\n",
       "<table border=\"1\" class=\"dataframe\">\n",
       "  <thead>\n",
       "    <tr style=\"text-align: right;\">\n",
       "      <th></th>\n",
       "      <th>Project Number</th>\n",
       "      <th>Legacy Project Number</th>\n",
       "    </tr>\n",
       "  </thead>\n",
       "  <tbody>\n",
       "    <tr>\n",
       "      <th>0</th>\n",
       "      <td>30000000</td>\n",
       "      <td>Unspecified</td>\n",
       "    </tr>\n",
       "    <tr>\n",
       "      <th>1</th>\n",
       "      <td>30001202</td>\n",
       "      <td>Unspecified</td>\n",
       "    </tr>\n",
       "    <tr>\n",
       "      <th>2</th>\n",
       "      <td>30001203</td>\n",
       "      <td>Unspecified</td>\n",
       "    </tr>\n",
       "    <tr>\n",
       "      <th>3</th>\n",
       "      <td>30001204</td>\n",
       "      <td>Unspecified</td>\n",
       "    </tr>\n",
       "    <tr>\n",
       "      <th>4</th>\n",
       "      <td>30001205</td>\n",
       "      <td>Unspecified</td>\n",
       "    </tr>\n",
       "    <tr>\n",
       "      <th>...</th>\n",
       "      <td>...</td>\n",
       "      <td>...</td>\n",
       "    </tr>\n",
       "    <tr>\n",
       "      <th>65529</th>\n",
       "      <td>30082912</td>\n",
       "      <td>Unspecified</td>\n",
       "    </tr>\n",
       "    <tr>\n",
       "      <th>65530</th>\n",
       "      <td>30082914</td>\n",
       "      <td>Unspecified</td>\n",
       "    </tr>\n",
       "    <tr>\n",
       "      <th>65531</th>\n",
       "      <td>30082919</td>\n",
       "      <td>Unspecified</td>\n",
       "    </tr>\n",
       "    <tr>\n",
       "      <th>65532</th>\n",
       "      <td>30082920</td>\n",
       "      <td>Unspecified</td>\n",
       "    </tr>\n",
       "    <tr>\n",
       "      <th>65533</th>\n",
       "      <td>30082922</td>\n",
       "      <td>Unspecified</td>\n",
       "    </tr>\n",
       "  </tbody>\n",
       "</table>\n",
       "<p>65534 rows × 2 columns</p>\n",
       "</div>"
      ],
      "text/plain": [
       "      Project Number Legacy Project Number\n",
       "0           30000000           Unspecified\n",
       "1           30001202           Unspecified\n",
       "2           30001203           Unspecified\n",
       "3           30001204           Unspecified\n",
       "4           30001205           Unspecified\n",
       "...              ...                   ...\n",
       "65529       30082912           Unspecified\n",
       "65530       30082914           Unspecified\n",
       "65531       30082919           Unspecified\n",
       "65532       30082920           Unspecified\n",
       "65533       30082922           Unspecified\n",
       "\n",
       "[65534 rows x 2 columns]"
      ]
     },
     "execution_count": 570,
     "metadata": {},
     "output_type": "execute_result"
    }
   ],
   "source": [
    "project"
   ]
  },
  {
   "cell_type": "code",
   "execution_count": 3,
   "id": "documented-bangkok",
   "metadata": {},
   "outputs": [
    {
     "name": "stderr",
     "output_type": "stream",
     "text": [
      "/Users/julia/opt/anaconda3/lib/python3.7/site-packages/IPython/core/interactiveshell.py:3156: DtypeWarning: Columns (2,3,4,5,6,8,12,13,14,16,18,19,20,23,24,26,27,32,33,34,35,38,40,41,42,43,44,45,46,47,48,49,51,52,53,54,55,56,59,60,61,62,79,80,95,96,97,98,100,112,113,114,115,116,117,122,126,127,128,129,130,131,132,138,143,144,145,159,163,164,166,169,172,175,176,201,202) have mixed types.Specify dtype option on import or set low_memory=False.\n",
      "  interactivity=interactivity, compiler=compiler, result=result)\n"
     ]
    }
   ],
   "source": [
    "df = pd.read_csv('portfolio.csv') #low_memory=False"
   ]
  },
  {
   "cell_type": "code",
   "execution_count": 143,
   "id": "daily-wound",
   "metadata": {},
   "outputs": [],
   "source": [
    "df1 = df[[\"Fiscal Period Code\",\n",
    "\"Project Number\",\n",
    "\"Project Id\",\n",
    "\"Project Name\",\n",
    "\"Health and Safety Status\",\n",
    "\"project_date_create\",\n",
    "\"Project Status\",\n",
    "\"SalesCloudClientNo\",\n",
    "\"Related Opportunity Project Number\",\n",
    "\"Contract Type Name\",\n",
    "\"Ultimate Customer AUS Market Sector\",\n",
    "\"Division Short Name\",\n",
    "\"location_2\", \n",
    "\"location_4\",\n",
    "\"primary_client_industry\",\n",
    "\"Sales Cloud Opportunity Number\",\n",
    "\"Funding Amount - ITC (Snapshot)\",\n",
    "\"Backlog NR\",\n",
    "\"Actual Direct Labor Cost - MTD\",\n",
    "\"Actual Direct Labor Cost - YTD\",\n",
    "\"Actual Gross Revenue - ITD\",\n",
    "\"Actual Gross Revenue - MTD\",\n",
    "\"Actual Gross Revenue - YTD\",\n",
    "\"Actual Net Revenue - ITD\",\n",
    "\"Actual Net Revenue - MTD\",\n",
    "\"Actual Net Revenue - YTD\",\n",
    "\"EBITA - MTD\",\n",
    "\"EBITA - YTD\",\n",
    "\"EBITA - ITD\",\n",
    "\"Forecast Direct Labor Cost - ITC\",\n",
    "\"Forecast Net Revenue - ITC\",\n",
    "\"Order Intake (NR) - MTD\",\n",
    "\"Order Intake (NR) - QTD\",\n",
    "\"Order Intake (NR) - YTD\",\n",
    "\"WBS1\",\n",
    "\"bookings_jtd\",\n",
    "\"interest_current\",\n",
    "\"interest_jtd\",\n",
    "\"interest_ytd\",\n",
    "\"multiplier_budget\",\n",
    "\"multiplier_current\",\n",
    "\"multiplier_target\",\n",
    "\"overhead_current\", \n",
    "\"overhead_rate\",\n",
    "\"revenue_type\"]].copy()"
   ]
  },
  {
   "cell_type": "code",
   "execution_count": 623,
   "id": "sorted-egyptian",
   "metadata": {},
   "outputs": [
    {
     "name": "stderr",
     "output_type": "stream",
     "text": [
      "/Users/julia/opt/anaconda3/lib/python3.7/site-packages/IPython/core/interactiveshell.py:3156: DtypeWarning: Columns (2,3,5,9,11,13,14,15,16,35,45) have mixed types.Specify dtype option on import or set low_memory=False.\n",
      "  interactivity=interactivity, compiler=compiler, result=result)\n"
     ]
    }
   ],
   "source": [
    "#df1.to_csv('subportfolio.csv')\n",
    "df1 = pd.read_csv('subportfolio.csv')"
   ]
  },
  {
   "cell_type": "code",
   "execution_count": 624,
   "id": "tight-bride",
   "metadata": {},
   "outputs": [],
   "source": [
    "df1 = df1.loc[:, ~df1.columns.str.contains('^Unnamed')]"
   ]
  },
  {
   "cell_type": "code",
   "execution_count": 625,
   "id": "brilliant-rogers",
   "metadata": {},
   "outputs": [],
   "source": [
    "#project['Project Number'].fillna(0, inplace = True)"
   ]
  },
  {
   "cell_type": "code",
   "execution_count": 626,
   "id": "coordinate-pilot",
   "metadata": {},
   "outputs": [
    {
     "data": {
      "text/plain": [
       "array([<class 'str'>], dtype=object)"
      ]
     },
     "execution_count": 626,
     "metadata": {},
     "output_type": "execute_result"
    }
   ],
   "source": [
    "df1['Project Number'] = df1['Project Number'].astype('str') \n",
    "df1['Project Number'].apply(type).unique()"
   ]
  },
  {
   "cell_type": "code",
   "execution_count": 627,
   "id": "unauthorized-technician",
   "metadata": {},
   "outputs": [
    {
     "data": {
      "text/html": [
       "<div>\n",
       "<style scoped>\n",
       "    .dataframe tbody tr th:only-of-type {\n",
       "        vertical-align: middle;\n",
       "    }\n",
       "\n",
       "    .dataframe tbody tr th {\n",
       "        vertical-align: top;\n",
       "    }\n",
       "\n",
       "    .dataframe thead th {\n",
       "        text-align: right;\n",
       "    }\n",
       "</style>\n",
       "<table border=\"1\" class=\"dataframe\">\n",
       "  <thead>\n",
       "    <tr style=\"text-align: right;\">\n",
       "      <th></th>\n",
       "      <th>Fiscal Period Code</th>\n",
       "      <th>Project Number</th>\n",
       "      <th>Project Id</th>\n",
       "      <th>Project Name</th>\n",
       "      <th>Health and Safety Status</th>\n",
       "      <th>project_date_create</th>\n",
       "      <th>Project Status</th>\n",
       "      <th>SalesCloudClientNo</th>\n",
       "      <th>Related Opportunity Project Number</th>\n",
       "      <th>Contract Type Name</th>\n",
       "      <th>...</th>\n",
       "      <th>bookings_jtd</th>\n",
       "      <th>interest_current</th>\n",
       "      <th>interest_jtd</th>\n",
       "      <th>interest_ytd</th>\n",
       "      <th>multiplier_budget</th>\n",
       "      <th>multiplier_current</th>\n",
       "      <th>multiplier_target</th>\n",
       "      <th>overhead_current</th>\n",
       "      <th>overhead_rate</th>\n",
       "      <th>revenue_type</th>\n",
       "    </tr>\n",
       "  </thead>\n",
       "  <tbody>\n",
       "    <tr>\n",
       "      <th>1393984</th>\n",
       "      <td>201903</td>\n",
       "      <td>CI0016060017</td>\n",
       "      <td>E7556A2B4A8140A1BEDC250531C17086</td>\n",
       "      <td>TRRA 2019 Groundwater Monitoring</td>\n",
       "      <td>NaN</td>\n",
       "      <td>NaN</td>\n",
       "      <td>A</td>\n",
       "      <td>10239342.0</td>\n",
       "      <td>NaN</td>\n",
       "      <td>Lump Sum</td>\n",
       "      <td>...</td>\n",
       "      <td>7000.0</td>\n",
       "      <td>0.00</td>\n",
       "      <td>0.00</td>\n",
       "      <td>0.00</td>\n",
       "      <td>2.92</td>\n",
       "      <td>2.92</td>\n",
       "      <td>2.8</td>\n",
       "      <td>53.72</td>\n",
       "      <td>142.95</td>\n",
       "      <td>G</td>\n",
       "    </tr>\n",
       "    <tr>\n",
       "      <th>1420168</th>\n",
       "      <td>201904</td>\n",
       "      <td>CI0016060017</td>\n",
       "      <td>E7556A2B4A8140A1BEDC250531C17086</td>\n",
       "      <td>TRRA 2019 Groundwater Monitoring</td>\n",
       "      <td>NaN</td>\n",
       "      <td>NaN</td>\n",
       "      <td>A</td>\n",
       "      <td>10239342.0</td>\n",
       "      <td>NaN</td>\n",
       "      <td>Lump Sum</td>\n",
       "      <td>...</td>\n",
       "      <td>7000.0</td>\n",
       "      <td>-1.81</td>\n",
       "      <td>-1.81</td>\n",
       "      <td>-1.81</td>\n",
       "      <td>2.92</td>\n",
       "      <td>2.92</td>\n",
       "      <td>2.8</td>\n",
       "      <td>402.09</td>\n",
       "      <td>142.95</td>\n",
       "      <td>G</td>\n",
       "    </tr>\n",
       "    <tr>\n",
       "      <th>1471939</th>\n",
       "      <td>201905</td>\n",
       "      <td>CI0016060017</td>\n",
       "      <td>E7556A2B4A8140A1BEDC250531C17086</td>\n",
       "      <td>TRRA 2019 Groundwater Monitoring</td>\n",
       "      <td>NaN</td>\n",
       "      <td>NaN</td>\n",
       "      <td>A</td>\n",
       "      <td>10239342.0</td>\n",
       "      <td>NaN</td>\n",
       "      <td>Lump Sum</td>\n",
       "      <td>...</td>\n",
       "      <td>7000.0</td>\n",
       "      <td>-0.92</td>\n",
       "      <td>-2.73</td>\n",
       "      <td>-2.73</td>\n",
       "      <td>2.92</td>\n",
       "      <td>2.92</td>\n",
       "      <td>2.8</td>\n",
       "      <td>123.04</td>\n",
       "      <td>142.95</td>\n",
       "      <td>G</td>\n",
       "    </tr>\n",
       "    <tr>\n",
       "      <th>1507409</th>\n",
       "      <td>201906</td>\n",
       "      <td>CI0016060017</td>\n",
       "      <td>E7556A2B4A8140A1BEDC250531C17086</td>\n",
       "      <td>TRRA 2019 Groundwater Monitoring</td>\n",
       "      <td>NaN</td>\n",
       "      <td>NaN</td>\n",
       "      <td>A</td>\n",
       "      <td>10239342.0</td>\n",
       "      <td>NaN</td>\n",
       "      <td>Lump Sum</td>\n",
       "      <td>...</td>\n",
       "      <td>7000.0</td>\n",
       "      <td>4.09</td>\n",
       "      <td>1.36</td>\n",
       "      <td>1.36</td>\n",
       "      <td>2.92</td>\n",
       "      <td>2.92</td>\n",
       "      <td>2.8</td>\n",
       "      <td>1122.16</td>\n",
       "      <td>142.95</td>\n",
       "      <td>G</td>\n",
       "    </tr>\n",
       "  </tbody>\n",
       "</table>\n",
       "<p>4 rows × 45 columns</p>\n",
       "</div>"
      ],
      "text/plain": [
       "         Fiscal Period Code Project Number                        Project Id  \\\n",
       "1393984              201903   CI0016060017  E7556A2B4A8140A1BEDC250531C17086   \n",
       "1420168              201904   CI0016060017  E7556A2B4A8140A1BEDC250531C17086   \n",
       "1471939              201905   CI0016060017  E7556A2B4A8140A1BEDC250531C17086   \n",
       "1507409              201906   CI0016060017  E7556A2B4A8140A1BEDC250531C17086   \n",
       "\n",
       "                             Project Name Health and Safety Status  \\\n",
       "1393984  TRRA 2019 Groundwater Monitoring                      NaN   \n",
       "1420168  TRRA 2019 Groundwater Monitoring                      NaN   \n",
       "1471939  TRRA 2019 Groundwater Monitoring                      NaN   \n",
       "1507409  TRRA 2019 Groundwater Monitoring                      NaN   \n",
       "\n",
       "         project_date_create Project Status  SalesCloudClientNo  \\\n",
       "1393984                  NaN              A          10239342.0   \n",
       "1420168                  NaN              A          10239342.0   \n",
       "1471939                  NaN              A          10239342.0   \n",
       "1507409                  NaN              A          10239342.0   \n",
       "\n",
       "        Related Opportunity Project Number Contract Type Name  ...  \\\n",
       "1393984                                NaN           Lump Sum  ...   \n",
       "1420168                                NaN           Lump Sum  ...   \n",
       "1471939                                NaN           Lump Sum  ...   \n",
       "1507409                                NaN           Lump Sum  ...   \n",
       "\n",
       "        bookings_jtd interest_current interest_jtd interest_ytd  \\\n",
       "1393984       7000.0             0.00         0.00         0.00   \n",
       "1420168       7000.0            -1.81        -1.81        -1.81   \n",
       "1471939       7000.0            -0.92        -2.73        -2.73   \n",
       "1507409       7000.0             4.09         1.36         1.36   \n",
       "\n",
       "        multiplier_budget multiplier_current  multiplier_target  \\\n",
       "1393984              2.92               2.92                2.8   \n",
       "1420168              2.92               2.92                2.8   \n",
       "1471939              2.92               2.92                2.8   \n",
       "1507409              2.92               2.92                2.8   \n",
       "\n",
       "         overhead_current  overhead_rate  revenue_type  \n",
       "1393984             53.72         142.95             G  \n",
       "1420168            402.09         142.95             G  \n",
       "1471939            123.04         142.95             G  \n",
       "1507409           1122.16         142.95             G  \n",
       "\n",
       "[4 rows x 45 columns]"
      ]
     },
     "execution_count": 627,
     "metadata": {},
     "output_type": "execute_result"
    }
   ],
   "source": [
    "df1[df1['Project Number'] == 'CI0016060017'] #30082036 #CI001606.0017"
   ]
  },
  {
   "cell_type": "code",
   "execution_count": 628,
   "id": "breeding-integer",
   "metadata": {},
   "outputs": [
    {
     "data": {
      "text/plain": [
       "2179046"
      ]
     },
     "execution_count": 628,
     "metadata": {},
     "output_type": "execute_result"
    }
   ],
   "source": [
    "len(df1) #len(project), len(result)"
   ]
  },
  {
   "cell_type": "code",
   "execution_count": 578,
   "id": "australian-nirvana",
   "metadata": {},
   "outputs": [],
   "source": [
    "legacy = project[project['Legacy Project Number'] != 'Unspecified'] #reduces the list of projects by about 63.000 enrties"
   ]
  },
  {
   "cell_type": "code",
   "execution_count": 587,
   "id": "authentic-telephone",
   "metadata": {},
   "outputs": [
    {
     "data": {
      "text/plain": [
       "5233"
      ]
     },
     "execution_count": 587,
     "metadata": {},
     "output_type": "execute_result"
    }
   ],
   "source": [
    "len(legacy)"
   ]
  },
  {
   "cell_type": "code",
   "execution_count": 579,
   "id": "greater-agreement",
   "metadata": {},
   "outputs": [
    {
     "data": {
      "text/plain": [
       "5233"
      ]
     },
     "execution_count": 579,
     "metadata": {},
     "output_type": "execute_result"
    }
   ],
   "source": [
    "len(legacy['Project Number'].unique())"
   ]
  },
  {
   "cell_type": "code",
   "execution_count": 580,
   "id": "civilian-weapon",
   "metadata": {},
   "outputs": [
    {
     "data": {
      "text/plain": [
       "array([<class 'str'>], dtype=object)"
      ]
     },
     "execution_count": 580,
     "metadata": {},
     "output_type": "execute_result"
    }
   ],
   "source": [
    "project['Project Number'] = project['Project Number'].astype('str') \n",
    "project['Project Number'].apply(type).unique()"
   ]
  },
  {
   "cell_type": "markdown",
   "id": "descending-personal",
   "metadata": {},
   "source": [
    "## Preparing the project numbers list where we remove the unspecified"
   ]
  },
  {
   "cell_type": "code",
   "execution_count": 588,
   "id": "suffering-glucose",
   "metadata": {},
   "outputs": [],
   "source": [
    "leg = legacy[['Project Number', 'Legacy Project Number']].copy()"
   ]
  },
  {
   "cell_type": "code",
   "execution_count": 582,
   "id": "intellectual-europe",
   "metadata": {},
   "outputs": [],
   "source": [
    "#leg.drop_duplicates('Project Number', inplace=True)"
   ]
  },
  {
   "cell_type": "code",
   "execution_count": 597,
   "id": "rational-welding",
   "metadata": {},
   "outputs": [
    {
     "data": {
      "text/plain": [
       "5233"
      ]
     },
     "execution_count": 597,
     "metadata": {},
     "output_type": "execute_result"
    }
   ],
   "source": [
    "leg['Legacy Project Number'].unique()"
   ]
  },
  {
   "cell_type": "code",
   "execution_count": 598,
   "id": "geological-situation",
   "metadata": {},
   "outputs": [],
   "source": [
    "leg['Legacy Project Number'] = leg['Legacy Project Number'].str.replace('[^\\w\\s]','')"
   ]
  },
  {
   "cell_type": "markdown",
   "id": "incident-rwanda",
   "metadata": {},
   "source": [
    "## Select only the unique legacy numbers, then merge back with the project numbers, merge on project number"
   ]
  },
  {
   "cell_type": "code",
   "execution_count": 612,
   "id": "noble-smile",
   "metadata": {},
   "outputs": [],
   "source": [
    "freq=leg.groupby('Legacy Project Number')\n",
    "count =freq['Legacy Project Number'].count()"
   ]
  },
  {
   "cell_type": "code",
   "execution_count": 613,
   "id": "stylish-royal",
   "metadata": {},
   "outputs": [],
   "source": [
    "df_count=pd.DataFrame({'Legacy Project Number':count.index, 'count':count.values})"
   ]
  },
  {
   "cell_type": "code",
   "execution_count": 614,
   "id": "equivalent-butterfly",
   "metadata": {},
   "outputs": [],
   "source": [
    "df_count.sort_values('count', \n",
    "                      inplace=True, \n",
    "                      ascending=False)"
   ]
  },
  {
   "cell_type": "code",
   "execution_count": 615,
   "id": "proper-recall",
   "metadata": {},
   "outputs": [],
   "source": [
    "df_notunique = df_count[df_count['count'] == 1]"
   ]
  },
  {
   "cell_type": "code",
   "execution_count": 616,
   "id": "swedish-consideration",
   "metadata": {},
   "outputs": [
    {
     "data": {
      "text/plain": [
       "4892"
      ]
     },
     "execution_count": 616,
     "metadata": {},
     "output_type": "execute_result"
    }
   ],
   "source": [
    "len(df_notunique)"
   ]
  },
  {
   "cell_type": "code",
   "execution_count": 619,
   "id": "automatic-password",
   "metadata": {},
   "outputs": [],
   "source": [
    "leg2 = pd.merge(leg, df_notunique, on=\"Legacy Project Number\", how='inner')"
   ]
  },
  {
   "cell_type": "code",
   "execution_count": 633,
   "id": "opening-arnold",
   "metadata": {},
   "outputs": [
    {
     "data": {
      "text/html": [
       "<div>\n",
       "<style scoped>\n",
       "    .dataframe tbody tr th:only-of-type {\n",
       "        vertical-align: middle;\n",
       "    }\n",
       "\n",
       "    .dataframe tbody tr th {\n",
       "        vertical-align: top;\n",
       "    }\n",
       "\n",
       "    .dataframe thead th {\n",
       "        text-align: right;\n",
       "    }\n",
       "</style>\n",
       "<table border=\"1\" class=\"dataframe\">\n",
       "  <thead>\n",
       "    <tr style=\"text-align: right;\">\n",
       "      <th></th>\n",
       "      <th>Project Number</th>\n",
       "      <th>Legacy Project Number</th>\n",
       "      <th>count</th>\n",
       "    </tr>\n",
       "  </thead>\n",
       "  <tbody>\n",
       "    <tr>\n",
       "      <th>0</th>\n",
       "      <td>30001211</td>\n",
       "      <td>000052580000</td>\n",
       "      <td>1</td>\n",
       "    </tr>\n",
       "    <tr>\n",
       "      <th>1</th>\n",
       "      <td>30001213</td>\n",
       "      <td>000110540002</td>\n",
       "      <td>1</td>\n",
       "    </tr>\n",
       "    <tr>\n",
       "      <th>2</th>\n",
       "      <td>30001214</td>\n",
       "      <td>000110560000</td>\n",
       "      <td>1</td>\n",
       "    </tr>\n",
       "    <tr>\n",
       "      <th>3</th>\n",
       "      <td>30001219</td>\n",
       "      <td>000408190009</td>\n",
       "      <td>1</td>\n",
       "    </tr>\n",
       "    <tr>\n",
       "      <th>4</th>\n",
       "      <td>30001222</td>\n",
       "      <td>0004105381MP</td>\n",
       "      <td>1</td>\n",
       "    </tr>\n",
       "  </tbody>\n",
       "</table>\n",
       "</div>"
      ],
      "text/plain": [
       "  Project Number Legacy Project Number  count\n",
       "0       30001211          000052580000      1\n",
       "1       30001213          000110540002      1\n",
       "2       30001214          000110560000      1\n",
       "3       30001219          000408190009      1\n",
       "4       30001222          0004105381MP      1"
      ]
     },
     "execution_count": 633,
     "metadata": {},
     "output_type": "execute_result"
    }
   ],
   "source": [
    "leg2.head()"
   ]
  },
  {
   "cell_type": "code",
   "execution_count": 622,
   "id": "dietary-keeping",
   "metadata": {},
   "outputs": [],
   "source": [
    "legacydict = dict(zip(leg2['Legacy Project Number'], leg2['Project Number']))\n",
    "#legacydict = {lpn[i] : pn[i] for i in range(len(lpn))}\n",
    "#pn = leg['Project Number'].to_list()"
   ]
  },
  {
   "cell_type": "code",
   "execution_count": 629,
   "id": "literary-little",
   "metadata": {},
   "outputs": [],
   "source": [
    "df1['Project Number']=df1['Project Number'].map(legacydict).fillna(df1['Project Number'])"
   ]
  },
  {
   "cell_type": "code",
   "execution_count": 635,
   "id": "cutting-stable",
   "metadata": {},
   "outputs": [
    {
     "data": {
      "text/html": [
       "<div>\n",
       "<style scoped>\n",
       "    .dataframe tbody tr th:only-of-type {\n",
       "        vertical-align: middle;\n",
       "    }\n",
       "\n",
       "    .dataframe tbody tr th {\n",
       "        vertical-align: top;\n",
       "    }\n",
       "\n",
       "    .dataframe thead th {\n",
       "        text-align: right;\n",
       "    }\n",
       "</style>\n",
       "<table border=\"1\" class=\"dataframe\">\n",
       "  <thead>\n",
       "    <tr style=\"text-align: right;\">\n",
       "      <th></th>\n",
       "      <th>Legacy Project Number</th>\n",
       "      <th>count</th>\n",
       "    </tr>\n",
       "  </thead>\n",
       "  <tbody>\n",
       "    <tr>\n",
       "      <th>81382</th>\n",
       "      <td>nan</td>\n",
       "      <td>1306653</td>\n",
       "    </tr>\n",
       "    <tr>\n",
       "      <th>6902</th>\n",
       "      <td>30004018</td>\n",
       "      <td>27</td>\n",
       "    </tr>\n",
       "    <tr>\n",
       "      <th>7248</th>\n",
       "      <td>30004364</td>\n",
       "      <td>27</td>\n",
       "    </tr>\n",
       "    <tr>\n",
       "      <th>7224</th>\n",
       "      <td>30004340</td>\n",
       "      <td>27</td>\n",
       "    </tr>\n",
       "    <tr>\n",
       "      <th>7221</th>\n",
       "      <td>30004337</td>\n",
       "      <td>27</td>\n",
       "    </tr>\n",
       "    <tr>\n",
       "      <th>...</th>\n",
       "      <td>...</td>\n",
       "      <td>...</td>\n",
       "    </tr>\n",
       "    <tr>\n",
       "      <th>41599</th>\n",
       "      <td>30082322</td>\n",
       "      <td>1</td>\n",
       "    </tr>\n",
       "    <tr>\n",
       "      <th>41598</th>\n",
       "      <td>30082321</td>\n",
       "      <td>1</td>\n",
       "    </tr>\n",
       "    <tr>\n",
       "      <th>41597</th>\n",
       "      <td>30082320</td>\n",
       "      <td>1</td>\n",
       "    </tr>\n",
       "    <tr>\n",
       "      <th>41596</th>\n",
       "      <td>30082319</td>\n",
       "      <td>1</td>\n",
       "    </tr>\n",
       "    <tr>\n",
       "      <th>45974</th>\n",
       "      <td>B00397050011</td>\n",
       "      <td>1</td>\n",
       "    </tr>\n",
       "  </tbody>\n",
       "</table>\n",
       "<p>81383 rows × 2 columns</p>\n",
       "</div>"
      ],
      "text/plain": [
       "      Legacy Project Number    count\n",
       "81382                   nan  1306653\n",
       "6902               30004018       27\n",
       "7248               30004364       27\n",
       "7224               30004340       27\n",
       "7221               30004337       27\n",
       "...                     ...      ...\n",
       "41599              30082322        1\n",
       "41598              30082321        1\n",
       "41597              30082320        1\n",
       "41596              30082319        1\n",
       "45974          B00397050011        1\n",
       "\n",
       "[81383 rows x 2 columns]"
      ]
     },
     "execution_count": 635,
     "metadata": {},
     "output_type": "execute_result"
    }
   ],
   "source": [
    "freq=df1.groupby('Project Number')\n",
    "count =freq['Project Number'].count()\n",
    "df_count=pd.DataFrame({'Legacy Project Number':count.index, 'count':count.values})\n",
    "df_count.sort_values('count', \n",
    "                      inplace=True, \n",
    "                      ascending=False)\n",
    "df_count"
   ]
  },
  {
   "cell_type": "markdown",
   "id": "mobile-supervisor",
   "metadata": {},
   "source": [
    "## clean up the values for contract status and project status"
   ]
  },
  {
   "cell_type": "code",
   "execution_count": 646,
   "id": "continued-desert",
   "metadata": {},
   "outputs": [
    {
     "data": {
      "text/plain": [
       "Index(['Fiscal Period Code', 'Project Number', 'Project Id', 'Project Name',\n",
       "       'Health and Safety Status', 'project_date_create', 'Project Status',\n",
       "       'SalesCloudClientNo', 'Related Opportunity Project Number',\n",
       "       'Contract Type Name', 'Ultimate Customer AUS Market Sector',\n",
       "       'Division Short Name', 'location_2', 'location_4',\n",
       "       'primary_client_industry', 'Sales Cloud Opportunity Number',\n",
       "       'Funding Amount - ITC (Snapshot)', 'Backlog NR',\n",
       "       'Actual Direct Labor Cost - MTD', 'Actual Direct Labor Cost - YTD',\n",
       "       'Actual Gross Revenue - ITD', 'Actual Gross Revenue - MTD',\n",
       "       'Actual Gross Revenue - YTD', 'Actual Net Revenue - ITD',\n",
       "       'Actual Net Revenue - MTD', 'Actual Net Revenue - YTD', 'EBITA - MTD',\n",
       "       'EBITA - YTD', 'EBITA - ITD', 'Forecast Direct Labor Cost - ITC',\n",
       "       'Forecast Net Revenue - ITC', 'Order Intake (NR) - MTD',\n",
       "       'Order Intake (NR) - QTD', 'Order Intake (NR) - YTD', 'WBS1',\n",
       "       'bookings_jtd', 'interest_current', 'interest_jtd', 'interest_ytd',\n",
       "       'multiplier_budget', 'multiplier_current', 'multiplier_target',\n",
       "       'overhead_current', 'overhead_rate', 'revenue_type'],\n",
       "      dtype='object')"
      ]
     },
     "execution_count": 646,
     "metadata": {},
     "output_type": "execute_result"
    }
   ],
   "source": [
    "df1.columns"
   ]
  },
  {
   "cell_type": "code",
   "execution_count": 662,
   "id": "bridal-hundred",
   "metadata": {},
   "outputs": [
    {
     "data": {
      "text/plain": [
       "array(['Open/Active', 'Dormant', 'On Hold - Inactive', 'Closed',\n",
       "       'Closed-Open to Collect', 'Final Closure Requested', 'New',\n",
       "       'New - Pending Open/Activepproval', 'Rejected', nan,\n",
       "       'Manual_Adjust', 'Not Applicable'], dtype=object)"
      ]
     },
     "execution_count": 662,
     "metadata": {},
     "output_type": "execute_result"
    }
   ],
   "source": [
    "df1['Project Status'].unique()"
   ]
  },
  {
   "cell_type": "code",
   "execution_count": 647,
   "id": "working-while",
   "metadata": {},
   "outputs": [],
   "source": [
    "df1['Project Status']= df1['Project Status'].str.replace(r'^(A)$','Open/Active')\n",
    "df1['Project Status']= df1['Project Status'].str.replace(r'^(D)$','Dormant')\n",
    "df1['Project Status']= df1['Project Status'].str.replace(r'^(I)$','On Hold - Inactive')\n",
    "## New - pending, rejected, manual adjust are ignored for forecasting"
   ]
  },
  {
   "cell_type": "code",
   "execution_count": 682,
   "id": "animated-defensive",
   "metadata": {},
   "outputs": [
    {
     "data": {
      "text/plain": [
       "array(['Time and Material', 'Lump Sum', 'Cost plus Fixed Fee', 'D', 'N',\n",
       "       'Revenue group', 'H', nan, 'Time and Material with cap',\n",
       "       'Lump Sum with IFRS', 'Unspecified', '0', 'Not Applicable'],\n",
       "      dtype=object)"
      ]
     },
     "execution_count": 682,
     "metadata": {},
     "output_type": "execute_result"
    }
   ],
   "source": [
    "df1['Contract Type Name'].unique()"
   ]
  },
  {
   "cell_type": "code",
   "execution_count": 673,
   "id": "naval-might",
   "metadata": {},
   "outputs": [],
   "source": [
    "df1['Contract Type Name']= df1['Contract Type Name'].str.replace(r'^(T)$', 'Time and Material')\n",
    "df1['Contract Type Name']= df1['Contract Type Name'].str.replace(r'^(L)$', 'Lump Sum')\n",
    "df1['Contract Type Name']= df1['Contract Type Name'].str.replace(r'^(C)$', 'Cost plus Fixed Fee')\n",
    "df1['Contract Type Name']= df1['Contract Type Name'].str.replace(r'^(M)$', 'Lump Sum')\n",
    "\n"
   ]
  },
  {
   "cell_type": "code",
   "execution_count": 683,
   "id": "incorrect-shoulder",
   "metadata": {},
   "outputs": [],
   "source": [
    "df1.to_csv('mapped_projects.csv')"
   ]
  },
  {
   "cell_type": "markdown",
   "id": "controlling-validity",
   "metadata": {},
   "source": [
    "### Run basic analysis to understand the distribution per project type"
   ]
  },
  {
   "cell_type": "code",
   "execution_count": 684,
   "id": "laughing-shoot",
   "metadata": {},
   "outputs": [],
   "source": [
    "def analysis(column):\n",
    "    print(df1[column].unique())\n",
    "    sub = df1.groupby(column).count()\n",
    "    # plot the dataframe \n",
    "    return sub.plot(y=[\"Project Number\"], kind=\"bar\", figsize=(9, 8))"
   ]
  },
  {
   "cell_type": "code",
   "execution_count": 685,
   "id": "previous-march",
   "metadata": {},
   "outputs": [
    {
     "name": "stdout",
     "output_type": "stream",
     "text": [
      "['Time and Material' 'Lump Sum' 'Cost plus Fixed Fee' 'D' 'N'\n",
      " 'Revenue group' 'H' nan 'Time and Material with cap' 'Lump Sum with IFRS'\n",
      " 'Unspecified' '0' 'Not Applicable']\n"
     ]
    },
    {
     "data": {
      "text/plain": [
       "<AxesSubplot:xlabel='Contract Type Name'>"
      ]
     },
     "execution_count": 685,
     "metadata": {},
     "output_type": "execute_result"
    },
    {
     "data": {
      "image/png": "[encoded data removed]",
      "text/plain": [
       "<Figure size 648x576 with 1 Axes>"
      ]
     },
     "metadata": {
      "needs_background": "light"
     },
     "output_type": "display_data"
    }
   ],
   "source": [
    "analysis('Contract Type Name')"
   ]
  },
  {
   "cell_type": "code",
   "execution_count": 686,
   "id": "otherwise-thermal",
   "metadata": {},
   "outputs": [
    {
     "name": "stdout",
     "output_type": "stream",
     "text": [
      "[nan 'Consumer Goods & Retail' 'Oil & Gas' 'Fin. Institutions/Investors'\n",
      " 'Commercial Developers' 'Municipalities/Local Govt.'\n",
      " 'Water Companies/Utilities' 'Rail' 'Automotive' 'Chemicals'\n",
      " 'Conglomerates' 'Power Companies/Utilities' 'State/Regional Government'\n",
      " 'Life Sciences' 'Aerospace' 'Technology' 'Ports/Transportation'\n",
      " 'Central/Federal Government' 'Mining & Metals' 'Education' 'Intercompany'\n",
      " 'Other Private' 'Institutional Agencies' 'Healthcare' 'Non-Rail'\n",
      " 'Unspecified']\n"
     ]
    },
    {
     "data": {
      "text/plain": [
       "<AxesSubplot:xlabel='Ultimate Customer AUS Market Sector'>"
      ]
     },
     "execution_count": 686,
     "metadata": {},
     "output_type": "execute_result"
    },
    {
     "data": {
      "image/png": "[encoded data removed]",
      "text/plain": [
       "<Figure size 648x576 with 1 Axes>"
      ]
     },
     "metadata": {
      "needs_background": "light"
     },
     "output_type": "display_data"
    }
   ],
   "source": [
    "analysis('Ultimate Customer AUS Market Sector')"
   ]
  },
  {
   "cell_type": "code",
   "execution_count": 687,
   "id": "derived-projection",
   "metadata": {},
   "outputs": [
    {
     "name": "stdout",
     "output_type": "stream",
     "text": [
      "['Environment' 'Water' 'Enabling Function' 'Buildings' 'Infrastructure']\n"
     ]
    },
    {
     "data": {
      "text/plain": [
       "<AxesSubplot:xlabel='Division Short Name'>"
      ]
     },
     "execution_count": 687,
     "metadata": {},
     "output_type": "execute_result"
    },
    {
     "data": {
      "image/png": "[encoded data removed]",
      "text/plain": [
       "<Figure size 648x576 with 1 Axes>"
      ]
     },
     "metadata": {
      "needs_background": "light"
     },
     "output_type": "display_data"
    }
   ],
   "source": [
    "analysis('Division Short Name')"
   ]
  },
  {
   "cell_type": "code",
   "execution_count": 689,
   "id": "interested-rating",
   "metadata": {},
   "outputs": [
    {
     "data": {
      "text/plain": [
       "' There are 3280 unique clients'"
      ]
     },
     "execution_count": 689,
     "metadata": {},
     "output_type": "execute_result"
    }
   ],
   "source": [
    "f\" There are {len(df1['SalesCloudClientNo'].unique())} unique clients\""
   ]
  },
  {
   "cell_type": "code",
   "execution_count": 690,
   "id": "settled-intermediate",
   "metadata": {},
   "outputs": [
    {
     "data": {
      "text/plain": [
       "' There are 81383 unique projects'"
      ]
     },
     "execution_count": 690,
     "metadata": {},
     "output_type": "execute_result"
    }
   ],
   "source": [
    "f\" There are {len(df1['Project Number'].unique())} unique projects\""
   ]
  },
  {
   "cell_type": "code",
   "execution_count": 692,
   "id": "varying-passion",
   "metadata": {},
   "outputs": [
    {
     "data": {
      "text/plain": [
       "' There are 2830 projects where we have 27 datapoints'"
      ]
     },
     "execution_count": 692,
     "metadata": {},
     "output_type": "execute_result"
    }
   ],
   "source": [
    "f\" There are {len(df_count[df_count['count'] == 27])} projects where we have 27 datapoints\" "
   ]
  },
  {
   "cell_type": "markdown",
   "id": "together-thousand",
   "metadata": {},
   "source": [
    "## Figure out which Project Number is most frquent, start subsetting dfs from there, i.e. how much data is available - also how is forecasting done for projects in the beginning of the period"
   ]
  },
  {
   "cell_type": "code",
   "execution_count": 693,
   "id": "enhanced-cisco",
   "metadata": {},
   "outputs": [],
   "source": [
    "df1['Fiscal Period Code'] = pd.to_datetime(df1['Fiscal Period Code'], format='%Y%m') "
   ]
  },
  {
   "cell_type": "code",
   "execution_count": 694,
   "id": "acceptable-rouge",
   "metadata": {},
   "outputs": [
    {
     "name": "stdout",
     "output_type": "stream",
     "text": [
      "<class 'pandas.core.frame.DataFrame'>\n",
      "RangeIndex: 2179046 entries, 0 to 2179045\n",
      "Data columns (total 45 columns):\n",
      " #   Column                               Dtype         \n",
      "---  ------                               -----         \n",
      " 0   Fiscal Period Code                   datetime64[ns]\n",
      " 1   Project Number                       object        \n",
      " 2   Project Id                           object        \n",
      " 3   Project Name                         object        \n",
      " 4   Health and Safety Status             object        \n",
      " 5   project_date_create                  float64       \n",
      " 6   Project Status                       object        \n",
      " 7   SalesCloudClientNo                   float64       \n",
      " 8   Related Opportunity Project Number   object        \n",
      " 9   Contract Type Name                   object        \n",
      " 10  Ultimate Customer AUS Market Sector  object        \n",
      " 11  Division Short Name                  object        \n",
      " 12  location_2                           object        \n",
      " 13  location_4                           object        \n",
      " 14  primary_client_industry              object        \n",
      " 15  Sales Cloud Opportunity Number       object        \n",
      " 16  Funding Amount - ITC (Snapshot)      float64       \n",
      " 17  Backlog NR                           float64       \n",
      " 18  Actual Direct Labor Cost - MTD       float64       \n",
      " 19  Actual Direct Labor Cost - YTD       float64       \n",
      " 20  Actual Gross Revenue - ITD           float64       \n",
      " 21  Actual Gross Revenue - MTD           float64       \n",
      " 22  Actual Gross Revenue - YTD           float64       \n",
      " 23  Actual Net Revenue - ITD             float64       \n",
      " 24  Actual Net Revenue - MTD             float64       \n",
      " 25  Actual Net Revenue - YTD             float64       \n",
      " 26  EBITA - MTD                          float64       \n",
      " 27  EBITA - YTD                          float64       \n",
      " 28  EBITA - ITD                          float64       \n",
      " 29  Forecast Direct Labor Cost - ITC     float64       \n",
      " 30  Forecast Net Revenue - ITC           float64       \n",
      " 31  Order Intake (NR) - MTD              float64       \n",
      " 32  Order Intake (NR) - QTD              float64       \n",
      " 33  Order Intake (NR) - YTD              float64       \n",
      " 34  WBS1                                 object        \n",
      " 35  bookings_jtd                         float64       \n",
      " 36  interest_current                     float64       \n",
      " 37  interest_jtd                         float64       \n",
      " 38  interest_ytd                         float64       \n",
      " 39  multiplier_budget                    float64       \n",
      " 40  multiplier_current                   float64       \n",
      " 41  multiplier_target                    float64       \n",
      " 42  overhead_current                     float64       \n",
      " 43  overhead_rate                        float64       \n",
      " 44  revenue_type                         object        \n",
      "dtypes: datetime64[ns](1), float64(29), object(15)\n",
      "memory usage: 748.1+ MB\n"
     ]
    }
   ],
   "source": [
    "df1.info()"
   ]
  },
  {
   "cell_type": "code",
   "execution_count": 637,
   "id": "tropical-mathematics",
   "metadata": {},
   "outputs": [
    {
     "data": {
      "text/html": [
       "<div>\n",
       "<style scoped>\n",
       "    .dataframe tbody tr th:only-of-type {\n",
       "        vertical-align: middle;\n",
       "    }\n",
       "\n",
       "    .dataframe tbody tr th {\n",
       "        vertical-align: top;\n",
       "    }\n",
       "\n",
       "    .dataframe thead th {\n",
       "        text-align: right;\n",
       "    }\n",
       "</style>\n",
       "<table border=\"1\" class=\"dataframe\">\n",
       "  <thead>\n",
       "    <tr style=\"text-align: right;\">\n",
       "      <th></th>\n",
       "      <th>Legacy Project Number</th>\n",
       "      <th>count</th>\n",
       "    </tr>\n",
       "  </thead>\n",
       "  <tbody>\n",
       "    <tr>\n",
       "      <th>6902</th>\n",
       "      <td>30004018</td>\n",
       "      <td>27</td>\n",
       "    </tr>\n",
       "    <tr>\n",
       "      <th>7248</th>\n",
       "      <td>30004364</td>\n",
       "      <td>27</td>\n",
       "    </tr>\n",
       "    <tr>\n",
       "      <th>7224</th>\n",
       "      <td>30004340</td>\n",
       "      <td>27</td>\n",
       "    </tr>\n",
       "    <tr>\n",
       "      <th>7221</th>\n",
       "      <td>30004337</td>\n",
       "      <td>27</td>\n",
       "    </tr>\n",
       "    <tr>\n",
       "      <th>7217</th>\n",
       "      <td>30004333</td>\n",
       "      <td>27</td>\n",
       "    </tr>\n",
       "    <tr>\n",
       "      <th>...</th>\n",
       "      <td>...</td>\n",
       "      <td>...</td>\n",
       "    </tr>\n",
       "    <tr>\n",
       "      <th>16044</th>\n",
       "      <td>30013180</td>\n",
       "      <td>27</td>\n",
       "    </tr>\n",
       "    <tr>\n",
       "      <th>16041</th>\n",
       "      <td>30013177</td>\n",
       "      <td>27</td>\n",
       "    </tr>\n",
       "    <tr>\n",
       "      <th>16039</th>\n",
       "      <td>30013175</td>\n",
       "      <td>27</td>\n",
       "    </tr>\n",
       "    <tr>\n",
       "      <th>22402</th>\n",
       "      <td>30019579</td>\n",
       "      <td>27</td>\n",
       "    </tr>\n",
       "    <tr>\n",
       "      <th>21770</th>\n",
       "      <td>30018943</td>\n",
       "      <td>27</td>\n",
       "    </tr>\n",
       "  </tbody>\n",
       "</table>\n",
       "<p>2830 rows × 2 columns</p>\n",
       "</div>"
      ],
      "text/plain": [
       "      Legacy Project Number  count\n",
       "6902               30004018     27\n",
       "7248               30004364     27\n",
       "7224               30004340     27\n",
       "7221               30004337     27\n",
       "7217               30004333     27\n",
       "...                     ...    ...\n",
       "16044              30013180     27\n",
       "16041              30013177     27\n",
       "16039              30013175     27\n",
       "22402              30019579     27\n",
       "21770              30018943     27\n",
       "\n",
       "[2830 rows x 2 columns]"
      ]
     },
     "execution_count": 637,
     "metadata": {},
     "output_type": "execute_result"
    }
   ],
   "source": [
    "df_27 =df_count[df_count['count'] == 27] #2830 entries with 27 records"
   ]
  },
  {
   "cell_type": "code",
   "execution_count": null,
   "id": "french-teddy",
   "metadata": {},
   "outputs": [],
   "source": [
    "# create a function to create dfs\n",
    "\n",
    "def generate_dataframes(number):\n",
    "    df_number = df_count[df_count['count'] == number] \n",
    "    for x in df_number['Legacy Project Number']:\n",
    "        df.\n",
    "        \n",
    "\n",
    "#create two labels, 0 corresponding to negative, 1 to positive.\n",
    "df['label'] = 0\n",
    "for x in df.index:\n",
    "    if df.loc[x, 'overall'] > 3:\n",
    "        df.loc[x, 'label'] =  1    \n",
    "        \n",
    "        \n",
    "[[\"Fiscal Period Code\", \"Funding Amount - ITC (Snapshot)\", \"Backlog NR\", 'Actual Gross Revenue - ITD', 'Actual Gross Revenue - MTD',\n",
    "       'Actual Gross Revenue - YTD', 'Actual Net Revenue - ITD','Actual Net Revenue - MTD', 'Actual Net Revenue - YTD']].copy()        "
   ]
  },
  {
   "cell_type": "code",
   "execution_count": null,
   "id": "capable-abraham",
   "metadata": {},
   "outputs": [],
   "source": []
  },
  {
   "cell_type": "code",
   "execution_count": null,
   "id": "light-bruce",
   "metadata": {},
   "outputs": [],
   "source": []
  },
  {
   "cell_type": "code",
   "execution_count": null,
   "id": "preliminary-conference",
   "metadata": {},
   "outputs": [],
   "source": [
    "#2019 data half cut off\n",
    "df_AIR000730000 = AIR000730000[[\"Fiscal Period Code\", \"Funding Amount - ITC (Snapshot)\", \"Backlog NR\", 'Actual Gross Revenue - ITD', 'Actual Gross Revenue - MTD',\n",
    "       'Actual Gross Revenue - YTD', 'Actual Net Revenue - ITD','Actual Net Revenue - MTD', 'Actual Net Revenue - YTD']].copy()\n",
    "\n",
    "\n",
    "df_AIR000730000.set_index('Fiscal Period Code')"
   ]
  },
  {
   "cell_type": "code",
   "execution_count": 644,
   "id": "obvious-inclusion",
   "metadata": {},
   "outputs": [],
   "source": [
    "### Here I was exploring some cases\n",
    "'''\n",
    "BP 10238206.0 , mdKCAUGHHORN220630032457\n",
    "CSX 10239458.0 , ADVCLIENT3021\n",
    "df1[df1['Project Id'] == 'mdKCAUGHHORN220630032443']\n",
    "df1[df1['Project Number'].astype(str).str.contains(\"GP16BPNA\")]\n",
    "\n",
    "'''\n",
    "\n",
    "'''\n",
    "#Novartis Client\n",
    "ADVCLIENT6983 = df1[df1['Project Id'] == 'ADVCLIENT6983']\n",
    "AIR000730000 = df1[df1['Project Number'] == 'AIR000730000']\n",
    "b = df1[df1['Project Number'] == 30005629] \n",
    "AIR000730000 = pd.concat([AIR000730000, b])\n",
    "AIR000730000[AIR000730000.columns[0:20]].tail(10)\n",
    "'''\n",
    "\n",
    "'''\n",
    "#this client has lots of projects going on\n",
    "UNIVAR =df1[df1['SalesCloudClientNo'] == 10239939.0] \n",
    "#UNIVAR['Project Number'].unique()\n",
    "a=UNIVAR[UNIVAR['Project Number'] == '30018304'] \n",
    "b=UNIVAR[UNIVAR['Project Number'].astype(str).str.contains(\"TX001037\")]\n",
    "b\n",
    "\n",
    "'''\n",
    "\n",
    "'''\n",
    "df_TX001037 = pd.concat([b,a])\n",
    "df_TX001037 = df_TX001037[[\"Fiscal Period Code\", \"Funding Amount - ITC (Snapshot)\", \"Backlog NR\", 'Actual Gross Revenue - ITD', 'Actual Gross Revenue - MTD',\n",
    "       'Actual Gross Revenue - YTD', 'Actual Net Revenue - ITD','Actual Net Revenue - MTD', 'Actual Net Revenue - YTD']].copy()\n",
    "       \n",
    "#Problem with the dates here, conatins 2018 and 2019 entires, uneven recording periods\n",
    "df_TX001037       \n",
    "'''"
   ]
  }
 ],
 "metadata": {
  "kernelspec": {
   "display_name": "Python 3",
   "language": "python",
   "name": "python3"
  },
  "language_info": {
   "codemirror_mode": {
    "name": "ipython",
    "version": 3
   },
   "file_extension": ".py",
   "mimetype": "text/x-python",
   "name": "python",
   "nbconvert_exporter": "python",
   "pygments_lexer": "ipython3",
   "version": "3.7.9"
  }
 },
 "nbformat": 4,
 "nbformat_minor": 5
}
