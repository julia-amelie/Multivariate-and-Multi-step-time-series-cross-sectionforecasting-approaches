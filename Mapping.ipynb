{
 "cells": [
  {
   "cell_type": "code",
   "execution_count": 1,
   "id": "coupled-organizer",
   "metadata": {},
   "outputs": [],
   "source": [
    "import pandas as pd\n",
    "from matplotlib import pyplot\n",
    "import statsmodels as sm\n",
    "from statsmodels.tsa.stattools import adfuller\n",
    "from statsmodels.graphics.tsaplots import plot_acf, plot_pacf\n",
    "from statsmodels.tsa.arima_model import ARIMA\n",
    "import statistics"
   ]
  },
  {
   "cell_type": "code",
   "execution_count": 2,
   "id": "democratic-paint",
   "metadata": {},
   "outputs": [
    {
     "data": {
      "text/plain": [
       "'/Users/julia/Desktop/Thesis/Code Repository'"
      ]
     },
     "execution_count": 2,
     "metadata": {},
     "output_type": "execute_result"
    }
   ],
   "source": [
    "pwd()"
   ]
  },
  {
   "cell_type": "code",
   "execution_count": 472,
   "id": "departmental-silver",
   "metadata": {},
   "outputs": [],
   "source": [
    "project = pd.read_csv('projectnumber.csv', sep=';')"
   ]
  },
  {
   "cell_type": "code",
   "execution_count": 4,
   "id": "loving-pacific",
   "metadata": {},
   "outputs": [
    {
     "data": {
      "text/html": [
       "<div>\n",
       "<style scoped>\n",
       "    .dataframe tbody tr th:only-of-type {\n",
       "        vertical-align: middle;\n",
       "    }\n",
       "\n",
       "    .dataframe tbody tr th {\n",
       "        vertical-align: top;\n",
       "    }\n",
       "\n",
       "    .dataframe thead th {\n",
       "        text-align: right;\n",
       "    }\n",
       "</style>\n",
       "<table border=\"1\" class=\"dataframe\">\n",
       "  <thead>\n",
       "    <tr style=\"text-align: right;\">\n",
       "      <th></th>\n",
       "      <th>Project Number</th>\n",
       "      <th>Legacy Project Number</th>\n",
       "    </tr>\n",
       "  </thead>\n",
       "  <tbody>\n",
       "    <tr>\n",
       "      <th>0</th>\n",
       "      <td>30000000</td>\n",
       "      <td>Unspecified</td>\n",
       "    </tr>\n",
       "    <tr>\n",
       "      <th>1</th>\n",
       "      <td>30001202</td>\n",
       "      <td>Unspecified</td>\n",
       "    </tr>\n",
       "    <tr>\n",
       "      <th>2</th>\n",
       "      <td>30001203</td>\n",
       "      <td>Unspecified</td>\n",
       "    </tr>\n",
       "    <tr>\n",
       "      <th>3</th>\n",
       "      <td>30001204</td>\n",
       "      <td>Unspecified</td>\n",
       "    </tr>\n",
       "    <tr>\n",
       "      <th>4</th>\n",
       "      <td>30001205</td>\n",
       "      <td>Unspecified</td>\n",
       "    </tr>\n",
       "    <tr>\n",
       "      <th>...</th>\n",
       "      <td>...</td>\n",
       "      <td>...</td>\n",
       "    </tr>\n",
       "    <tr>\n",
       "      <th>65529</th>\n",
       "      <td>30082912</td>\n",
       "      <td>Unspecified</td>\n",
       "    </tr>\n",
       "    <tr>\n",
       "      <th>65530</th>\n",
       "      <td>30082914</td>\n",
       "      <td>Unspecified</td>\n",
       "    </tr>\n",
       "    <tr>\n",
       "      <th>65531</th>\n",
       "      <td>30082919</td>\n",
       "      <td>Unspecified</td>\n",
       "    </tr>\n",
       "    <tr>\n",
       "      <th>65532</th>\n",
       "      <td>30082920</td>\n",
       "      <td>Unspecified</td>\n",
       "    </tr>\n",
       "    <tr>\n",
       "      <th>65533</th>\n",
       "      <td>30082922</td>\n",
       "      <td>Unspecified</td>\n",
       "    </tr>\n",
       "  </tbody>\n",
       "</table>\n",
       "<p>65534 rows × 2 columns</p>\n",
       "</div>"
      ],
      "text/plain": [
       "      Project Number Legacy Project Number\n",
       "0           30000000           Unspecified\n",
       "1           30001202           Unspecified\n",
       "2           30001203           Unspecified\n",
       "3           30001204           Unspecified\n",
       "4           30001205           Unspecified\n",
       "...              ...                   ...\n",
       "65529       30082912           Unspecified\n",
       "65530       30082914           Unspecified\n",
       "65531       30082919           Unspecified\n",
       "65532       30082920           Unspecified\n",
       "65533       30082922           Unspecified\n",
       "\n",
       "[65534 rows x 2 columns]"
      ]
     },
     "execution_count": 4,
     "metadata": {},
     "output_type": "execute_result"
    }
   ],
   "source": [
    "project"
   ]
  },
  {
   "cell_type": "code",
   "execution_count": 492,
   "id": "legendary-workstation",
   "metadata": {},
   "outputs": [
    {
     "name": "stderr",
     "output_type": "stream",
     "text": [
      "/Users/julia/opt/anaconda3/lib/python3.7/site-packages/IPython/core/interactiveshell.py:3156: DtypeWarning: Columns (2,3,4,5,6,8,12,13,14,16,18,19,20,23,24,26,27,32,33,34,35,38,40,41,42,43,44,45,46,47,48,49,51,52,53,54,55,56,59,60,61,62,79,80,95,96,97,98,100,112,113,114,115,116,117,122,126,127,128,129,130,131,132,138,143,144,145,159,163,164,166,169,172,175,176,201,202) have mixed types.Specify dtype option on import or set low_memory=False.\n",
      "  interactivity=interactivity, compiler=compiler, result=result)\n"
     ]
    }
   ],
   "source": [
    "df = pd.read_csv('portfolio.csv') #low_memory=False"
   ]
  },
  {
   "cell_type": "code",
   "execution_count": 6,
   "id": "looking-riding",
   "metadata": {},
   "outputs": [
    {
     "name": "stderr",
     "output_type": "stream",
     "text": [
      "/Users/julia/opt/anaconda3/lib/python3.7/site-packages/IPython/core/interactiveshell.py:3156: DtypeWarning: Columns (2,3,5,9,11,13,14,15,16,35,45) have mixed types.Specify dtype option on import or set low_memory=False.\n",
      "  interactivity=interactivity, compiler=compiler, result=result)\n"
     ]
    }
   ],
   "source": [
    "df1 = pd.read_csv('result.csv')"
   ]
  },
  {
   "cell_type": "code",
   "execution_count": 10,
   "id": "black-medicaid",
   "metadata": {},
   "outputs": [],
   "source": [
    "columnlist=df.columns.tolist()"
   ]
  },
  {
   "cell_type": "code",
   "execution_count": 11,
   "id": "vital-smoke",
   "metadata": {},
   "outputs": [
    {
     "name": "stdout",
     "output_type": "stream",
     "text": [
      "['Fiscal Period Code', 'Project Number', 'Project Agreement Type', 'Project Id', 'Project Last Approved Forecast Date', 'Project Location', 'Project Manager Employee Number (Current)', 'Project Manager Name (Current)', 'Project Name', 'Project Status', 'Project Type', 'Ultimate Customer AUS Market Sector', 'Ultimate Customer Account Leader', 'Ultimate Customer NV Market Sector', 'Ultimate Customer Name', 'Ultimate Customer Number', 'Ultimate Customer Organization Size', 'Ultimate Parent AUS Market Sector', 'Ultimate Parent Account Leader', 'Ultimate Parent NV Market Sector', 'Ultimate Parent Name', 'Ultimate Parent Number', 'Ultimate Parent Organization Size', 'Sales Cloud Opportunity Number', 'SalesCloudClientNo', 'Contract Name', 'Contract Number', 'Contract Type Name', 'Region', 'City', 'Country', 'Country Name', 'CustGlobalServiceType', 'CustMarketSector', 'CustPrimaryMarketArea', 'Customer Number', 'Division Name', 'Parent Name', 'Parent Number', 'Portfolio Director Name', 'Portfolio Director Number', 'Account Leader', 'Proj_CVP', 'Proj_Serv_Offering', 'Related Opportunity Project Number', 'Related Portfolio', 'Related Project Number', 'billing_client_id', 'billing_client_name', 'billing_client_number', 'CVP Description', '\\ufeffCVP Code', 'AUS Mkt Sector Aggregate', 'BUL1 Name', 'BUL2 Name', 'BUL3 Name', 'Local Reporting 1', 'Local Reporting 2', 'Local Reporting 3', 'Local Reporting 4', 'Local Reporting 5', 'Local Reporting 6', 'Actual Direct Labor Cost - ITD', 'Actual Direct Labor Cost - MTD', 'Actual Direct Labor Cost - QTD', 'Actual Direct Labor Cost - YTD', 'Actual Gross Revenue - ITD', 'Actual Gross Revenue - MTD', 'Actual Gross Revenue - QTD', 'Actual Gross Revenue - YTD', 'Actual Net Revenue - ITD', 'Actual Net Revenue - MTD', 'Actual Net Revenue - QTD', 'Actual Net Revenue - YTD', 'Actual Non-Labor Cost - ITD', 'Actual Non-Labor Cost - MTD', 'Actual Non-Labor Cost - QTD', 'Actual Non-Labor Cost - YTD', 'Adjustment_Record', 'BUC Area', 'Backlog Adj - GR', 'Backlog Adj - NR', 'Backlog GR', 'Backlog GR - Start Month', 'Backlog GR - Start Quarter', 'Backlog GR - Start Year', 'Backlog Gross Revenue - Project Owning', 'Backlog NR', 'Backlog NR - Start Month', 'Backlog NR - Start Quarter', 'Backlog NR - Start Year', 'Backlog Net Revenue - Project Owning', 'Baseline GR', 'Baseline NR', 'Beyond_Client_Segment', 'Beyond_Geograhical', 'Beyond_Level_1', 'Beyond_Level_2', 'Break Even Multiplier - Project', 'Confidentiality', 'EBITA - MTD', 'EBITA - YTD', 'EBITA_overhead_YTD', 'EBITA_overhead_current', 'EBITA_overhead_qtd', 'EBITA_overhead_rate', 'Forecast Direct Labor Cost - ITC', 'Forecast Gross Revenue - ITC', 'Forecast Net Revenue - ITC', 'Forecast Non-Labor Cost - ITC', 'Funding Amount - ITC (Snapshot)', 'GBL Code', 'GBL Description', 'GRiP', 'Health and Safety Status', 'Legacy Project Number', 'One_Off_Flag', 'Order Intake (GR) - MTD', 'Order Intake (GR) - QTD', 'Order Intake (GR) - YTD', 'Order Intake (NR) -  Potential', 'Order Intake (NR) -  Potential Reasoning', 'Order Intake (NR) - MTD', 'Order Intake (NR) - QTD', 'Order Intake (NR) - YTD', 'Organization Size', 'RevGroupAdj', 'Revenue Group Correction', 'Review Regime', 'Risk Profile', 'Sustainable Project', 'WBS1', 'ar_31_60', 'ar_over_60', 'ar_total', 'ar_unbilled_total', 'bookings_jtd', 'createdate', 'interest_current', 'interest_jtd', 'interest_qtd', 'interest_ytd', 'last_forecast_date', 'location_2', 'location_4', 'multiplier_budget', 'multiplier_current', 'multiplier_jtd', 'multiplier_target', 'multiplier_var_target_current', 'multiplier_var_target_jtd', 'multiplier_var_target_qtd', 'multiplier_var_target_ytd', 'multiplier_ytd', 'overhead_current', 'overhead_qtd', 'overhead_rate', 'overhead_ytd', 'primary_client_industry', 'project_date_create', 'retainage_total', 'revenue_prev3months', 'revenue_type', 'revgroup_project_number', 'riskrating_project', 'tertiary_global_priority_code', 'unbilled_total', 'Division Short Name', 'GKC_RKC', 'EBITA - QTD', 'EBITA - ITD', 'Billing Customer Number', 'Ultimate Parent Account Id', 'Ultimate \\ufeffCustomer Account Id', 'Ultimate Customer Account Owner', 'Contract Customer Number', 'Total WIP', 'Positive WIP', 'Current', '31-60 days', '61-90 days', '91-120 days', '> 120 days', 'Gross Revenue last 3 months', 'Total Billed', 'Tot Recd', 'Balance', 'Total Aging', 'Current (Not Overdue)', '1-30 Days Overdue', '31-60 Days Overdue', '61-90 Days Overdue', '91-180 Days Overdue', '181-360 Days Overdue', '361+ Days Overdue', 'Project Last Approved Forecast', 'Budget Gross Revenue - ITC', 'Budget Non-Labor Cost - ITC', 'Budget Net Revenue - ITC', 'Budget Direct Labor Cost - ITC', 'Contract Customer Name', 'Contract Customer Market Sector', 'Remaining AR Invoice Amount']\n"
     ]
    }
   ],
   "source": [
    "print(columnlist)"
   ]
  },
  {
   "cell_type": "code",
   "execution_count": 8,
   "id": "informational-gazette",
   "metadata": {},
   "outputs": [],
   "source": [
    "df = df.loc[:, ~df.columns.str.contains('^Unnamed')]"
   ]
  },
  {
   "cell_type": "code",
   "execution_count": 9,
   "id": "suburban-taylor",
   "metadata": {},
   "outputs": [
    {
     "data": {
      "text/plain": [
       "2179046"
      ]
     },
     "execution_count": 9,
     "metadata": {},
     "output_type": "execute_result"
    }
   ],
   "source": [
    "len(df) #len(df1)"
   ]
  },
  {
   "cell_type": "markdown",
   "id": "dramatic-islam",
   "metadata": {},
   "source": [
    "## We select the columns that are really revlevnat for our analysis"
   ]
  },
  {
   "cell_type": "code",
   "execution_count": 493,
   "id": "challenging-image",
   "metadata": {},
   "outputs": [],
   "source": [
    "df1 = df[[\"Fiscal Period Code\",\n",
    "\"Project Number\",\n",
    "\"Project Id\",\n",
    "\"Project Name\",\n",
    "\"Health and Safety Status\",\n",
    "\"project_date_create\",\n",
    "\"Project Status\",\n",
    "\"SalesCloudClientNo\",\n",
    "\"Related Opportunity Project Number\",\n",
    "\"Contract Type Name\",\n",
    "\"Ultimate Customer AUS Market Sector\",\n",
    "\"Division Short Name\",\n",
    "\"location_2\", \n",
    "\"location_4\",\n",
    "\"Region\",\n",
    "\"City\", \n",
    "\"Country\", \n",
    "\"Country Name\",\n",
    "\"Proj_CVP\",\n",
    "\"Proj_Serv_Offering\", \n",
    "\"CVP Description\",\n",
    "\"\\ufeffCVP Code\",\n",
    "\"primary_client_industry\",\n",
    "\"Sales Cloud Opportunity Number\",\n",
    "\"Funding Amount - ITC (Snapshot)\",\n",
    "\"Backlog NR\",\n",
    "\"Actual Direct Labor Cost - MTD\",\n",
    "\"Actual Non-Labor Cost - MTD\",\n",
    "\"Actual Gross Revenue - MTD\",\n",
    "\"Actual Net Revenue - MTD\",\n",
    "\"EBITA - MTD\",\n",
    "\"Forecast Direct Labor Cost - ITC\",\n",
    "\"Forecast Net Revenue - ITC\",\n",
    "\"Order Intake (NR) - MTD\",\n",
    "\"WBS1\",\n",
    "\"bookings_jtd\",\n",
    "\"interest_current\",\n",
    "\"interest_jtd\",\n",
    "\"interest_ytd\",\n",
    "\"multiplier_budget\",\n",
    "\"multiplier_current\",\n",
    "\"multiplier_target\",\n",
    "\"overhead_current\", \n",
    "\"overhead_rate\",\n",
    "\"revenue_type\", \n",
    "\"AUS Mkt Sector Aggregate\",\n",
    "\"Baseline NR\", \n",
    "\"Break Even Multiplier - Project\",\n",
    "\"GBL Description\",\n",
    "\"Legacy Project Number\",\n",
    "\"Organization Size\",\n",
    "\"Risk Profile\",\n",
    "\"Sustainable Project\", \n",
    "\"interest_current\",\n",
    "\"riskrating_project\",\n",
    "\"Total WIP\",\n",
    "\"Positive WIP\",\n",
    "\"Total Aging\",\n",
    "]].copy()"
   ]
  },
  {
   "cell_type": "code",
   "execution_count": 332,
   "id": "legal-blast",
   "metadata": {},
   "outputs": [
    {
     "data": {
      "text/plain": [
       "2179046"
      ]
     },
     "execution_count": 332,
     "metadata": {},
     "output_type": "execute_result"
    }
   ],
   "source": [
    "len(df1)"
   ]
  },
  {
   "cell_type": "code",
   "execution_count": 494,
   "id": "compact-miniature",
   "metadata": {},
   "outputs": [],
   "source": [
    "df1.to_csv('subportfolio.csv')"
   ]
  },
  {
   "cell_type": "code",
   "execution_count": 495,
   "id": "certain-billion",
   "metadata": {},
   "outputs": [
    {
     "data": {
      "text/plain": [
       "array([<class 'str'>], dtype=object)"
      ]
     },
     "execution_count": 495,
     "metadata": {},
     "output_type": "execute_result"
    }
   ],
   "source": [
    "df1 = df1.loc[:, ~df1.columns.str.contains('^Unnamed')]\n",
    "df1['Project Number'] = df1['Project Number'].astype('str') \n",
    "df1['Project Number'] = df1['Project Number'].apply(lambda x: x.strip())\n",
    "df1['Project Number'].apply(type).unique()"
   ]
  },
  {
   "cell_type": "code",
   "execution_count": 10,
   "id": "outstanding-integration",
   "metadata": {},
   "outputs": [
    {
     "data": {
      "text/plain": [
       "2179046"
      ]
     },
     "execution_count": 10,
     "metadata": {},
     "output_type": "execute_result"
    }
   ],
   "source": [
    "len(df1) #len(project), len(result)"
   ]
  },
  {
   "cell_type": "code",
   "execution_count": 21,
   "id": "appreciated-absence",
   "metadata": {},
   "outputs": [
    {
     "data": {
      "text/plain": [
       "Index(['Fiscal Period Code', 'Project Number', 'Project Id', 'Project Name',\n",
       "       'Health and Safety Status', 'project_date_create', 'Project Status',\n",
       "       'SalesCloudClientNo', 'Related Opportunity Project Number',\n",
       "       'Contract Type Name', 'Ultimate Customer AUS Market Sector',\n",
       "       'Division Short Name', 'location_2', 'location_4', 'Region', 'City',\n",
       "       'Country', 'Country Name', 'Proj_CVP', 'Proj_Serv_Offering',\n",
       "       'CVP Description', '﻿CVP Code', 'primary_client_industry',\n",
       "       'Sales Cloud Opportunity Number', 'Funding Amount - ITC (Snapshot)',\n",
       "       'Backlog NR', 'Actual Direct Labor Cost - MTD',\n",
       "       'Actual Non-Labor Cost - MTD', 'Actual Gross Revenue - MTD',\n",
       "       'Actual Net Revenue - MTD', 'EBITA - MTD',\n",
       "       'Forecast Direct Labor Cost - ITC', 'Forecast Net Revenue - ITC',\n",
       "       'Order Intake (NR) - MTD', 'WBS1', 'bookings_jtd', 'interest_current',\n",
       "       'interest_jtd', 'interest_ytd', 'multiplier_budget',\n",
       "       'multiplier_current', 'multiplier_target', 'overhead_current',\n",
       "       'overhead_rate', 'revenue_type', 'AUS Mkt Sector Aggregate',\n",
       "       'Baseline NR', 'Break Even Multiplier - Project', 'GBL Description',\n",
       "       'Legacy Project Number', 'Organization Size', 'Risk Profile',\n",
       "       'Sustainable Project', 'interest_current', 'riskrating_project',\n",
       "       'Total WIP', 'Positive WIP', 'Total Aging'],\n",
       "      dtype='object')"
      ]
     },
     "execution_count": 21,
     "metadata": {},
     "output_type": "execute_result"
    }
   ],
   "source": [
    "df1.columns"
   ]
  },
  {
   "cell_type": "markdown",
   "id": "auburn-virgin",
   "metadata": {},
   "source": [
    "## Let's replace legacy numbers with new project numbers based on info from dataframe"
   ]
  },
  {
   "cell_type": "code",
   "execution_count": 496,
   "id": "harmful-roulette",
   "metadata": {},
   "outputs": [],
   "source": [
    "#replace all NaNs for df1\n",
    "df1['Legacy Project Number'] = df1['Legacy Project Number'].astype('str') \n",
    "df1['Legacy Project Number']= df1['Legacy Project Number'].str.replace(r'^(NaN)$','Unspecified')\n",
    "df1['Legacy Project Number']= df1['Legacy Project Number'].str.replace(r'^(nan)$','Unspecified')\n",
    "df1['Project Number'] = df1['Project Number'].astype('str') \n",
    "df1['Project Number'] = df1['Project Number'].str.replace(r'^(NaN)$','Unspecified')\n",
    "df1['Project Number'] = df1['Project Number'].str.replace(r'^(nan)$','Unspecified')\n",
    "\n",
    "#replace all NaNs for legacy project file\n",
    "project['Project Number'] = project['Project Number'].astype('str') \n",
    "project['Project Number'] = project['Project Number'].str.replace(r'^(NaN)$','Unspecified')\n",
    "project['Project Number'] = project['Project Number'].str.replace(r'^(nan)$','Unspecified')\n",
    "project['Legacy Project Number'] = project['Legacy Project Number'].astype('str') \n",
    "project['Legacy Project Number']= project['Legacy Project Number'].str.replace(r'^(NaN)$','Unspecified')\n",
    "project['Legacy Project Number']= project['Legacy Project Number'].str.replace(r'^(nan)$','Unspecified')"
   ]
  },
  {
   "cell_type": "code",
   "execution_count": 497,
   "id": "unauthorized-determination",
   "metadata": {},
   "outputs": [
    {
     "data": {
      "text/plain": [
       "377977"
      ]
     },
     "execution_count": 497,
     "metadata": {},
     "output_type": "execute_result"
    }
   ],
   "source": [
    "legacydf =df1[df1['Legacy Project Number'] != 'Unspecified']\n",
    "legacydf = legacydf[legacydf['Project Number'] != 'Unspecified']\n",
    "len(legacydf)"
   ]
  },
  {
   "cell_type": "code",
   "execution_count": 498,
   "id": "criminal-envelope",
   "metadata": {},
   "outputs": [
    {
     "data": {
      "text/plain": [
       "20157"
      ]
     },
     "execution_count": 498,
     "metadata": {},
     "output_type": "execute_result"
    }
   ],
   "source": [
    "#Only use unique combinations\n",
    "legacydf_pn = (legacydf.drop_duplicates(subset='Project Number', keep= 'first').reset_index(drop=True))\n",
    "len(legacydf_pn)"
   ]
  },
  {
   "cell_type": "code",
   "execution_count": 499,
   "id": "mineral-narrow",
   "metadata": {},
   "outputs": [
    {
     "data": {
      "text/html": [
       "<div>\n",
       "<style scoped>\n",
       "    .dataframe tbody tr th:only-of-type {\n",
       "        vertical-align: middle;\n",
       "    }\n",
       "\n",
       "    .dataframe tbody tr th {\n",
       "        vertical-align: top;\n",
       "    }\n",
       "\n",
       "    .dataframe thead th {\n",
       "        text-align: right;\n",
       "    }\n",
       "</style>\n",
       "<table border=\"1\" class=\"dataframe\">\n",
       "  <thead>\n",
       "    <tr style=\"text-align: right;\">\n",
       "      <th></th>\n",
       "      <th>Legacy Project Number</th>\n",
       "      <th>Project Number</th>\n",
       "      <th>count</th>\n",
       "    </tr>\n",
       "  </thead>\n",
       "  <tbody>\n",
       "  </tbody>\n",
       "</table>\n",
       "</div>"
      ],
      "text/plain": [
       "Empty DataFrame\n",
       "Columns: [Legacy Project Number, Project Number, count]\n",
       "Index: []"
      ]
     },
     "execution_count": 499,
     "metadata": {},
     "output_type": "execute_result"
    }
   ],
   "source": [
    "## There are no doubles! so let\n",
    "df_count=legacydf_pn.groupby(['Legacy Project Number','Project Number']).size().reset_index().rename(columns={0:'count'})\n",
    "df_count=df_count[df_count['count'] > 1]\n",
    "df_count.sort_values('count', inplace=True, ascending=False)\n",
    "df_count"
   ]
  },
  {
   "cell_type": "code",
   "execution_count": 500,
   "id": "popular-teach",
   "metadata": {},
   "outputs": [],
   "source": [
    "#subset df\n",
    "leg = legacydf_pn[['Project Number', 'Legacy Project Number']].copy()\n",
    "\n",
    "#make sure that the datatype is correct\n",
    "leg['Project Number'] = leg['Project Number'].astype('str') \n",
    "leg['Legacy Project Number'] = leg['Legacy Project Number'].astype('str') \n",
    "\n",
    "\n",
    "#remove punctuation\n",
    "leg['Legacy Project Number'] = leg['Legacy Project Number'].str.replace(r'.','')\n",
    "leg['Project Number'] = leg['Project Number'].str.replace(r'.','')\n",
    "\n",
    "#zip into dict\n",
    "legacydict = dict(zip(leg['Legacy Project Number'], leg['Project Number']))"
   ]
  },
  {
   "cell_type": "code",
   "execution_count": null,
   "id": "exclusive-buyer",
   "metadata": {},
   "outputs": [],
   "source": []
  },
  {
   "cell_type": "code",
   "execution_count": 501,
   "id": "deadly-religion",
   "metadata": {},
   "outputs": [],
   "source": [
    "#Make sure that there is no punctuation in the original df as well\n",
    "\n",
    "df1['Project Number'] = df1['Project Number'].astype('str')\n",
    "df1['Project Number'] = df1['Project Number'].str.replace(r'.','')\n",
    "\n",
    "# replace dict values in dataframe df1\n",
    "df1['Project Number']=df1['Project Number'].map(legacydict).fillna(df1['Project Number'])"
   ]
  },
  {
   "cell_type": "code",
   "execution_count": 502,
   "id": "facial-unemployment",
   "metadata": {},
   "outputs": [
    {
     "data": {
      "text/plain": [
       "(19606, 2179046)"
      ]
     },
     "execution_count": 502,
     "metadata": {},
     "output_type": "execute_result"
    }
   ],
   "source": [
    "len(legacydict), len(df1)"
   ]
  },
  {
   "cell_type": "code",
   "execution_count": null,
   "id": "political-marriage",
   "metadata": {},
   "outputs": [],
   "source": []
  },
  {
   "cell_type": "code",
   "execution_count": 503,
   "id": "consolidated-equipment",
   "metadata": {},
   "outputs": [
    {
     "data": {
      "text/html": [
       "<div>\n",
       "<style scoped>\n",
       "    .dataframe tbody tr th:only-of-type {\n",
       "        vertical-align: middle;\n",
       "    }\n",
       "\n",
       "    .dataframe tbody tr th {\n",
       "        vertical-align: top;\n",
       "    }\n",
       "\n",
       "    .dataframe thead th {\n",
       "        text-align: right;\n",
       "    }\n",
       "</style>\n",
       "<table border=\"1\" class=\"dataframe\">\n",
       "  <thead>\n",
       "    <tr style=\"text-align: right;\">\n",
       "      <th></th>\n",
       "      <th>Fiscal Period Code</th>\n",
       "      <th>Project Number</th>\n",
       "      <th>Project Id</th>\n",
       "      <th>Project Name</th>\n",
       "      <th>Health and Safety Status</th>\n",
       "      <th>project_date_create</th>\n",
       "      <th>Project Status</th>\n",
       "      <th>SalesCloudClientNo</th>\n",
       "      <th>Related Opportunity Project Number</th>\n",
       "      <th>Contract Type Name</th>\n",
       "      <th>...</th>\n",
       "      <th>GBL Description</th>\n",
       "      <th>Legacy Project Number</th>\n",
       "      <th>Organization Size</th>\n",
       "      <th>Risk Profile</th>\n",
       "      <th>Sustainable Project</th>\n",
       "      <th>interest_current</th>\n",
       "      <th>riskrating_project</th>\n",
       "      <th>Total WIP</th>\n",
       "      <th>Positive WIP</th>\n",
       "      <th>Total Aging</th>\n",
       "    </tr>\n",
       "  </thead>\n",
       "  <tbody>\n",
       "  </tbody>\n",
       "</table>\n",
       "<p>0 rows × 58 columns</p>\n",
       "</div>"
      ],
      "text/plain": [
       "Empty DataFrame\n",
       "Columns: [Fiscal Period Code, Project Number, Project Id, Project Name, Health and Safety Status, project_date_create, Project Status, SalesCloudClientNo, Related Opportunity Project Number, Contract Type Name, Ultimate Customer AUS Market Sector, Division Short Name, location_2, location_4, Region, City, Country, Country Name, Proj_CVP, Proj_Serv_Offering, CVP Description, ﻿CVP Code, primary_client_industry, Sales Cloud Opportunity Number, Funding Amount - ITC (Snapshot), Backlog NR, Actual Direct Labor Cost - MTD, Actual Non-Labor Cost - MTD, Actual Gross Revenue - MTD, Actual Net Revenue - MTD, EBITA - MTD, Forecast Direct Labor Cost - ITC, Forecast Net Revenue - ITC, Order Intake (NR) - MTD, WBS1, bookings_jtd, interest_current, interest_jtd, interest_ytd, multiplier_budget, multiplier_current, multiplier_target, overhead_current, overhead_rate, revenue_type, AUS Mkt Sector Aggregate, Baseline NR, Break Even Multiplier - Project, GBL Description, Legacy Project Number, Organization Size, Risk Profile, Sustainable Project, interest_current, riskrating_project, Total WIP, Positive WIP, Total Aging]\n",
       "Index: []\n",
       "\n",
       "[0 rows x 58 columns]"
      ]
     },
     "execution_count": 503,
     "metadata": {},
     "output_type": "execute_result"
    }
   ],
   "source": [
    "## double check of an example  \n",
    "df1[df1['Project Number'] == 'B00179270001-CSX Warm Springs, GA'].head() #007267880A04 #30001617 30055008,\"B00179270001-CSX Warm Springs, GA\""
   ]
  },
  {
   "cell_type": "markdown",
   "id": "appreciated-purse",
   "metadata": {},
   "source": [
    "### Now we add the external list of project Numbers as well"
   ]
  },
  {
   "cell_type": "code",
   "execution_count": 129,
   "id": "fiscal-milan",
   "metadata": {},
   "outputs": [
    {
     "data": {
      "text/html": [
       "<div>\n",
       "<style scoped>\n",
       "    .dataframe tbody tr th:only-of-type {\n",
       "        vertical-align: middle;\n",
       "    }\n",
       "\n",
       "    .dataframe tbody tr th {\n",
       "        vertical-align: top;\n",
       "    }\n",
       "\n",
       "    .dataframe thead th {\n",
       "        text-align: right;\n",
       "    }\n",
       "</style>\n",
       "<table border=\"1\" class=\"dataframe\">\n",
       "  <thead>\n",
       "    <tr style=\"text-align: right;\">\n",
       "      <th></th>\n",
       "      <th>Project Number</th>\n",
       "      <th>Legacy Project Number</th>\n",
       "    </tr>\n",
       "  </thead>\n",
       "  <tbody>\n",
       "    <tr>\n",
       "      <th>count</th>\n",
       "      <td>65534</td>\n",
       "      <td>65533</td>\n",
       "    </tr>\n",
       "    <tr>\n",
       "      <th>unique</th>\n",
       "      <td>65534</td>\n",
       "      <td>5026</td>\n",
       "    </tr>\n",
       "    <tr>\n",
       "      <th>top</th>\n",
       "      <td>30034996</td>\n",
       "      <td>Unspecified</td>\n",
       "    </tr>\n",
       "    <tr>\n",
       "      <th>freq</th>\n",
       "      <td>1</td>\n",
       "      <td>60301</td>\n",
       "    </tr>\n",
       "  </tbody>\n",
       "</table>\n",
       "</div>"
      ],
      "text/plain": [
       "       Project Number Legacy Project Number\n",
       "count           65534                 65533\n",
       "unique          65534                  5026\n",
       "top          30034996           Unspecified\n",
       "freq                1                 60301"
      ]
     },
     "execution_count": 129,
     "metadata": {},
     "output_type": "execute_result"
    }
   ],
   "source": [
    "project.describe()"
   ]
  },
  {
   "cell_type": "code",
   "execution_count": 504,
   "id": "german-motivation",
   "metadata": {},
   "outputs": [
    {
     "data": {
      "text/plain": [
       "array([<class 'str'>], dtype=object)"
      ]
     },
     "execution_count": 504,
     "metadata": {},
     "output_type": "execute_result"
    }
   ],
   "source": [
    "#reduces the list of projects by about 63.000 enrties\n",
    "legacy = project[project['Legacy Project Number'] != 'Unspecified']\n",
    "legacy = legacy[legacy['Project Number'] != 'Unspecified']\n",
    "\n",
    "legacy['Project Number'] = legacy['Project Number'].astype('str') \n",
    "legacy['Project Number'].apply(type).unique()"
   ]
  },
  {
   "cell_type": "code",
   "execution_count": 505,
   "id": "future-budapest",
   "metadata": {},
   "outputs": [
    {
     "data": {
      "text/plain": [
       "(5232, 65534)"
      ]
     },
     "execution_count": 505,
     "metadata": {},
     "output_type": "execute_result"
    }
   ],
   "source": [
    "len(legacy), len(project)"
   ]
  },
  {
   "cell_type": "code",
   "execution_count": 506,
   "id": "partial-object",
   "metadata": {},
   "outputs": [
    {
     "data": {
      "text/plain": [
       "(5025, 5232)"
      ]
     },
     "execution_count": 506,
     "metadata": {},
     "output_type": "execute_result"
    }
   ],
   "source": [
    "#We can see that there are more project numbers than legacy numbers\n",
    "legacy['Legacy Project Number'].nunique(), legacy['Project Number'].nunique()"
   ]
  },
  {
   "cell_type": "markdown",
   "id": "occupied-breath",
   "metadata": {},
   "source": [
    "## Preparing the project numbers list where we remove the unspecified"
   ]
  },
  {
   "cell_type": "code",
   "execution_count": 507,
   "id": "micro-picture",
   "metadata": {},
   "outputs": [
    {
     "data": {
      "text/plain": [
       "5232"
      ]
     },
     "execution_count": 507,
     "metadata": {},
     "output_type": "execute_result"
    }
   ],
   "source": [
    "#So first we only keep unique project Numbers\n",
    "legacy = (legacy.drop_duplicates(subset='Project Number', keep= 'first').reset_index(drop=True))\n",
    "len(legacy)"
   ]
  },
  {
   "cell_type": "code",
   "execution_count": 508,
   "id": "global-fundamental",
   "metadata": {},
   "outputs": [
    {
     "data": {
      "text/html": [
       "<div>\n",
       "<style scoped>\n",
       "    .dataframe tbody tr th:only-of-type {\n",
       "        vertical-align: middle;\n",
       "    }\n",
       "\n",
       "    .dataframe tbody tr th {\n",
       "        vertical-align: top;\n",
       "    }\n",
       "\n",
       "    .dataframe thead th {\n",
       "        text-align: right;\n",
       "    }\n",
       "</style>\n",
       "<table border=\"1\" class=\"dataframe\">\n",
       "  <thead>\n",
       "    <tr style=\"text-align: right;\">\n",
       "      <th></th>\n",
       "      <th>Project Number</th>\n",
       "      <th>Legacy Project Number</th>\n",
       "      <th>count</th>\n",
       "    </tr>\n",
       "  </thead>\n",
       "  <tbody>\n",
       "  </tbody>\n",
       "</table>\n",
       "</div>"
      ],
      "text/plain": [
       "Empty DataFrame\n",
       "Columns: [Project Number, Legacy Project Number, count]\n",
       "Index: []"
      ]
     },
     "execution_count": 508,
     "metadata": {},
     "output_type": "execute_result"
    }
   ],
   "source": [
    "df_count=legacy.groupby(['Project Number', 'Legacy Project Number']).size().reset_index().rename(columns={0:'count'})\n",
    "df_count=df_count[df_count['count'] != 1]\n",
    "df_count.sort_values('count', inplace=True, ascending=False)\n",
    "df_count"
   ]
  },
  {
   "cell_type": "code",
   "execution_count": 162,
   "id": "technological-shape",
   "metadata": {},
   "outputs": [],
   "source": [
    "## Remove punctuation from the legacy numbers\n",
    "#leg['Legacy Project Number'] = leg['Legacy Project Number'].str.replace('[^\\w\\s]','')\n"
   ]
  },
  {
   "cell_type": "markdown",
   "id": "featured-duration",
   "metadata": {},
   "source": [
    "## Select only the unique legacy numbers, then merge back with the project numbers, merge on project number"
   ]
  },
  {
   "cell_type": "code",
   "execution_count": 509,
   "id": "young-mandate",
   "metadata": {},
   "outputs": [],
   "source": [
    "#make sure that the datatype is correct\n",
    "legacy['Project Number'] = legacy['Project Number'].astype('str') \n",
    "legacy['Legacy Project Number'] = legacy['Legacy Project Number'].astype('str') \n",
    "\n",
    "\n",
    "#remove punctuation\n",
    "legacy['Legacy Project Number'] = legacy['Legacy Project Number'].str.replace(r'.','')\n",
    "\n",
    "\n",
    "#zip into dict\n",
    "legacydict = dict(zip(legacy['Legacy Project Number'], legacy['Project Number']))\n",
    "\n",
    "#Make sure that there is no punctuation in the original df as well\n",
    "\n",
    "df1['Project Number'] = df1['Project Number'].astype('str')\n",
    "df1['Project Number'] = df1['Project Number'].str.replace(r'.','')\n",
    "\n",
    "# replace dict values in dataframe df1\n",
    "df1['Project Number']=df1['Project Number'].map(legacydict).fillna(df1['Project Number'])"
   ]
  },
  {
   "cell_type": "code",
   "execution_count": 510,
   "id": "congressional-granny",
   "metadata": {},
   "outputs": [],
   "source": [
    "df1.to_csv('legacy_mapped.csv')\n",
    "#df1 = pd.read_csv('subportfolio.csv')"
   ]
  },
  {
   "cell_type": "markdown",
   "id": "conservative-tuition",
   "metadata": {},
   "source": [
    "### Project Name Mapping (as there are some with no Ids, but the same name)"
   ]
  },
  {
   "cell_type": "code",
   "execution_count": 511,
   "id": "novel-christopher",
   "metadata": {},
   "outputs": [],
   "source": [
    "del df\n",
    "del df1"
   ]
  },
  {
   "cell_type": "code",
   "execution_count": 512,
   "id": "overhead-magnitude",
   "metadata": {},
   "outputs": [
    {
     "name": "stderr",
     "output_type": "stream",
     "text": [
      "/Users/julia/opt/anaconda3/lib/python3.7/site-packages/IPython/core/interactiveshell.py:3156: DtypeWarning: Columns (2,3,5,9,11,13,14,18,19,20,21,22,23,24,35,45,46,49,51,52,53) have mixed types.Specify dtype option on import or set low_memory=False.\n",
      "  interactivity=interactivity, compiler=compiler, result=result)\n"
     ]
    }
   ],
   "source": [
    "df = pd.read_csv('legacy_mapped.csv') "
   ]
  },
  {
   "cell_type": "code",
   "execution_count": 359,
   "id": "peripheral-composite",
   "metadata": {},
   "outputs": [],
   "source": [
    "import re"
   ]
  },
  {
   "cell_type": "code",
   "execution_count": 360,
   "id": "brilliant-sensitivity",
   "metadata": {},
   "outputs": [
    {
     "data": {
      "text/plain": [
       "2179046"
      ]
     },
     "execution_count": 360,
     "metadata": {},
     "output_type": "execute_result"
    }
   ],
   "source": [
    "len(df)"
   ]
  },
  {
   "cell_type": "code",
   "execution_count": 513,
   "id": "arranged-trustee",
   "metadata": {},
   "outputs": [],
   "source": [
    "df['Project Number'] = df['Project Number'].astype('str') \n",
    "#df['Fiscal Period Code'] = pd.to_datetime(df['Fiscal Period Code'], format='%Y-%m') \n",
    "df = df.loc[:, ~df.columns.str.contains('^Unnamed')]"
   ]
  },
  {
   "cell_type": "code",
   "execution_count": 514,
   "id": "outdoor-minimum",
   "metadata": {},
   "outputs": [],
   "source": [
    "def repl(x):\n",
    "    x = re.sub(r\"[^\\w\\s]\", \"\", str(x))      #Removes all punctuations\n",
    "    x = re.sub(r\"\\d+\", \"\", str(x))       #Replaces digits\n",
    "    x = re.sub(r\"\\s+\", \" \", str(x))          #Removes double spaces with single space\n",
    "    #x = x.strip().lower()                    #Trims the string\n",
    "    return x"
   ]
  },
  {
   "cell_type": "code",
   "execution_count": 515,
   "id": "simple-consumption",
   "metadata": {},
   "outputs": [],
   "source": [
    "df['Cleaned Name'] = df['Project Name'].apply(repl)"
   ]
  },
  {
   "cell_type": "code",
   "execution_count": 583,
   "id": "assigned-mustang",
   "metadata": {},
   "outputs": [],
   "source": [
    "#df[df['Cleaned Name']== 'TOS SN Honeywell DCS Support'] "
   ]
  },
  {
   "cell_type": "code",
   "execution_count": 518,
   "id": "maritime-contamination",
   "metadata": {},
   "outputs": [],
   "source": [
    "# obtain unique project numbers with their corresponding names in a df, and save this into a dictionary\n",
    "# store the mapping in a new column and see whether there are differences later\n",
    "#so now we are only mapping unique project numbers and names together\n",
    "\n",
    "unique = (df.drop_duplicates(subset='Project Number', keep= 'last').reset_index(drop=True))"
   ]
  },
  {
   "cell_type": "code",
   "execution_count": 519,
   "id": "monthly-introduction",
   "metadata": {},
   "outputs": [
    {
     "data": {
      "text/plain": [
       "(63693, 63693, 91202, 105465)"
      ]
     },
     "execution_count": 519,
     "metadata": {},
     "output_type": "execute_result"
    }
   ],
   "source": [
    "len(unique), df['Project Number'].nunique(), df['Cleaned Name'].nunique(), df['Project Name'].nunique()"
   ]
  },
  {
   "cell_type": "code",
   "execution_count": 520,
   "id": "brutal-constitution",
   "metadata": {},
   "outputs": [
    {
     "data": {
      "text/html": [
       "<div>\n",
       "<style scoped>\n",
       "    .dataframe tbody tr th:only-of-type {\n",
       "        vertical-align: middle;\n",
       "    }\n",
       "\n",
       "    .dataframe tbody tr th {\n",
       "        vertical-align: top;\n",
       "    }\n",
       "\n",
       "    .dataframe thead th {\n",
       "        text-align: right;\n",
       "    }\n",
       "</style>\n",
       "<table border=\"1\" class=\"dataframe\">\n",
       "  <thead>\n",
       "    <tr style=\"text-align: right;\">\n",
       "      <th></th>\n",
       "      <th>Project Name</th>\n",
       "      <th>count</th>\n",
       "    </tr>\n",
       "  </thead>\n",
       "  <tbody>\n",
       "    <tr>\n",
       "      <th>9450</th>\n",
       "      <td>ACCRUED FEES</td>\n",
       "      <td>5094</td>\n",
       "    </tr>\n",
       "    <tr>\n",
       "      <th>27596</th>\n",
       "      <td>COST TRANSFER</td>\n",
       "      <td>5085</td>\n",
       "    </tr>\n",
       "    <tr>\n",
       "      <th>38503</th>\n",
       "      <td>DORMANT PROJECT EXP</td>\n",
       "      <td>4933</td>\n",
       "    </tr>\n",
       "    <tr>\n",
       "      <th>84707</th>\n",
       "      <td>REVENUE GROUP PROJECT</td>\n",
       "      <td>205</td>\n",
       "    </tr>\n",
       "    <tr>\n",
       "      <th>8</th>\n",
       "      <td>#XL_EVAL_ERROR#</td>\n",
       "      <td>56</td>\n",
       "    </tr>\n",
       "    <tr>\n",
       "      <th>...</th>\n",
       "      <td>...</td>\n",
       "      <td>...</td>\n",
       "    </tr>\n",
       "    <tr>\n",
       "      <th>10802</th>\n",
       "      <td>ARC00332.1000-GE HR 2019 NRD WILDLIFE OBSERVAT...</td>\n",
       "      <td>1</td>\n",
       "    </tr>\n",
       "    <tr>\n",
       "      <th>45410</th>\n",
       "      <td>FMC MacClennyFL_REM&amp;Restoratio</td>\n",
       "      <td>1</td>\n",
       "    </tr>\n",
       "    <tr>\n",
       "      <th>10803</th>\n",
       "      <td>ARC01081.1000-GE UHR FP 2019 HHRA</td>\n",
       "      <td>1</td>\n",
       "    </tr>\n",
       "    <tr>\n",
       "      <th>45408</th>\n",
       "      <td>FMC MacClenny FL Assessment</td>\n",
       "      <td>1</td>\n",
       "    </tr>\n",
       "    <tr>\n",
       "      <th>52732</th>\n",
       "      <td>GWR000KB.6477-HI_306477_Honolulu_GWR</td>\n",
       "      <td>1</td>\n",
       "    </tr>\n",
       "  </tbody>\n",
       "</table>\n",
       "<p>105465 rows × 2 columns</p>\n",
       "</div>"
      ],
      "text/plain": [
       "                                            Project Name  count\n",
       "9450                                        ACCRUED FEES   5094\n",
       "27596                                      COST TRANSFER   5085\n",
       "38503                                DORMANT PROJECT EXP   4933\n",
       "84707                              REVENUE GROUP PROJECT    205\n",
       "8                                        #XL_EVAL_ERROR#     56\n",
       "...                                                  ...    ...\n",
       "10802  ARC00332.1000-GE HR 2019 NRD WILDLIFE OBSERVAT...      1\n",
       "45410                     FMC MacClennyFL_REM&Restoratio      1\n",
       "10803                  ARC01081.1000-GE UHR FP 2019 HHRA      1\n",
       "45408                        FMC MacClenny FL Assessment      1\n",
       "52732               GWR000KB.6477-HI_306477_Honolulu_GWR      1\n",
       "\n",
       "[105465 rows x 2 columns]"
      ]
     },
     "execution_count": 520,
     "metadata": {},
     "output_type": "execute_result"
    }
   ],
   "source": [
    "#df_nameswithmorethanonenumber=pd.DataFrame({'Project Name':df_nameswithmorethanonenumber.index, 'count':df_nameswithmorethanonenumber.values})\n",
    "#unique came from only 2019+ data\n",
    "df_combo=df.groupby([ \"Project Name\", \"Project Number\"] ).size().to_frame(name = 'count').reset_index()\n",
    "dfdf_combo=df_combo.groupby('Project Name').count()\n",
    "dfdf_combo.pop('Project Number')\n",
    "\n",
    "\n",
    "#This should be the names with more than two numbers\n",
    "dfdf_combo.reset_index(inplace=True)\n",
    "dfdf_combo.sort_values('count', \n",
    "                      inplace=True, \n",
    "                      ascending=False)\n",
    "dfdf_combo"
   ]
  },
  {
   "cell_type": "markdown",
   "id": "consecutive-import",
   "metadata": {},
   "source": [
    "#### The problem is that there are several names which have more than one project number - This is because either there is a notation error, or they actualy started several projects while the system was transitioned. We have to exclude those for the mapping phase, but they can probably still be used in the overall analysis as they have unique project numbers For now I remove the dots, and then after that map nan columns to project numbers based on project name."
   ]
  },
  {
   "cell_type": "code",
   "execution_count": 521,
   "id": "isolated-charlotte",
   "metadata": {},
   "outputs": [
    {
     "data": {
      "text/plain": [
       "9450                                          ACCRUED FEES\n",
       "27596                                        COST TRANSFER\n",
       "38503                                  DORMANT PROJECT EXP\n",
       "84707                                REVENUE GROUP PROJECT\n",
       "8                                          #XL_EVAL_ERROR#\n",
       "                               ...                        \n",
       "10802    ARC00332.1000-GE HR 2019 NRD WILDLIFE OBSERVAT...\n",
       "45410                       FMC MacClennyFL_REM&Restoratio\n",
       "10803                    ARC01081.1000-GE UHR FP 2019 HHRA\n",
       "45408                          FMC MacClenny FL Assessment\n",
       "52732                 GWR000KB.6477-HI_306477_Honolulu_GWR\n",
       "Name: Project Name, Length: 88523, dtype: object"
      ]
     },
     "execution_count": 521,
     "metadata": {},
     "output_type": "execute_result"
    }
   ],
   "source": [
    "df_toomanyprojects=dfdf_combo[(dfdf_combo['count'] != 2) & (dfdf_combo['count'] != 3)]\n",
    "len(df_toomanyprojects) \n",
    "df_toomanyprojects['Project Name']"
   ]
  },
  {
   "cell_type": "code",
   "execution_count": 522,
   "id": "meaning-slope",
   "metadata": {},
   "outputs": [],
   "source": [
    "#remove these names and create a new df1 or should I only be using df_1921 here? Here I just ignore all the values that have more than 7 different ids per name\n",
    "df_mergebacklater = df[df['Project Name'].isin(df_toomanyprojects['Project Name'])]"
   ]
  },
  {
   "cell_type": "code",
   "execution_count": 523,
   "id": "acting-accessory",
   "metadata": {},
   "outputs": [
    {
     "name": "stderr",
     "output_type": "stream",
     "text": [
      "/Users/julia/opt/anaconda3/lib/python3.7/site-packages/ipykernel_launcher.py:5: SettingWithCopyWarning: \n",
      "A value is trying to be set on a copy of a slice from a DataFrame.\n",
      "Try using .loc[row_indexer,col_indexer] = value instead\n",
      "\n",
      "See the caveats in the documentation: https://pandas.pydata.org/pandas-docs/stable/user_guide/indexing.html#returning-a-view-versus-a-copy\n",
      "  \"\"\"\n",
      "/Users/julia/opt/anaconda3/lib/python3.7/site-packages/ipykernel_launcher.py:6: SettingWithCopyWarning: \n",
      "A value is trying to be set on a copy of a slice from a DataFrame.\n",
      "Try using .loc[row_indexer,col_indexer] = value instead\n",
      "\n",
      "See the caveats in the documentation: https://pandas.pydata.org/pandas-docs/stable/user_guide/indexing.html#returning-a-view-versus-a-copy\n",
      "  \n"
     ]
    }
   ],
   "source": [
    "#Whenever we create a subset, we need to make sure that the project numbers are still strings\n",
    "#we work with those that have 2 or 3 as values\n",
    "df1 = df[~df['Project Name'].isin(df_toomanyprojects['Project Name'])]\n",
    "\n",
    "df1['Project Number'] = df1['Project Number'].astype('str') \n",
    "df1['Project Number']= df1['Project Number'].str.replace(r'.','') "
   ]
  },
  {
   "cell_type": "markdown",
   "id": "foreign-study",
   "metadata": {},
   "source": [
    "### okey so we need projects names that currently have 1 or 2 project numbers after we drop unspecified, \n",
    "and only have one project number after 2019-07"
   ]
  },
  {
   "cell_type": "code",
   "execution_count": 524,
   "id": "emerging-juvenile",
   "metadata": {},
   "outputs": [],
   "source": [
    "#we wanna drop all NaN values\n",
    "df2 = df1[~df1['Project Number'].str.contains(\"Unspecified\")]\n",
    "df2 = df2[~df2['Project Number'].str.contains(\"nan\")]"
   ]
  },
  {
   "cell_type": "code",
   "execution_count": 525,
   "id": "basic-major",
   "metadata": {},
   "outputs": [
    {
     "data": {
      "text/plain": [
       "(126290, 362104)"
      ]
     },
     "execution_count": 525,
     "metadata": {},
     "output_type": "execute_result"
    }
   ],
   "source": [
    "len(df2), len(df1)"
   ]
  },
  {
   "cell_type": "code",
   "execution_count": 526,
   "id": "crazy-survival",
   "metadata": {},
   "outputs": [
    {
     "data": {
      "text/html": [
       "<div>\n",
       "<style scoped>\n",
       "    .dataframe tbody tr th:only-of-type {\n",
       "        vertical-align: middle;\n",
       "    }\n",
       "\n",
       "    .dataframe tbody tr th {\n",
       "        vertical-align: top;\n",
       "    }\n",
       "\n",
       "    .dataframe thead th {\n",
       "        text-align: right;\n",
       "    }\n",
       "</style>\n",
       "<table border=\"1\" class=\"dataframe\">\n",
       "  <thead>\n",
       "    <tr style=\"text-align: right;\">\n",
       "      <th></th>\n",
       "      <th>Project Name</th>\n",
       "      <th>count</th>\n",
       "    </tr>\n",
       "  </thead>\n",
       "  <tbody>\n",
       "    <tr>\n",
       "      <th>6046</th>\n",
       "      <td>FDOT - TWO7 - SR527 S Orange A</td>\n",
       "      <td>3</td>\n",
       "    </tr>\n",
       "    <tr>\n",
       "      <th>16472</th>\n",
       "      <td>WSIP - T&amp;M</td>\n",
       "      <td>3</td>\n",
       "    </tr>\n",
       "    <tr>\n",
       "      <th>7234</th>\n",
       "      <td>GM Flint Env OS K2 Body Shop</td>\n",
       "      <td>3</td>\n",
       "    </tr>\n",
       "    <tr>\n",
       "      <th>8877</th>\n",
       "      <td>JLL BOA TX2-837 Bedford TX IAQ</td>\n",
       "      <td>3</td>\n",
       "    </tr>\n",
       "    <tr>\n",
       "      <th>6045</th>\n",
       "      <td>FDOT - TWO7 - SR525 S Orange A</td>\n",
       "      <td>3</td>\n",
       "    </tr>\n",
       "    <tr>\n",
       "      <th>...</th>\n",
       "      <td>...</td>\n",
       "      <td>...</td>\n",
       "    </tr>\n",
       "    <tr>\n",
       "      <th>5797</th>\n",
       "      <td>Eval. of Nutrient Impacts from Eastside</td>\n",
       "      <td>1</td>\n",
       "    </tr>\n",
       "    <tr>\n",
       "      <th>5798</th>\n",
       "      <td>Eval. of Sidestream Rerouting at M-L</td>\n",
       "      <td>1</td>\n",
       "    </tr>\n",
       "    <tr>\n",
       "      <th>5799</th>\n",
       "      <td>Evaluation of Dye Facility Loc</td>\n",
       "      <td>1</td>\n",
       "    </tr>\n",
       "    <tr>\n",
       "      <th>5800</th>\n",
       "      <td>Evanston Custer</td>\n",
       "      <td>1</td>\n",
       "    </tr>\n",
       "    <tr>\n",
       "      <th>16941</th>\n",
       "      <td>wempletown TSS171</td>\n",
       "      <td>1</td>\n",
       "    </tr>\n",
       "  </tbody>\n",
       "</table>\n",
       "<p>16942 rows × 2 columns</p>\n",
       "</div>"
      ],
      "text/plain": [
       "                                  Project Name  count\n",
       "6046            FDOT - TWO7 - SR527 S Orange A      3\n",
       "16472                               WSIP - T&M      3\n",
       "7234              GM Flint Env OS K2 Body Shop      3\n",
       "8877            JLL BOA TX2-837 Bedford TX IAQ      3\n",
       "6045            FDOT - TWO7 - SR525 S Orange A      3\n",
       "...                                        ...    ...\n",
       "5797   Eval. of Nutrient Impacts from Eastside      1\n",
       "5798      Eval. of Sidestream Rerouting at M-L      1\n",
       "5799            Evaluation of Dye Facility Loc      1\n",
       "5800                           Evanston Custer      1\n",
       "16941                        wempletown TSS171      1\n",
       "\n",
       "[16942 rows x 2 columns]"
      ]
     },
     "execution_count": 526,
     "metadata": {},
     "output_type": "execute_result"
    }
   ],
   "source": [
    "df_combo=df2.groupby([ \"Project Name\", \"Project Number\"] ).size().to_frame(name = 'count').reset_index()\n",
    "df_combo=df_combo.groupby('Project Name').count()\n",
    "df_combo.pop('Project Number')\n",
    "\n",
    "\n",
    "#This should be the names with more than two numbers\n",
    "df_combo.reset_index(inplace=True)\n",
    "df_combo.sort_values('count', \n",
    "                      inplace=True, \n",
    "                      ascending=False)\n",
    "\n",
    "df_combo"
   ]
  },
  {
   "cell_type": "code",
   "execution_count": 440,
   "id": "disciplinary-sunglasses",
   "metadata": {},
   "outputs": [],
   "source": [
    "#df_combo[(df_combo['count'] == 2)]"
   ]
  },
  {
   "cell_type": "code",
   "execution_count": 527,
   "id": "tribal-waters",
   "metadata": {},
   "outputs": [
    {
     "data": {
      "text/plain": [
       "16935"
      ]
     },
     "execution_count": 527,
     "metadata": {},
     "output_type": "execute_result"
    }
   ],
   "source": [
    "### only run the dict on df1 later, and then merge back with df_mergebacklater, otherwise we loose numbers\n",
    "#only select the ones with 2 or 1 now. for those with 1, it means that they have a unique Id and unspecified. For those with 3, they might have a legacy ID and a new one\n",
    "df3 = df_combo[(df_combo['count'] != 3)]\n",
    "\n",
    "df_final = df1[df1['Project Name'].isin(df3['Project Name'])] \n",
    "\n",
    "#df2019 = df_final[df_final['Fiscal Period Code'] > 201906]\n",
    "df_final = (df_final.sort_values('Fiscal Period Code').drop_duplicates(subset='Project Name', keep = 'last').reset_index(drop=True))\n",
    "len(df_final)"
   ]
  },
  {
   "cell_type": "code",
   "execution_count": 528,
   "id": "awful-stranger",
   "metadata": {},
   "outputs": [
    {
     "data": {
      "text/html": [
       "<div>\n",
       "<style scoped>\n",
       "    .dataframe tbody tr th:only-of-type {\n",
       "        vertical-align: middle;\n",
       "    }\n",
       "\n",
       "    .dataframe tbody tr th {\n",
       "        vertical-align: top;\n",
       "    }\n",
       "\n",
       "    .dataframe thead th {\n",
       "        text-align: right;\n",
       "    }\n",
       "</style>\n",
       "<table border=\"1\" class=\"dataframe\">\n",
       "  <thead>\n",
       "    <tr style=\"text-align: right;\">\n",
       "      <th></th>\n",
       "      <th>Fiscal Period Code</th>\n",
       "      <th>Project Number</th>\n",
       "      <th>Project Id</th>\n",
       "      <th>Project Name</th>\n",
       "      <th>Health and Safety Status</th>\n",
       "      <th>project_date_create</th>\n",
       "      <th>Project Status</th>\n",
       "      <th>SalesCloudClientNo</th>\n",
       "      <th>Related Opportunity Project Number</th>\n",
       "      <th>Contract Type Name</th>\n",
       "      <th>...</th>\n",
       "      <th>Legacy Project Number</th>\n",
       "      <th>Organization Size</th>\n",
       "      <th>Risk Profile</th>\n",
       "      <th>Sustainable Project</th>\n",
       "      <th>interest_current.1</th>\n",
       "      <th>riskrating_project</th>\n",
       "      <th>Total WIP</th>\n",
       "      <th>Positive WIP</th>\n",
       "      <th>Total Aging</th>\n",
       "      <th>Cleaned Name</th>\n",
       "    </tr>\n",
       "  </thead>\n",
       "  <tbody>\n",
       "    <tr>\n",
       "      <th>11442</th>\n",
       "      <td>201906</td>\n",
       "      <td>30002921</td>\n",
       "      <td>MPICLIENT050990000080310</td>\n",
       "      <td>TOS SN-101 Honeywell DCS Support</td>\n",
       "      <td>NaN</td>\n",
       "      <td>NaN</td>\n",
       "      <td>A</td>\n",
       "      <td>10238715.0</td>\n",
       "      <td>NaN</td>\n",
       "      <td>Time and Material with cap</td>\n",
       "      <td>...</td>\n",
       "      <td>Unspecified</td>\n",
       "      <td>Local</td>\n",
       "      <td>NaN</td>\n",
       "      <td>NaN</td>\n",
       "      <td>25.34</td>\n",
       "      <td>2.0</td>\n",
       "      <td>NaN</td>\n",
       "      <td>NaN</td>\n",
       "      <td>NaN</td>\n",
       "      <td>TOS SN Honeywell DCS Support</td>\n",
       "    </tr>\n",
       "  </tbody>\n",
       "</table>\n",
       "<p>1 rows × 59 columns</p>\n",
       "</div>"
      ],
      "text/plain": [
       "       Fiscal Period Code Project Number                Project Id  \\\n",
       "11442              201906       30002921  MPICLIENT050990000080310   \n",
       "\n",
       "                           Project Name Health and Safety Status  \\\n",
       "11442  TOS SN-101 Honeywell DCS Support                      NaN   \n",
       "\n",
       "       project_date_create Project Status  SalesCloudClientNo  \\\n",
       "11442                  NaN              A          10238715.0   \n",
       "\n",
       "      Related Opportunity Project Number          Contract Type Name  ...  \\\n",
       "11442                                NaN  Time and Material with cap  ...   \n",
       "\n",
       "      Legacy Project Number Organization Size Risk Profile  \\\n",
       "11442           Unspecified             Local          NaN   \n",
       "\n",
       "      Sustainable Project interest_current.1 riskrating_project Total WIP  \\\n",
       "11442                 NaN              25.34                2.0       NaN   \n",
       "\n",
       "      Positive WIP Total Aging                  Cleaned Name  \n",
       "11442          NaN         NaN  TOS SN Honeywell DCS Support  \n",
       "\n",
       "[1 rows x 59 columns]"
      ]
     },
     "execution_count": 528,
     "metadata": {},
     "output_type": "execute_result"
    }
   ],
   "source": [
    "df_final[df_final['Cleaned Name']== 'TOS SN Honeywell DCS Support'] "
   ]
  },
  {
   "cell_type": "code",
   "execution_count": 285,
   "id": "fuzzy-rescue",
   "metadata": {},
   "outputs": [
    {
     "data": {
      "text/plain": [
       "(1617746, 561300, 2179046, 48397, 63693)"
      ]
     },
     "execution_count": 285,
     "metadata": {},
     "output_type": "execute_result"
    }
   ],
   "source": [
    "len(df1), len(df_mergebacklater), len(df), df1['Project Number'].nunique(), df['Project Number'].nunique()\n",
    "df[df['Legacy Project Number'] == 'OK0014760010']\n",
    "df[df['Project Name'] == 'TX0021531801']"
   ]
  },
  {
   "cell_type": "code",
   "execution_count": 543,
   "id": "front-overview",
   "metadata": {},
   "outputs": [
    {
     "data": {
      "text/plain": [
       "(16935, 16928)"
      ]
     },
     "execution_count": 543,
     "metadata": {},
     "output_type": "execute_result"
    }
   ],
   "source": [
    "df_final['Project Name'].nunique(), df_final['Project Number'].nunique()\n"
   ]
  },
  {
   "cell_type": "code",
   "execution_count": 542,
   "id": "going-kinase",
   "metadata": {},
   "outputs": [],
   "source": [
    "#df[df['Project Number'] == '30009752']"
   ]
  },
  {
   "cell_type": "code",
   "execution_count": 544,
   "id": "yellow-turkish",
   "metadata": {},
   "outputs": [],
   "source": [
    "df_final = df_final.rename(columns={'Project Name': 'Project_Name', 'Project Number':'Project_Number'})\n",
    "df = df.rename(columns={'Project Name': 'Project_Name', 'Project Number':'Project_Number'})"
   ]
  },
  {
   "cell_type": "code",
   "execution_count": 545,
   "id": "secondary-korea",
   "metadata": {},
   "outputs": [
    {
     "data": {
      "text/plain": [
       "362104"
      ]
     },
     "execution_count": 545,
     "metadata": {},
     "output_type": "execute_result"
    }
   ],
   "source": [
    "len(df1)"
   ]
  },
  {
   "cell_type": "code",
   "execution_count": 547,
   "id": "retained-checkout",
   "metadata": {},
   "outputs": [],
   "source": [
    "### so now we will replace the unspceified and perhaps old numbers with the new ones\n",
    "#make sure that the datatype is correct\n",
    "#cannot be done with dictionary, becuase we want to match the name, and then fill in the Project number column\n",
    "realData = pd.Series(data=df_final.Project_Number.values, index=df_final.Project_Name)\n",
    "\n",
    "df['Project_Number'] = df.Project_Name.map(realData).fillna(df['Project_Number'])"
   ]
  },
  {
   "cell_type": "code",
   "execution_count": 548,
   "id": "weighted-directive",
   "metadata": {},
   "outputs": [
    {
     "data": {
      "text/plain": [
       "(362104, 2179046)"
      ]
     },
     "execution_count": 548,
     "metadata": {},
     "output_type": "execute_result"
    }
   ],
   "source": [
    "len(df1), len(df)"
   ]
  },
  {
   "cell_type": "code",
   "execution_count": 552,
   "id": "sapphire-consumer",
   "metadata": {},
   "outputs": [],
   "source": [
    "#df[df['Project_Number'] == '30009752']"
   ]
  },
  {
   "cell_type": "code",
   "execution_count": 553,
   "id": "defined-centre",
   "metadata": {},
   "outputs": [],
   "source": [
    "#df[df['Project_Name'] == \"211411 - CHEVRON'S COST SHARE\"]"
   ]
  },
  {
   "cell_type": "code",
   "execution_count": 554,
   "id": "aging-gregory",
   "metadata": {},
   "outputs": [],
   "source": [
    "\n",
    "df.to_csv('mapped_today.csv')"
   ]
  },
  {
   "cell_type": "markdown",
   "id": "minimal-techno",
   "metadata": {},
   "source": [
    "## Next we see whether we can map projects based on cleaned name"
   ]
  },
  {
   "cell_type": "code",
   "execution_count": 446,
   "id": "boxed-enhancement",
   "metadata": {},
   "outputs": [
    {
     "name": "stderr",
     "output_type": "stream",
     "text": [
      "/Users/julia/opt/anaconda3/lib/python3.7/site-packages/IPython/core/interactiveshell.py:3156: DtypeWarning: Columns (2,3,5,9,11,13,14,18,19,20,21,22,23,24,35,45,46,49,51,52,53) have mixed types.Specify dtype option on import or set low_memory=False.\n",
      "  interactivity=interactivity, compiler=compiler, result=result)\n"
     ]
    }
   ],
   "source": [
    "df = pd.read_csv('mapped_today.csv')"
   ]
  },
  {
   "cell_type": "code",
   "execution_count": 451,
   "id": "precise-scotland",
   "metadata": {},
   "outputs": [
    {
     "data": {
      "text/plain": [
       "2179046"
      ]
     },
     "execution_count": 451,
     "metadata": {},
     "output_type": "execute_result"
    }
   ],
   "source": [
    "len(df)"
   ]
  },
  {
   "cell_type": "code",
   "execution_count": 447,
   "id": "greater-harbor",
   "metadata": {},
   "outputs": [
    {
     "data": {
      "text/plain": [
       "Index(['Unnamed: 0', 'Fiscal Period Code', 'Project_Number', 'Project Id',\n",
       "       'Project_Name', 'Health and Safety Status', 'project_date_create',\n",
       "       'Project Status', 'SalesCloudClientNo',\n",
       "       'Related Opportunity Project Number', 'Contract Type Name',\n",
       "       'Ultimate Customer AUS Market Sector', 'Division Short Name',\n",
       "       'location_2', 'location_4', 'Region', 'City', 'Country', 'Country Name',\n",
       "       'Proj_CVP', 'Proj_Serv_Offering', 'CVP Description', '﻿CVP Code',\n",
       "       'primary_client_industry', 'Sales Cloud Opportunity Number',\n",
       "       'Funding Amount - ITC (Snapshot)', 'Backlog NR',\n",
       "       'Actual Direct Labor Cost - MTD', 'Actual Non-Labor Cost - MTD',\n",
       "       'Actual Gross Revenue - MTD', 'Actual Net Revenue - MTD', 'EBITA - MTD',\n",
       "       'Forecast Direct Labor Cost - ITC', 'Forecast Net Revenue - ITC',\n",
       "       'Order Intake (NR) - MTD', 'WBS1', 'bookings_jtd', 'interest_current',\n",
       "       'interest_jtd', 'interest_ytd', 'multiplier_budget',\n",
       "       'multiplier_current', 'multiplier_target', 'overhead_current',\n",
       "       'overhead_rate', 'revenue_type', 'AUS Mkt Sector Aggregate',\n",
       "       'Baseline NR', 'Break Even Multiplier - Project', 'GBL Description',\n",
       "       'Legacy Project Number', 'Organization Size', 'Risk Profile',\n",
       "       'Sustainable Project', 'interest_current.1', 'riskrating_project',\n",
       "       'Total WIP', 'Positive WIP', 'Total Aging', 'Cleaned Name'],\n",
       "      dtype='object')"
      ]
     },
     "execution_count": 447,
     "metadata": {},
     "output_type": "execute_result"
    }
   ],
   "source": [
    "df.columns"
   ]
  },
  {
   "cell_type": "code",
   "execution_count": 555,
   "id": "noted-release",
   "metadata": {},
   "outputs": [],
   "source": [
    "df = df.loc[:, ~df.columns.str.contains('^Unnamed')]\n",
    "df['Project_Number'] = df['Project_Number'].astype('str') "
   ]
  },
  {
   "cell_type": "code",
   "execution_count": 588,
   "id": "focused-bidding",
   "metadata": {},
   "outputs": [
    {
     "data": {
      "text/html": [
       "<div>\n",
       "<style scoped>\n",
       "    .dataframe tbody tr th:only-of-type {\n",
       "        vertical-align: middle;\n",
       "    }\n",
       "\n",
       "    .dataframe tbody tr th {\n",
       "        vertical-align: top;\n",
       "    }\n",
       "\n",
       "    .dataframe thead th {\n",
       "        text-align: right;\n",
       "    }\n",
       "</style>\n",
       "<table border=\"1\" class=\"dataframe\">\n",
       "  <thead>\n",
       "    <tr style=\"text-align: right;\">\n",
       "      <th></th>\n",
       "      <th>Cleaned Name</th>\n",
       "      <th>count</th>\n",
       "    </tr>\n",
       "  </thead>\n",
       "  <tbody>\n",
       "    <tr>\n",
       "      <th>3832</th>\n",
       "      <td>ACCRUED FEES</td>\n",
       "      <td>5094</td>\n",
       "    </tr>\n",
       "    <tr>\n",
       "      <th>20372</th>\n",
       "      <td>COST TRANSFER</td>\n",
       "      <td>5085</td>\n",
       "    </tr>\n",
       "    <tr>\n",
       "      <th>30538</th>\n",
       "      <td>DORMANT PROJECT EXP</td>\n",
       "      <td>4933</td>\n",
       "    </tr>\n",
       "    <tr>\n",
       "      <th>72291</th>\n",
       "      <td>REVENUE GROUP PROJECT</td>\n",
       "      <td>207</td>\n",
       "    </tr>\n",
       "    <tr>\n",
       "      <th>41933</th>\n",
       "      <td>GPBPNAMMI</td>\n",
       "      <td>189</td>\n",
       "    </tr>\n",
       "    <tr>\n",
       "      <th>...</th>\n",
       "      <td>...</td>\n",
       "      <td>...</td>\n",
       "    </tr>\n",
       "    <tr>\n",
       "      <th>31224</th>\n",
       "      <td>DermPath Port Chester ESA</td>\n",
       "      <td>1</td>\n",
       "    </tr>\n",
       "    <tr>\n",
       "      <th>31222</th>\n",
       "      <td>Derby Main Street South NVCOG</td>\n",
       "      <td>1</td>\n",
       "    </tr>\n",
       "    <tr>\n",
       "      <th>31221</th>\n",
       "      <td>Derby Avenue West Haven Phase II ESA</td>\n",
       "      <td>1</td>\n",
       "    </tr>\n",
       "    <tr>\n",
       "      <th>31220</th>\n",
       "      <td>Derailment support Franklin</td>\n",
       "      <td>1</td>\n",
       "    </tr>\n",
       "    <tr>\n",
       "      <th>91201</th>\n",
       "      <td>wempletown TSS</td>\n",
       "      <td>1</td>\n",
       "    </tr>\n",
       "  </tbody>\n",
       "</table>\n",
       "<p>91202 rows × 2 columns</p>\n",
       "</div>"
      ],
      "text/plain": [
       "                               Cleaned Name  count\n",
       "3832                           ACCRUED FEES   5094\n",
       "20372                         COST TRANSFER   5085\n",
       "30538                   DORMANT PROJECT EXP   4933\n",
       "72291                 REVENUE GROUP PROJECT    207\n",
       "41933                             GPBPNAMMI    189\n",
       "...                                     ...    ...\n",
       "31224             DermPath Port Chester ESA      1\n",
       "31222         Derby Main Street South NVCOG      1\n",
       "31221  Derby Avenue West Haven Phase II ESA      1\n",
       "31220           Derailment support Franklin      1\n",
       "91201                        wempletown TSS      1\n",
       "\n",
       "[91202 rows x 2 columns]"
      ]
     },
     "execution_count": 588,
     "metadata": {},
     "output_type": "execute_result"
    }
   ],
   "source": [
    "#Cleaned names count, but first we need to map unique unclean names before we can map cleaned names\n",
    "df_clean=df.groupby([ \"Cleaned Name\", \"Project_Number\"] ).size().to_frame(name = 'count').reset_index()\n",
    "df_clean=df_clean.groupby('Cleaned Name').count()\n",
    "df_clean.pop('Project_Number')\n",
    "\n",
    "\n",
    "#This should be the names with more than two numbers\n",
    "df_clean.reset_index(inplace=True)\n",
    "df_clean.sort_values('count', \n",
    "                      inplace=True, \n",
    "                      ascending=False)\n",
    "df_clean"
   ]
  },
  {
   "cell_type": "code",
   "execution_count": 589,
   "id": "imported-cable",
   "metadata": {},
   "outputs": [],
   "source": [
    "### Now we are going to replace all of those with unspecified with their old number\n",
    "unspecifed_cleaned_names = df_clean[df_clean['count'] == 2]\n",
    "\n",
    "#Extract those names again \n",
    "unspecifed_cleaned_names = df[df['Cleaned Name'].isin(unspecifed_cleaned_names['Cleaned Name'])] \n",
    "\n",
    "#Now this time remove the project numbers with NaN or unspecified\n",
    "unspecifed_cleaned_names = unspecifed_cleaned_names[~unspecifed_cleaned_names['Project_Number'].str.contains(\"Unspecified\")]\n",
    "unspecifed_cleaned_names = unspecifed_cleaned_names[~unspecifed_cleaned_names['Project_Number'].str.contains(\"nan\")]"
   ]
  },
  {
   "cell_type": "code",
   "execution_count": null,
   "id": "aware-person",
   "metadata": {},
   "outputs": [],
   "source": []
  },
  {
   "cell_type": "code",
   "execution_count": 592,
   "id": "maritime-mambo",
   "metadata": {},
   "outputs": [
    {
     "data": {
      "text/html": [
       "<div>\n",
       "<style scoped>\n",
       "    .dataframe tbody tr th:only-of-type {\n",
       "        vertical-align: middle;\n",
       "    }\n",
       "\n",
       "    .dataframe tbody tr th {\n",
       "        vertical-align: top;\n",
       "    }\n",
       "\n",
       "    .dataframe thead th {\n",
       "        text-align: right;\n",
       "    }\n",
       "</style>\n",
       "<table border=\"1\" class=\"dataframe\">\n",
       "  <thead>\n",
       "    <tr style=\"text-align: right;\">\n",
       "      <th></th>\n",
       "      <th>Cleaned Name</th>\n",
       "      <th>count</th>\n",
       "    </tr>\n",
       "  </thead>\n",
       "  <tbody>\n",
       "    <tr>\n",
       "      <th>1096</th>\n",
       "      <td>DIVISION UST UPGRADES AND REPAIRS</td>\n",
       "      <td>2</td>\n",
       "    </tr>\n",
       "    <tr>\n",
       "      <th>1449</th>\n",
       "      <td>GUA TX Salcaja GWS</td>\n",
       "      <td>2</td>\n",
       "    </tr>\n",
       "    <tr>\n",
       "      <th>2418</th>\n",
       "      <td>SWP OMM East Point LS</td>\n",
       "      <td>2</td>\n",
       "    </tr>\n",
       "    <tr>\n",
       "      <th>1446</th>\n",
       "      <td>GUA TX Pelayo GWS</td>\n",
       "      <td>2</td>\n",
       "    </tr>\n",
       "    <tr>\n",
       "      <th>1445</th>\n",
       "      <td>GUA TX Miraflores GWS</td>\n",
       "      <td>2</td>\n",
       "    </tr>\n",
       "    <tr>\n",
       "      <th>...</th>\n",
       "      <td>...</td>\n",
       "      <td>...</td>\n",
       "    </tr>\n",
       "    <tr>\n",
       "      <th>1599</th>\n",
       "      <td>Hubbell Katy Tier II RY</td>\n",
       "      <td>1</td>\n",
       "    </tr>\n",
       "    <tr>\n",
       "      <th>1596</th>\n",
       "      <td>Hubbell Juarez COA</td>\n",
       "      <td>1</td>\n",
       "    </tr>\n",
       "    <tr>\n",
       "      <th>1594</th>\n",
       "      <td>Hubbell Houston Tier II RY</td>\n",
       "      <td>1</td>\n",
       "    </tr>\n",
       "    <tr>\n",
       "      <th>1588</th>\n",
       "      <td>Hollywood FL WWS</td>\n",
       "      <td>1</td>\n",
       "    </tr>\n",
       "    <tr>\n",
       "      <th>2782</th>\n",
       "      <td>th and Halsted</td>\n",
       "      <td>1</td>\n",
       "    </tr>\n",
       "  </tbody>\n",
       "</table>\n",
       "<p>2783 rows × 2 columns</p>\n",
       "</div>"
      ],
      "text/plain": [
       "                           Cleaned Name  count\n",
       "1096  DIVISION UST UPGRADES AND REPAIRS      2\n",
       "1449                GUA TX Salcaja GWS       2\n",
       "2418              SWP OMM East Point LS      2\n",
       "1446                 GUA TX Pelayo GWS       2\n",
       "1445             GUA TX Miraflores GWS       2\n",
       "...                                 ...    ...\n",
       "1599            Hubbell Katy Tier II RY      1\n",
       "1596                 Hubbell Juarez COA      1\n",
       "1594         Hubbell Houston Tier II RY      1\n",
       "1588                   Hollywood FL WWS      1\n",
       "2782                     th and Halsted      1\n",
       "\n",
       "[2783 rows x 2 columns]"
      ]
     },
     "execution_count": 592,
     "metadata": {},
     "output_type": "execute_result"
    }
   ],
   "source": [
    "#another count\n",
    "df_clean=unspecifed_cleaned_names.groupby([ \"Cleaned Name\", \"Project_Number\"] ).size().to_frame(name = 'count').reset_index()\n",
    "df_clean=df_clean.groupby('Cleaned Name').count()\n",
    "df_clean.pop('Project_Number')\n",
    "\n",
    "\n",
    "#This should be the names with more than two numbers\n",
    "df_clean.reset_index(inplace=True)\n",
    "df_clean.sort_values('count', \n",
    "                      inplace=True, \n",
    "                      ascending=False)\n",
    "\n",
    "df_clean"
   ]
  },
  {
   "cell_type": "code",
   "execution_count": 600,
   "id": "primary-mobility",
   "metadata": {},
   "outputs": [
    {
     "data": {
      "text/html": [
       "<div>\n",
       "<style scoped>\n",
       "    .dataframe tbody tr th:only-of-type {\n",
       "        vertical-align: middle;\n",
       "    }\n",
       "\n",
       "    .dataframe tbody tr th {\n",
       "        vertical-align: top;\n",
       "    }\n",
       "\n",
       "    .dataframe thead th {\n",
       "        text-align: right;\n",
       "    }\n",
       "</style>\n",
       "<table border=\"1\" class=\"dataframe\">\n",
       "  <thead>\n",
       "    <tr style=\"text-align: right;\">\n",
       "      <th></th>\n",
       "      <th>Fiscal Period Code</th>\n",
       "      <th>Project_Number</th>\n",
       "      <th>Project Id</th>\n",
       "      <th>Project_Name</th>\n",
       "      <th>Health and Safety Status</th>\n",
       "      <th>project_date_create</th>\n",
       "      <th>Project Status</th>\n",
       "      <th>SalesCloudClientNo</th>\n",
       "      <th>Related Opportunity Project Number</th>\n",
       "      <th>Contract Type Name</th>\n",
       "      <th>...</th>\n",
       "      <th>Legacy Project Number</th>\n",
       "      <th>Organization Size</th>\n",
       "      <th>Risk Profile</th>\n",
       "      <th>Sustainable Project</th>\n",
       "      <th>interest_current.1</th>\n",
       "      <th>riskrating_project</th>\n",
       "      <th>Total WIP</th>\n",
       "      <th>Positive WIP</th>\n",
       "      <th>Total Aging</th>\n",
       "      <th>Cleaned_Name</th>\n",
       "    </tr>\n",
       "  </thead>\n",
       "  <tbody>\n",
       "    <tr>\n",
       "      <th>0</th>\n",
       "      <td>201901</td>\n",
       "      <td>CPEE16030002</td>\n",
       "      <td>ADVCLIENT5634</td>\n",
       "      <td>CP Mason City WWTP Construction Managem</td>\n",
       "      <td>NaN</td>\n",
       "      <td>NaN</td>\n",
       "      <td>D</td>\n",
       "      <td>10239682.0</td>\n",
       "      <td>NaN</td>\n",
       "      <td>Time and Material with cap</td>\n",
       "      <td>...</td>\n",
       "      <td>Unspecified</td>\n",
       "      <td>RKC</td>\n",
       "      <td>NaN</td>\n",
       "      <td>NaN</td>\n",
       "      <td>0.0</td>\n",
       "      <td>2.0</td>\n",
       "      <td>NaN</td>\n",
       "      <td>NaN</td>\n",
       "      <td>NaN</td>\n",
       "      <td>CP Mason City WWTP Construction Managem</td>\n",
       "    </tr>\n",
       "    <tr>\n",
       "      <th>1</th>\n",
       "      <td>201901</td>\n",
       "      <td>046130790000</td>\n",
       "      <td>ADVCLIENT10297</td>\n",
       "      <td>FY 2017 MDRRF Annual Report</td>\n",
       "      <td>NaN</td>\n",
       "      <td>NaN</td>\n",
       "      <td>D</td>\n",
       "      <td>10238812.0</td>\n",
       "      <td>NaN</td>\n",
       "      <td>Lump Sum</td>\n",
       "      <td>...</td>\n",
       "      <td>Unspecified</td>\n",
       "      <td>RKC</td>\n",
       "      <td>NaN</td>\n",
       "      <td>NaN</td>\n",
       "      <td>0.0</td>\n",
       "      <td>1.0</td>\n",
       "      <td>NaN</td>\n",
       "      <td>NaN</td>\n",
       "      <td>NaN</td>\n",
       "      <td>FY MDRRF Annual Report</td>\n",
       "    </tr>\n",
       "    <tr>\n",
       "      <th>2</th>\n",
       "      <td>201901</td>\n",
       "      <td>HT2121560018</td>\n",
       "      <td>LFRclient0215506240814127</td>\n",
       "      <td>Minute Men Cleaners 2018</td>\n",
       "      <td>NaN</td>\n",
       "      <td>NaN</td>\n",
       "      <td>D</td>\n",
       "      <td>10239554.0</td>\n",
       "      <td>NaN</td>\n",
       "      <td>Time and Material with cap</td>\n",
       "      <td>...</td>\n",
       "      <td>Unspecified</td>\n",
       "      <td>Local</td>\n",
       "      <td>NaN</td>\n",
       "      <td>NaN</td>\n",
       "      <td>0.0</td>\n",
       "      <td>1.0</td>\n",
       "      <td>NaN</td>\n",
       "      <td>NaN</td>\n",
       "      <td>NaN</td>\n",
       "      <td>Minute Men Cleaners</td>\n",
       "    </tr>\n",
       "    <tr>\n",
       "      <th>3</th>\n",
       "      <td>201901</td>\n",
       "      <td>TO077633CEI3</td>\n",
       "      <td>ADVCLIENT0821</td>\n",
       "      <td>MPC-CharlotteNC(E)-VRU</td>\n",
       "      <td>NaN</td>\n",
       "      <td>NaN</td>\n",
       "      <td>D</td>\n",
       "      <td>10238859.0</td>\n",
       "      <td>NaN</td>\n",
       "      <td>Time and Material with cap</td>\n",
       "      <td>...</td>\n",
       "      <td>Unspecified</td>\n",
       "      <td>RKC</td>\n",
       "      <td>NaN</td>\n",
       "      <td>NaN</td>\n",
       "      <td>0.0</td>\n",
       "      <td>2.0</td>\n",
       "      <td>NaN</td>\n",
       "      <td>NaN</td>\n",
       "      <td>NaN</td>\n",
       "      <td>MPCCharlotteNCEVRU</td>\n",
       "    </tr>\n",
       "    <tr>\n",
       "      <th>4</th>\n",
       "      <td>201901</td>\n",
       "      <td>CXPP1768PE00</td>\n",
       "      <td>ADVCLIENT3021</td>\n",
       "      <td>SC0406 Florence, SC, Koppers Rd.</td>\n",
       "      <td>NaN</td>\n",
       "      <td>NaN</td>\n",
       "      <td>D</td>\n",
       "      <td>10239458.0</td>\n",
       "      <td>NaN</td>\n",
       "      <td>Time and Material with cap</td>\n",
       "      <td>...</td>\n",
       "      <td>Unspecified</td>\n",
       "      <td>RKC</td>\n",
       "      <td>NaN</td>\n",
       "      <td>NaN</td>\n",
       "      <td>0.0</td>\n",
       "      <td>2.0</td>\n",
       "      <td>NaN</td>\n",
       "      <td>NaN</td>\n",
       "      <td>NaN</td>\n",
       "      <td>SC Florence SC Koppers Rd</td>\n",
       "    </tr>\n",
       "    <tr>\n",
       "      <th>...</th>\n",
       "      <td>...</td>\n",
       "      <td>...</td>\n",
       "      <td>...</td>\n",
       "      <td>...</td>\n",
       "      <td>...</td>\n",
       "      <td>...</td>\n",
       "      <td>...</td>\n",
       "      <td>...</td>\n",
       "      <td>...</td>\n",
       "      <td>...</td>\n",
       "      <td>...</td>\n",
       "      <td>...</td>\n",
       "      <td>...</td>\n",
       "      <td>...</td>\n",
       "      <td>...</td>\n",
       "      <td>...</td>\n",
       "      <td>...</td>\n",
       "      <td>...</td>\n",
       "      <td>...</td>\n",
       "      <td>...</td>\n",
       "      <td>...</td>\n",
       "    </tr>\n",
       "    <tr>\n",
       "      <th>752</th>\n",
       "      <td>202103</td>\n",
       "      <td>30003212</td>\n",
       "      <td>3.00001e+14</td>\n",
       "      <td>06614035.0000-CEG: Modeling for SP FY16</td>\n",
       "      <td>Plan Not Required</td>\n",
       "      <td>NaN</td>\n",
       "      <td>Closed-Open to Collect</td>\n",
       "      <td>NaN</td>\n",
       "      <td>NaN</td>\n",
       "      <td>Time and Material with cap</td>\n",
       "      <td>...</td>\n",
       "      <td>Unspecified</td>\n",
       "      <td>NaN</td>\n",
       "      <td>Medium</td>\n",
       "      <td>Unspecified</td>\n",
       "      <td>NaN</td>\n",
       "      <td>NaN</td>\n",
       "      <td>-13.26</td>\n",
       "      <td>0.0</td>\n",
       "      <td>NaN</td>\n",
       "      <td>CEG Modeling for SP FY</td>\n",
       "    </tr>\n",
       "    <tr>\n",
       "      <th>753</th>\n",
       "      <td>202103</td>\n",
       "      <td>30003219</td>\n",
       "      <td>3.00001e+14</td>\n",
       "      <td>06614047.0000-CEG: Citizens Reservoir</td>\n",
       "      <td>Plan Not Required</td>\n",
       "      <td>NaN</td>\n",
       "      <td>Closed</td>\n",
       "      <td>NaN</td>\n",
       "      <td>NaN</td>\n",
       "      <td>Time and Material with cap</td>\n",
       "      <td>...</td>\n",
       "      <td>06614047.0000</td>\n",
       "      <td>NaN</td>\n",
       "      <td>High</td>\n",
       "      <td>Unspecified</td>\n",
       "      <td>NaN</td>\n",
       "      <td>NaN</td>\n",
       "      <td>0.00</td>\n",
       "      <td>0.0</td>\n",
       "      <td>NaN</td>\n",
       "      <td>CEG Citizens Reservoir</td>\n",
       "    </tr>\n",
       "    <tr>\n",
       "      <th>754</th>\n",
       "      <td>202103</td>\n",
       "      <td>30003240</td>\n",
       "      <td>3.00001e+14</td>\n",
       "      <td>06753007.0000-Jefferson Co. 2017-2019 Sewer</td>\n",
       "      <td>Plan Not Required</td>\n",
       "      <td>NaN</td>\n",
       "      <td>Open/Active</td>\n",
       "      <td>NaN</td>\n",
       "      <td>NaN</td>\n",
       "      <td>Time and Material</td>\n",
       "      <td>...</td>\n",
       "      <td>06753007.0000</td>\n",
       "      <td>NaN</td>\n",
       "      <td>Low</td>\n",
       "      <td>Unspecified</td>\n",
       "      <td>NaN</td>\n",
       "      <td>NaN</td>\n",
       "      <td>2644.60</td>\n",
       "      <td>2644.6</td>\n",
       "      <td>NaN</td>\n",
       "      <td>Jefferson Co Sewer</td>\n",
       "    </tr>\n",
       "    <tr>\n",
       "      <th>755</th>\n",
       "      <td>202103</td>\n",
       "      <td>30003241</td>\n",
       "      <td>3.00001e+14</td>\n",
       "      <td>06753008.0000-Jefferson Co. 2017-2019 Water</td>\n",
       "      <td>Plan Not Required</td>\n",
       "      <td>NaN</td>\n",
       "      <td>Open/Active</td>\n",
       "      <td>NaN</td>\n",
       "      <td>NaN</td>\n",
       "      <td>Time and Material</td>\n",
       "      <td>...</td>\n",
       "      <td>06753008.0000</td>\n",
       "      <td>NaN</td>\n",
       "      <td>Low</td>\n",
       "      <td>Unspecified</td>\n",
       "      <td>NaN</td>\n",
       "      <td>NaN</td>\n",
       "      <td>5903.60</td>\n",
       "      <td>5903.6</td>\n",
       "      <td>NaN</td>\n",
       "      <td>Jefferson Co Water</td>\n",
       "    </tr>\n",
       "    <tr>\n",
       "      <th>756</th>\n",
       "      <td>202103</td>\n",
       "      <td>30080962</td>\n",
       "      <td>3.00003e+14</td>\n",
       "      <td>2021 Environmental Consulting Services</td>\n",
       "      <td>Unspecified</td>\n",
       "      <td>NaN</td>\n",
       "      <td>Open/Active</td>\n",
       "      <td>NaN</td>\n",
       "      <td>NaN</td>\n",
       "      <td>Time and Material with cap</td>\n",
       "      <td>...</td>\n",
       "      <td>Unspecified</td>\n",
       "      <td>NaN</td>\n",
       "      <td>Unspecified</td>\n",
       "      <td>Unspecified</td>\n",
       "      <td>NaN</td>\n",
       "      <td>NaN</td>\n",
       "      <td>0.00</td>\n",
       "      <td>0.0</td>\n",
       "      <td>NaN</td>\n",
       "      <td>Environmental Consulting Services</td>\n",
       "    </tr>\n",
       "  </tbody>\n",
       "</table>\n",
       "<p>757 rows × 59 columns</p>\n",
       "</div>"
      ],
      "text/plain": [
       "     Fiscal Period Code Project_Number                 Project Id  \\\n",
       "0                201901   CPEE16030002              ADVCLIENT5634   \n",
       "1                201901   046130790000             ADVCLIENT10297   \n",
       "2                201901   HT2121560018  LFRclient0215506240814127   \n",
       "3                201901   TO077633CEI3              ADVCLIENT0821   \n",
       "4                201901   CXPP1768PE00              ADVCLIENT3021   \n",
       "..                  ...            ...                        ...   \n",
       "752              202103       30003212                3.00001e+14   \n",
       "753              202103       30003219                3.00001e+14   \n",
       "754              202103       30003240                3.00001e+14   \n",
       "755              202103       30003241                3.00001e+14   \n",
       "756              202103       30080962                3.00003e+14   \n",
       "\n",
       "                                    Project_Name Health and Safety Status  \\\n",
       "0        CP Mason City WWTP Construction Managem                      NaN   \n",
       "1                    FY 2017 MDRRF Annual Report                      NaN   \n",
       "2                       Minute Men Cleaners 2018                      NaN   \n",
       "3                         MPC-CharlotteNC(E)-VRU                      NaN   \n",
       "4               SC0406 Florence, SC, Koppers Rd.                      NaN   \n",
       "..                                           ...                      ...   \n",
       "752      06614035.0000-CEG: Modeling for SP FY16        Plan Not Required   \n",
       "753        06614047.0000-CEG: Citizens Reservoir        Plan Not Required   \n",
       "754  06753007.0000-Jefferson Co. 2017-2019 Sewer        Plan Not Required   \n",
       "755  06753008.0000-Jefferson Co. 2017-2019 Water        Plan Not Required   \n",
       "756       2021 Environmental Consulting Services              Unspecified   \n",
       "\n",
       "     project_date_create          Project Status  SalesCloudClientNo  \\\n",
       "0                    NaN                       D          10239682.0   \n",
       "1                    NaN                       D          10238812.0   \n",
       "2                    NaN                       D          10239554.0   \n",
       "3                    NaN                       D          10238859.0   \n",
       "4                    NaN                       D          10239458.0   \n",
       "..                   ...                     ...                 ...   \n",
       "752                  NaN  Closed-Open to Collect                 NaN   \n",
       "753                  NaN                  Closed                 NaN   \n",
       "754                  NaN             Open/Active                 NaN   \n",
       "755                  NaN             Open/Active                 NaN   \n",
       "756                  NaN             Open/Active                 NaN   \n",
       "\n",
       "    Related Opportunity Project Number          Contract Type Name  ...  \\\n",
       "0                                  NaN  Time and Material with cap  ...   \n",
       "1                                  NaN                    Lump Sum  ...   \n",
       "2                                  NaN  Time and Material with cap  ...   \n",
       "3                                  NaN  Time and Material with cap  ...   \n",
       "4                                  NaN  Time and Material with cap  ...   \n",
       "..                                 ...                         ...  ...   \n",
       "752                                NaN  Time and Material with cap  ...   \n",
       "753                                NaN  Time and Material with cap  ...   \n",
       "754                                NaN           Time and Material  ...   \n",
       "755                                NaN           Time and Material  ...   \n",
       "756                                NaN  Time and Material with cap  ...   \n",
       "\n",
       "    Legacy Project Number Organization Size Risk Profile Sustainable Project  \\\n",
       "0             Unspecified               RKC          NaN                 NaN   \n",
       "1             Unspecified               RKC          NaN                 NaN   \n",
       "2             Unspecified             Local          NaN                 NaN   \n",
       "3             Unspecified               RKC          NaN                 NaN   \n",
       "4             Unspecified               RKC          NaN                 NaN   \n",
       "..                    ...               ...          ...                 ...   \n",
       "752           Unspecified               NaN       Medium         Unspecified   \n",
       "753         06614047.0000               NaN         High         Unspecified   \n",
       "754         06753007.0000               NaN          Low         Unspecified   \n",
       "755         06753008.0000               NaN          Low         Unspecified   \n",
       "756           Unspecified               NaN  Unspecified         Unspecified   \n",
       "\n",
       "    interest_current.1 riskrating_project Total WIP Positive WIP Total Aging  \\\n",
       "0                  0.0                2.0       NaN          NaN         NaN   \n",
       "1                  0.0                1.0       NaN          NaN         NaN   \n",
       "2                  0.0                1.0       NaN          NaN         NaN   \n",
       "3                  0.0                2.0       NaN          NaN         NaN   \n",
       "4                  0.0                2.0       NaN          NaN         NaN   \n",
       "..                 ...                ...       ...          ...         ...   \n",
       "752                NaN                NaN    -13.26          0.0         NaN   \n",
       "753                NaN                NaN      0.00          0.0         NaN   \n",
       "754                NaN                NaN   2644.60       2644.6         NaN   \n",
       "755                NaN                NaN   5903.60       5903.6         NaN   \n",
       "756                NaN                NaN      0.00          0.0         NaN   \n",
       "\n",
       "                                Cleaned_Name  \n",
       "0    CP Mason City WWTP Construction Managem  \n",
       "1                     FY MDRRF Annual Report  \n",
       "2                       Minute Men Cleaners   \n",
       "3                         MPCCharlotteNCEVRU  \n",
       "4                  SC Florence SC Koppers Rd  \n",
       "..                                       ...  \n",
       "752                   CEG Modeling for SP FY  \n",
       "753                   CEG Citizens Reservoir  \n",
       "754                       Jefferson Co Sewer  \n",
       "755                       Jefferson Co Water  \n",
       "756        Environmental Consulting Services  \n",
       "\n",
       "[757 rows x 59 columns]"
      ]
     },
     "execution_count": 600,
     "metadata": {},
     "output_type": "execute_result"
    }
   ],
   "source": [
    "unspecifed_cleaned_names"
   ]
  },
  {
   "cell_type": "code",
   "execution_count": 593,
   "id": "dying-dinner",
   "metadata": {},
   "outputs": [
    {
     "data": {
      "text/plain": [
       "757"
      ]
     },
     "execution_count": 593,
     "metadata": {},
     "output_type": "execute_result"
    }
   ],
   "source": [
    "#Now the cleaned count can only be equal to 1\n",
    "unspecifed_cleaned_names = df_clean[df_clean['count'] == 1]\n",
    "\n",
    "\n",
    "#Then we need to extract the whole rows again to turn it into a dictionary\n",
    "unspecifed_cleaned_names = df[df['Cleaned Name'].isin(unspecifed_cleaned_names['Cleaned Name'])] \n",
    "\n",
    "\n",
    "unspecifed_cleaned_names = (unspecifed_cleaned_names.drop_duplicates(subset='Cleaned Name', keep= 'last').reset_index(drop=True))\n",
    "len(unspecifed_cleaned_names)"
   ]
  },
  {
   "cell_type": "code",
   "execution_count": 595,
   "id": "juvenile-fifty",
   "metadata": {},
   "outputs": [],
   "source": [
    "unspecifed_cleaned_names = unspecifed_cleaned_names.rename(columns={'Cleaned Name': 'Cleaned_Name'})\n",
    "df = df.rename(columns={'Cleaned Name': 'Cleaned_Name'})"
   ]
  },
  {
   "cell_type": "code",
   "execution_count": 596,
   "id": "binding-reform",
   "metadata": {},
   "outputs": [
    {
     "data": {
      "text/plain": [
       "2179046"
      ]
     },
     "execution_count": 596,
     "metadata": {},
     "output_type": "execute_result"
    }
   ],
   "source": [
    "len(df)"
   ]
  },
  {
   "cell_type": "code",
   "execution_count": 597,
   "id": "collaborative-possibility",
   "metadata": {},
   "outputs": [],
   "source": [
    "## create a script where we match the same cleaned names and \n",
    "\n",
    "realData = pd.Series(data=unspecifed_cleaned_names.Project_Number.values, index=unspecifed_cleaned_names.Cleaned_Name)\n",
    "\n",
    "df['Project_Number'] = df.Cleaned_Name.map(realData).fillna(df['Project_Number'])"
   ]
  },
  {
   "cell_type": "code",
   "execution_count": 612,
   "id": "diverse-multimedia",
   "metadata": {},
   "outputs": [],
   "source": [
    "#df[df['Cleaned_Name'] == 'CEG Citizens Reservoir']"
   ]
  },
  {
   "cell_type": "code",
   "execution_count": 614,
   "id": "arabic-level",
   "metadata": {},
   "outputs": [
    {
     "data": {
      "text/plain": [
       "Index(['Fiscal Period Code', 'Project_Number', 'Project Id', 'Project_Name',\n",
       "       'Health and Safety Status', 'project_date_create', 'Project Status',\n",
       "       'SalesCloudClientNo', 'Related Opportunity Project Number',\n",
       "       'Contract Type Name', 'Ultimate Customer AUS Market Sector',\n",
       "       'Division Short Name', 'location_2', 'location_4', 'Region', 'City',\n",
       "       'Country', 'Country Name', 'Proj_CVP', 'Proj_Serv_Offering',\n",
       "       'CVP Description', '﻿CVP Code', 'primary_client_industry',\n",
       "       'Sales Cloud Opportunity Number', 'Funding Amount - ITC (Snapshot)',\n",
       "       'Backlog NR', 'Actual Direct Labor Cost - MTD',\n",
       "       'Actual Non-Labor Cost - MTD', 'Actual Gross Revenue - MTD',\n",
       "       'Actual Net Revenue - MTD', 'EBITA - MTD',\n",
       "       'Forecast Direct Labor Cost - ITC', 'Forecast Net Revenue - ITC',\n",
       "       'Order Intake (NR) - MTD', 'WBS1', 'bookings_jtd', 'interest_current',\n",
       "       'interest_jtd', 'interest_ytd', 'multiplier_budget',\n",
       "       'multiplier_current', 'multiplier_target', 'overhead_current',\n",
       "       'overhead_rate', 'revenue_type', 'AUS Mkt Sector Aggregate',\n",
       "       'Baseline NR', 'Break Even Multiplier - Project', 'GBL Description',\n",
       "       'Legacy Project Number', 'Organization Size', 'Risk Profile',\n",
       "       'Sustainable Project', 'interest_current.1', 'riskrating_project',\n",
       "       'Total WIP', 'Positive WIP', 'Total Aging', 'Cleaned_Name'],\n",
       "      dtype='object')"
      ]
     },
     "execution_count": 614,
     "metadata": {},
     "output_type": "execute_result"
    }
   ],
   "source": [
    "df.columns"
   ]
  },
  {
   "cell_type": "code",
   "execution_count": 680,
   "id": "adaptive-organization",
   "metadata": {},
   "outputs": [
    {
     "data": {
      "text/plain": [
       "array(['Open/Active', 'On Hold - Inactive', 'Closed',\n",
       "       'Closed-Open to Collect', 'Final Closure Requested', 'New',\n",
       "       'New - Pending Approval', 'Rejected', 'Unspecified', 'Manual_Adj'],\n",
       "      dtype=object)"
      ]
     },
     "execution_count": 680,
     "metadata": {},
     "output_type": "execute_result"
    }
   ],
   "source": [
    "df['Project Status'].unique()"
   ]
  },
  {
   "cell_type": "code",
   "execution_count": 648,
   "id": "military-england",
   "metadata": {},
   "outputs": [],
   "source": [
    "import numpy as np"
   ]
  },
  {
   "cell_type": "code",
   "execution_count": 677,
   "id": "speaking-sheep",
   "metadata": {},
   "outputs": [],
   "source": [
    "df['Project Status']= df['Project Status'].str.replace(r'^(A)$','Open/Active')\n",
    "df['Project Status']= df['Project Status'].str.replace(r'^(D)$','On Hold - Inactive')\n",
    "df['Project Status']= df['Project Status'].str.replace(r'^(I)$','On Hold - Inactive')\n",
    "df['Project Status'].fillna('Unspecified', inplace=True)\n",
    "df['Project Status']= df['Project Status'].str.replace(r'^(Not Applicable)$', 'Unspecified')\n",
    "## New - pending, rejected, manual adjust are ignored for forecasting"
   ]
  },
  {
   "cell_type": "code",
   "execution_count": 683,
   "id": "progressive-bloom",
   "metadata": {},
   "outputs": [
    {
     "data": {
      "text/plain": [
       "array(['Time and Material', 'Lump Sum', 'Cost plus Fixed Fee', 'D', 'N',\n",
       "       'R', 'H', 'Unspecified', 'Time and Material with cap',\n",
       "       'Revenue group', 'Lump Sum with IFRS'], dtype=object)"
      ]
     },
     "execution_count": 683,
     "metadata": {},
     "output_type": "execute_result"
    }
   ],
   "source": [
    "df['Contract Type Name'].unique()"
   ]
  },
  {
   "cell_type": "code",
   "execution_count": 682,
   "id": "floating-regulation",
   "metadata": {},
   "outputs": [],
   "source": [
    "df['Contract Type Name']= df['Contract Type Name'].str.replace(r'^(T)$', 'Time and Material')\n",
    "df['Contract Type Name']= df['Contract Type Name'].str.replace(r'^(L)$', 'Lump Sum')\n",
    "df['Contract Type Name']= df['Contract Type Name'].str.replace(r'^(C)$', 'Cost plus Fixed Fee')\n",
    "df['Contract Type Name']= df['Contract Type Name'].str.replace(r'^(M)$', 'Lump Sum')\n",
    "df['Contract Type Name']= df['Contract Type Name'].str.replace(r'^(0)$', 'Unspecified')\n",
    "df['Contract Type Name']= df['Contract Type Name'].str.replace(r'^(Not Applicable)$', 'Unspecified')\n",
    "df['Contract Type Name'].fillna('Unspecified', inplace=True)"
   ]
  },
  {
   "cell_type": "code",
   "execution_count": 627,
   "id": "public-riverside",
   "metadata": {},
   "outputs": [],
   "source": [
    "df['Health and Safety Status']= df['Health and Safety Status'].str.replace(r'^(nan)$', 'Unspecified')"
   ]
  },
  {
   "cell_type": "code",
   "execution_count": 628,
   "id": "educated-board",
   "metadata": {},
   "outputs": [
    {
     "data": {
      "text/plain": [
       "array(['Environment', 'Water', 'Enabling Function', 'Buildings',\n",
       "       'Infrastructure'], dtype=object)"
      ]
     },
     "execution_count": 628,
     "metadata": {},
     "output_type": "execute_result"
    }
   ],
   "source": [
    "df['Division Short Name'].unique()"
   ]
  },
  {
   "cell_type": "code",
   "execution_count": 633,
   "id": "material-level",
   "metadata": {},
   "outputs": [
    {
     "data": {
      "text/plain": [
       "array(['United States', 'Germany', 'Israel', nan, 'United Kingdom',\n",
       "       'Argentina', 'Italy', 'Puerto Rico', 'Brazil', 'Panama',\n",
       "       'El Salvador', 'Bahamas', 'Nicaragua', 'Guatemala', 'Ecuador',\n",
       "       'Honduras', 'France', 'Canada', 'India', 'Australia',\n",
       "       'Netherlands', 'Indonesia', 'Malaysia', 'Turkey', 'Peru',\n",
       "       'Belgium', 'Guam', 'Aruba', 'Slovakia', 'West Indies', 'Norway',\n",
       "       'Barbados', 'Virgin Islands (US)', 'Mexico', 'Dominican Republic',\n",
       "       'Czech Republic', 'China', 'Uruguay', 'Hong Kong', 'Japan',\n",
       "       'Korea, Republic of', 'United Arab Emirates', 'Chile', 'Taiwan',\n",
       "       'Switzerland', 'South Africa', 'Portugal', 'Hungary', 'Qatar',\n",
       "       'Egypt', 'Singapore', 'Philippines', 'Colombia', 'Denmark',\n",
       "       'Saudi Arabia', 'Haiti', 'Ireland', 'Russian Federation',\n",
       "       'Cayman Islands', 'Grenada', 'Thailand', 'Sweden', 'Spain',\n",
       "       'Vanuatu', 'Trinidad and Tobago', 'Viet Nam', 'Finland', 'Austria',\n",
       "       'Afghanistan', 'Bermuda', 'New Zealand', 'Maldives',\n",
       "       'Turks and Caicos Islands', 'Costa Rica', 'Oman', 'Estonia',\n",
       "       'Unspecified', 'Pitcairn', 'Belize', 'Ethiopia', 'Greenland',\n",
       "       'Cambodia', 'Morocco', 'Saint Lucia', 'Bolivia'], dtype=object)"
      ]
     },
     "execution_count": 633,
     "metadata": {},
     "output_type": "execute_result"
    }
   ],
   "source": [
    "df['Country'].unique()"
   ]
  },
  {
   "cell_type": "code",
   "execution_count": 684,
   "id": "connected-mixture",
   "metadata": {},
   "outputs": [],
   "source": [
    "df['Country']= df['Country'].str.replace(r'^(Virgin Islands, U.S.)$', 'Virgin Islands (US)')\n",
    "df['Country']= df['Country'].str.replace(r'^(United States Minor Outlying Islands)$', 'United States')\n",
    "df['Country']= df['Country'].str.replace(r'^(US)$', 'United States')\n",
    "df['Country']= df['Country'].str.replace(r'^(Taiwan, Province of China)$', 'Taiwan')\n",
    "df['Country']= df['Country'].str.replace(r'^(Taiwan, Republic of China)$', 'Taiwan')\n",
    "df['Country']= df['Country'].str.replace(r'^(Republic of Ireland)$', 'Ireland')\n",
    "\n",
    "df['Country'].fillna('Unspecified', inplace=True)"
   ]
  },
  {
   "cell_type": "code",
   "execution_count": 634,
   "id": "auburn-ministry",
   "metadata": {},
   "outputs": [
    {
     "data": {
      "text/plain": [
       "array(['NY', 'VA', 'OH', 'PA', 'NJ', 'MD', nan, 'CA', 'AZ', 'TX', 'CT',\n",
       "       'KY', 'CO', 'FL', 'DC', 'AL', 'RI', 'PR', 'IN', 'NC', 'MA', 'DE',\n",
       "       'MI', 'WV', 'WA', 'IL', 'NM', 'OK', 'LA', 'TN', 'BERKS', 'AK',\n",
       "       'SC', 'GA', 'UT', 'MT', 'NH', 'MO', 'KS', 'OR', 'HI', 'NV', 'AB',\n",
       "       'VT', 'WI', 'SD', 'WY', 'ID', 'MN', 'NT', 'ON', 'IA', 'NO', 'SK',\n",
       "       'AR', 'MB', 'ND', 'GU', 'QC', 'MS', 'LONDON', 'BC', 'NE', 'ME',\n",
       "       'NU', 'NS', 'VI', 'SUFF', 'LINCS', 'PE', 'TYNE', 'CHES', 'NL',\n",
       "       'VIC', 'CAMBS', 'CORK', 'MAH', 'QLD', 'ACT', 'SX', 'NSW', 'GLOS',\n",
       "       'LANCS', 'STAFFS', 'ABER', 'California, US', 'New Jersey, US',\n",
       "       'Ohio, US', 'New Mexico, US', 'New York, US', 'Pennsylvania, US',\n",
       "       'Florida, US', 'Louisiana, US', 'Arkansas, US', 'Wisconsin, US',\n",
       "       'Virginia, US', 'Missouri, US', 'Kentucky, US',\n",
       "       'District of Columbia, US', 'Connecticut, US', 'Massachusetts, US',\n",
       "       'Minnesota, US', 'Mississippi, US', 'Georgia, US', 'Delaware, US',\n",
       "       'Oregon, US', 'West Virginia, US', 'Texas, US', 'Michigan, US',\n",
       "       'Arizona, US', 'Maryland, US', 'South Carolina, US',\n",
       "       'Illinois, US', 'Ontario, CA', 'Alabama, US', 'Colorado, US',\n",
       "       'Puerto Rico, PR', 'Indiana, US', 'North Carolina, US',\n",
       "       'Wyoming, US', 'Iowa, US', 'Washington, US', 'Vermont, US',\n",
       "       'Kansas, US', 'Oklahoma, US', 'Alaska, US', 'Nebraska, US',\n",
       "       'Utah, US', 'Hawaii, US', 'New Hampshire, US', 'Tennessee, US',\n",
       "       'Rhode Island, US', 'Virgin Islands, US', 'Maine, US',\n",
       "       'Alberta, CA', 'British Columbia, CA',\n",
       "       'Newfoundland and Labrador, CA', 'Saskatchewan, CA',\n",
       "       'North Dakota, US', 'Montana, US', 'South Dakota, US',\n",
       "       'Nevada, US', 'Idaho, US', 'Northwest Territories, CA',\n",
       "       'Quebec, CA', 'Guam, US', 'Manitoba, CA', 'SCOTB',\n",
       "       'Nova Scotia, CA', 'New Brunswick, CA', 'DERBYS', 'LANA', 'WYORKS',\n",
       "       'DEVO', 'NORF', 'ESSEX', 'Unspecified', 'Yukon, CA', 'Nunavut, CA',\n",
       "       'Prince Edward Island, CA'], dtype=object)"
      ]
     },
     "execution_count": 634,
     "metadata": {},
     "output_type": "execute_result"
    }
   ],
   "source": [
    "#Clean up regions before usage\n",
    "df['Region'].unique()"
   ]
  },
  {
   "cell_type": "code",
   "execution_count": 635,
   "id": "noble-norwegian",
   "metadata": {},
   "outputs": [
    {
     "data": {
      "text/plain": [
       "array(['United States', nan, 'Canada'], dtype=object)"
      ]
     },
     "execution_count": 635,
     "metadata": {},
     "output_type": "execute_result"
    }
   ],
   "source": [
    "#Country Name not important\n",
    "df['Country Name'].unique()"
   ]
  },
  {
   "cell_type": "code",
   "execution_count": 636,
   "id": "sonic-arbitration",
   "metadata": {},
   "outputs": [
    {
     "data": {
      "text/plain": [
       "array(['Strategic Environmental Consulting', 'Conveyance',\n",
       "       'Water Supply and Treatment', 'Water Management',\n",
       "       'Site Evaluation and Restoration', 'Water for Industry',\n",
       "       'Environmental Construction Services', 'Environmental Planning',\n",
       "       nan, 'Commercially Led Program Management', 'Business Advisory',\n",
       "       'GRIP', 'Rail & Urban Transport',\n",
       "       'Ports and Industrial Infrastructure Solutions',\n",
       "       'Mining Solutions', 'Overhead Project', 'Highways & ITS',\n",
       "       'Master Planning & Sustainable Urban Development',\n",
       "       'Contract Solutions', 'Airport Solutions',\n",
       "       'Performance Driven Design', 'N/A - NOT APPLICABLE',\n",
       "       'Program Management (PM)', 'Cost Management (CM)',\n",
       "       'Performance Driven Engineering (PDE)',\n",
       "       'Performance Driven Architecture (PDA)'], dtype=object)"
      ]
     },
     "execution_count": 636,
     "metadata": {},
     "output_type": "execute_result"
    }
   ],
   "source": [
    "df['Proj_CVP'].unique()"
   ]
  },
  {
   "cell_type": "code",
   "execution_count": 637,
   "id": "eligible-gibraltar",
   "metadata": {},
   "outputs": [
    {
     "data": {
      "text/plain": [
       "array(['EN - Due Diligence/M&A Support', 'WR - Drinking Water Supply',\n",
       "       'WR - Information Technology', 'WR - Wastewater Treatment',\n",
       "       'WR - Program Management', 'WR - Drinking Water Treatment',\n",
       "       'EN - Remediation Design & Engineering',\n",
       "       'WR - Stormwater/Urban Drainage',\n",
       "       'EN - Environmental Regulatory Compliance & Auditing',\n",
       "       'EN - Hydrogeology/Modeling', 'EN - Air & Noise Services',\n",
       "       'WR - Integrated Water Resource Mgmt',\n",
       "       'WR - Management Consulting',\n",
       "       'EN - Remediation Technical Consulting',\n",
       "       'WR - Water Construction Mgmt', 'WR - Wastewater Collection',\n",
       "       'EN - Risk Assessment Management & Regulatory Strategies',\n",
       "       'EN - Environmental Planning', 'Industrial Design & Engineering',\n",
       "       'WR - Solid Waste', 'EN - Non-Financial Reporting Services/EMIS',\n",
       "       'WR - Financial Consulting', 'EN - D4',\n",
       "       'EN - Hazardous Building Materials (Asbestos & Lead)',\n",
       "       'EN - Earthwork & Sediment Services', 'WR - Water Distribution',\n",
       "       'EN - Industrial Hygiene & Safety',\n",
       "       'EN - Industrial Facility Construction Services',\n",
       "       'BL - Project Management', nan, 'WR - Flood Protection',\n",
       "       'EN - OMM Implementation', 'EN - Incident Response & Recovery',\n",
       "       'EN - Retail Gas', 'EN - Biodiversity & Ecosystem Services',\n",
       "       'EN - Site Investigations', 'EN - Engineered Treatment Systems',\n",
       "       'EN - Sediment Consulting Services', 'EN - Communications',\n",
       "       'EN - Product Stewardship', 'BL - Program Management',\n",
       "       'IN - Rail Construction Management', 'IN - Facilities',\n",
       "       'IN - Roadway Design', 'BL - Design Management',\n",
       "       'EN -EHS Improvement',\n",
       "       'EN - Information Management/Data Visualization', 'BL - Survey',\n",
       "       'BL - Cost Estimating & Management',\n",
       "       'IN - Roadway Construction Management', 'EN - System OMM',\n",
       "       'EN - Litigation Support', 'EN - Sustainability',\n",
       "       'WR - Geotechnical Engineering', 'IN - Rail Design',\n",
       "       'IN - Bridge Design', 'WR - Dam Design & Inspection',\n",
       "       'IN - Intelligent Transportation Systems',\n",
       "       'IN - GIS/Asset Management', 'BL - Claims Evaluation & Resolution',\n",
       "       'IN - NEPA/Natural Resources',\n",
       "       'WR - Coastal Protection/Restoration', 'WR - Risk & Resiliency',\n",
       "       'IN - Airports', 'IN - Ports', 'BL - Building Design',\n",
       "       'BL - Value Engineering', 'IN - SURVEY', 'IN - Survey',\n",
       "       'WR - Asset Management & Performance', 'WR - Hydraulic Modeling',\n",
       "       'Global Excellence Center Design', 'WR - Hydraulic Structures',\n",
       "       'WR - Groundwater', 'BL - Bldg Des Intelligent Systems',\n",
       "       'BL - Construction Management', 'N/A - NOT APPLICABLE',\n",
       "       'BL - Site Planning & Design', 'IN - Transportation Planning',\n",
       "       'IN - Rail Planning', 'IN - Traffic/ITS',\n",
       "       'WR - Strategic Planning',\n",
       "       'EN - Geotechnical & Site Civil Engineering',\n",
       "       'IN - Master Planning', 'IN - Concept Design',\n",
       "       'BL - Property Advisory', 'EN - AFS',\n",
       "       'WR - Water Intelligent Systems', 'BL - Transaction Advisory',\n",
       "       'BL - Structural Design', 'IND - Advisory', 'IND - Pre-Feed',\n",
       "       'IND - Feed', 'IND - Detail Engineering',\n",
       "       'BL - Land Development Construction Mgmt', 'IND - EPCM',\n",
       "       'IND - Asset Integrity', 'IND - PM/CM', 'BL - Capex Advisory',\n",
       "       'BL - Landscape Architecture'], dtype=object)"
      ]
     },
     "execution_count": 637,
     "metadata": {},
     "output_type": "execute_result"
    }
   ],
   "source": [
    "df['Proj_Serv_Offering'].unique()"
   ]
  },
  {
   "cell_type": "code",
   "execution_count": 685,
   "id": "nearby-pillow",
   "metadata": {},
   "outputs": [
    {
     "data": {
      "text/plain": [
       "array(['Unspecified', 'Strategic Environmental Consulting',\n",
       "       'Water Supply and Treatment', 'Site Evaluation and Restoration',\n",
       "       'Environmental Planning', 'Conveyance', 'Water Management',\n",
       "       'Water for Industry', 'Business Advisory', 'Mining Solutions',\n",
       "       'Environmental Construction Services',\n",
       "       'Highways and ITS Solutions', 'Contract Solutions',\n",
       "       'Rail & Urban Transport Solutions',\n",
       "       'Ports and Industrial Infrastructure Solutions',\n",
       "       'Overhead Project',\n",
       "       'Master Planning & Sustainable Urban Development',\n",
       "       'Project and Program Management', 'GRIP',\n",
       "       'Cost and Commercial Management', 'Airport Solutions',\n",
       "       'Performance Driven Engineering',\n",
       "       'Performance Driven Architecture', 'Default'], dtype=object)"
      ]
     },
     "execution_count": 685,
     "metadata": {},
     "output_type": "execute_result"
    }
   ],
   "source": [
    "df['CVP Description']= df['CVP Description'].str.replace(r'^(N/A - NOT APPLICABLE)$', 'Unspecified')\n",
    "df['CVP Description'].fillna('Unspecified', inplace=True)\n",
    "df['CVP Description'].unique()"
   ]
  },
  {
   "cell_type": "code",
   "execution_count": 686,
   "id": "sitting-brown",
   "metadata": {},
   "outputs": [
    {
     "data": {
      "text/plain": [
       "array(['CP - Chem/Pharma', 'MU - Municipal', 'ST - State/Provinces',\n",
       "       'OG - Oil & Gas', 'CONG - Conglomerate',\n",
       "       'WC - Water Companies/Utilities', 'DOD - Dept of Defense',\n",
       "       'NP - Non-Profit', 'DOT - State Transportation', 'FED - Federal',\n",
       "       'IC - Arcadis Intercompany', 'CR - Consumer & Retail',\n",
       "       'BLD - Building Materials & General Manufacturing',\n",
       "       'MM - Mining/Metals', 'PC - Power Companies/Utilities',\n",
       "       'PA - Pulp/Paper',\n",
       "       'EE - Engineering, Environmental & Construction Management',\n",
       "       'PPA - Ports/Public Authority', 'TC - Telecom Utilities',\n",
       "       'FIN - Financial', 'CT - Contractors',\n",
       "       'F&BP - Food & Bev Producers', 'IN - Internal',\n",
       "       'CD - Commercial Developers', 'RL - Freight Rail',\n",
       "       'LOG - Logistics', 'EL - Technology, Telecomm & Electronics',\n",
       "       'AU - Automotive', 'AE - Aerospace', 'INS - Insurance',\n",
       "       'PvtEd - Private Education', 'PubEd - Public Education',\n",
       "       'DC - Digital & Creative Industries', 'NT - Non-Tier GRIP',\n",
       "       'TS - Transit', 'PvtHC - Private Healthcare Institutions',\n",
       "       'TRN - Transportation (Non-Rail Road)',\n",
       "       'PubHC - Public Healthcare Institutions', 'Unspecified'],\n",
       "      dtype=object)"
      ]
     },
     "execution_count": 686,
     "metadata": {},
     "output_type": "execute_result"
    }
   ],
   "source": [
    "df['primary_client_industry'].fillna('Unspecified', inplace=True)\n",
    "df['primary_client_industry'].unique()"
   ]
  },
  {
   "cell_type": "code",
   "execution_count": 689,
   "id": "extreme-illness",
   "metadata": {},
   "outputs": [
    {
     "data": {
      "text/plain": [
       "array(['RKC', 'Local', 'GKC', 'Key Global', 'Key Regional', 'Unspecified',\n",
       "       'Key Local'], dtype=object)"
      ]
     },
     "execution_count": 689,
     "metadata": {},
     "output_type": "execute_result"
    }
   ],
   "source": [
    "df['Organization Size'].fillna('Unspecified', inplace=True)\n",
    "df['Organization Size'].unique()"
   ]
  },
  {
   "cell_type": "code",
   "execution_count": 691,
   "id": "acting-tuition",
   "metadata": {},
   "outputs": [
    {
     "data": {
      "text/plain": [
       "array(['Unspecified', 'Low', 'Medium', 'High'], dtype=object)"
      ]
     },
     "execution_count": 691,
     "metadata": {},
     "output_type": "execute_result"
    }
   ],
   "source": [
    "df['Risk Profile'].fillna('Unspecified', inplace=True)\n",
    "df['Risk Profile'].unique()"
   ]
  },
  {
   "cell_type": "code",
   "execution_count": 693,
   "id": "binary-fiber",
   "metadata": {},
   "outputs": [
    {
     "data": {
      "text/plain": [
       "array(['Unspecified', 'Level 1'], dtype=object)"
      ]
     },
     "execution_count": 693,
     "metadata": {},
     "output_type": "execute_result"
    }
   ],
   "source": [
    "#Can probably not be used\n",
    "df['Sustainable Project'].fillna('Unspecified', inplace=True)\n",
    "df['Sustainable Project'].unique()"
   ]
  },
  {
   "cell_type": "code",
   "execution_count": 694,
   "id": "undefined-grocery",
   "metadata": {},
   "outputs": [
    {
     "data": {
      "text/plain": [
       "array([ -23.04,    3.19,    1.75, ..., -638.74,  638.12,     nan])"
      ]
     },
     "execution_count": 694,
     "metadata": {},
     "output_type": "execute_result"
    }
   ],
   "source": [
    "df['interest_current.1'].unique()"
   ]
  },
  {
   "cell_type": "code",
   "execution_count": 695,
   "id": "noticed-directive",
   "metadata": {},
   "outputs": [
    {
     "data": {
      "text/plain": [
       "array([nan,  1.,  2.,  3.,  5.,  4.,  0.])"
      ]
     },
     "execution_count": 695,
     "metadata": {},
     "output_type": "execute_result"
    }
   ],
   "source": [
    "df['riskrating_project'].unique()"
   ]
  },
  {
   "cell_type": "code",
   "execution_count": 696,
   "id": "other-domain",
   "metadata": {},
   "outputs": [
    {
     "data": {
      "text/plain": [
       "array([     nan,     0.  ,  2879.2 , ..., 51525.05,    85.03, 10766.14])"
      ]
     },
     "execution_count": 696,
     "metadata": {},
     "output_type": "execute_result"
    }
   ],
   "source": [
    "df['Total WIP'].unique()"
   ]
  },
  {
   "cell_type": "code",
   "execution_count": 697,
   "id": "least-vegetation",
   "metadata": {},
   "outputs": [
    {
     "data": {
      "text/plain": [
       "array([     nan,     0.  ,  2879.2 , ..., 51525.05,    85.03, 10766.14])"
      ]
     },
     "execution_count": 697,
     "metadata": {},
     "output_type": "execute_result"
    }
   ],
   "source": [
    "df['Positive WIP'].unique()"
   ]
  },
  {
   "cell_type": "code",
   "execution_count": 698,
   "id": "great-belize",
   "metadata": {},
   "outputs": [
    {
     "data": {
      "text/plain": [
       "array([nan])"
      ]
     },
     "execution_count": 698,
     "metadata": {},
     "output_type": "execute_result"
    }
   ],
   "source": [
    "#column not important\n",
    "df['Total Aging'].unique()"
   ]
  },
  {
   "cell_type": "code",
   "execution_count": 699,
   "id": "fancy-christmas",
   "metadata": {},
   "outputs": [],
   "source": [
    "df.to_csv('mapped.csv')"
   ]
  }
 ],
 "metadata": {
  "kernelspec": {
   "display_name": "Python 3",
   "language": "python",
   "name": "python3"
  },
  "language_info": {
   "codemirror_mode": {
    "name": "ipython",
    "version": 3
   },
   "file_extension": ".py",
   "mimetype": "text/x-python",
   "name": "python",
   "nbconvert_exporter": "python",
   "pygments_lexer": "ipython3",
   "version": "3.7.9"
  }
 },
 "nbformat": 4,
 "nbformat_minor": 5
}
