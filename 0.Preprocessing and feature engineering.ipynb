{
 "cells": [
  {
   "cell_type": "markdown",
   "id": "81a01661",
   "metadata": {},
   "source": [
    "### Plotting time behaviour of different projects"
   ]
  },
  {
   "cell_type": "code",
   "execution_count": 216,
   "id": "25887e35",
   "metadata": {},
   "outputs": [],
   "source": [
    "import pandas as pd"
   ]
  },
  {
   "cell_type": "code",
   "execution_count": 251,
   "id": "ed932f46",
   "metadata": {},
   "outputs": [
    {
     "name": "stderr",
     "output_type": "stream",
     "text": [
      "/Users/julia/opt/anaconda3/lib/python3.7/site-packages/IPython/core/interactiveshell.py:3170: DtypeWarning: Columns (1,2,3,4,6,7,8,9,10,11,12,13,14,15,16,17,18,19,20,40,41,45,51,58,59,61,64) have mixed types.Specify dtype option on import or set low_memory=False.\n",
      "  interactivity=interactivity, compiler=compiler, result=result)\n"
     ]
    }
   ],
   "source": [
    "df = pd.read_csv('mv_port.csv')"
   ]
  },
  {
   "cell_type": "code",
   "execution_count": 252,
   "id": "06d01674",
   "metadata": {},
   "outputs": [
    {
     "data": {
      "text/html": [
       "<div>\n",
       "<style scoped>\n",
       "    .dataframe tbody tr th:only-of-type {\n",
       "        vertical-align: middle;\n",
       "    }\n",
       "\n",
       "    .dataframe tbody tr th {\n",
       "        vertical-align: top;\n",
       "    }\n",
       "\n",
       "    .dataframe thead th {\n",
       "        text-align: right;\n",
       "    }\n",
       "</style>\n",
       "<table border=\"1\" class=\"dataframe\">\n",
       "  <thead>\n",
       "    <tr style=\"text-align: right;\">\n",
       "      <th></th>\n",
       "      <th>Unnamed: 0</th>\n",
       "      <th>Project Number_x</th>\n",
       "      <th>Project Name</th>\n",
       "      <th>Health and Safety Status</th>\n",
       "      <th>Project Status</th>\n",
       "      <th>SalesCloudClientNo</th>\n",
       "      <th>Contract Type Name</th>\n",
       "      <th>Ultimate Customer AUS Market Sector</th>\n",
       "      <th>Division Short Name</th>\n",
       "      <th>location_2</th>\n",
       "      <th>...</th>\n",
       "      <th>Project Number_y</th>\n",
       "      <th>Project Start Date</th>\n",
       "      <th>POC</th>\n",
       "      <th>Contract Status</th>\n",
       "      <th>Related Opportunity Project Number_y</th>\n",
       "      <th>Project Manager Employee Number (Current)</th>\n",
       "      <th>Project Progress Status (Current)</th>\n",
       "      <th>Scheduled End Date</th>\n",
       "      <th>Date</th>\n",
       "      <th>Project Number</th>\n",
       "    </tr>\n",
       "  </thead>\n",
       "  <tbody>\n",
       "    <tr>\n",
       "      <th>0</th>\n",
       "      <td>0</td>\n",
       "      <td>unspecified</td>\n",
       "      <td>UNIVAR - PROJECT MONARCH</td>\n",
       "      <td>NaN</td>\n",
       "      <td>Open/Active</td>\n",
       "      <td>10239939.0</td>\n",
       "      <td>Time and Material</td>\n",
       "      <td>NaN</td>\n",
       "      <td>Environment</td>\n",
       "      <td>RE</td>\n",
       "      <td>...</td>\n",
       "      <td>NaN</td>\n",
       "      <td>NaN</td>\n",
       "      <td>NaN</td>\n",
       "      <td>NaN</td>\n",
       "      <td>NaN</td>\n",
       "      <td>NaN</td>\n",
       "      <td>NaN</td>\n",
       "      <td>NaN</td>\n",
       "      <td>201601</td>\n",
       "      <td>unspecified</td>\n",
       "    </tr>\n",
       "    <tr>\n",
       "      <th>1</th>\n",
       "      <td>1</td>\n",
       "      <td>30001238</td>\n",
       "      <td>YJWWTP Post-Sandy Rehab- PhIII</td>\n",
       "      <td>Plan Required</td>\n",
       "      <td>Open/Active</td>\n",
       "      <td>10238060.0</td>\n",
       "      <td>Cost plus Fixed Fee</td>\n",
       "      <td>Municipalities/Local Govt.</td>\n",
       "      <td>Water</td>\n",
       "      <td>NT</td>\n",
       "      <td>...</td>\n",
       "      <td>NaN</td>\n",
       "      <td>2014-12-21 00:00:00</td>\n",
       "      <td>NaN</td>\n",
       "      <td>NaN</td>\n",
       "      <td>NaN</td>\n",
       "      <td>24232.0</td>\n",
       "      <td>NaN</td>\n",
       "      <td>2021-05-03</td>\n",
       "      <td>201601</td>\n",
       "      <td>30001238</td>\n",
       "    </tr>\n",
       "    <tr>\n",
       "      <th>2</th>\n",
       "      <td>2</td>\n",
       "      <td>30001347</td>\n",
       "      <td>Abandoned Chemical Sales Fac.</td>\n",
       "      <td>Plan Required</td>\n",
       "      <td>Open/Active</td>\n",
       "      <td>10238193.0</td>\n",
       "      <td>D</td>\n",
       "      <td>State/Regional Government</td>\n",
       "      <td>Water</td>\n",
       "      <td>NT</td>\n",
       "      <td>...</td>\n",
       "      <td>NaN</td>\n",
       "      <td>2012-04-27 00:00:00</td>\n",
       "      <td>NaN</td>\n",
       "      <td>NaN</td>\n",
       "      <td>NaN</td>\n",
       "      <td>24986.0</td>\n",
       "      <td>NaN</td>\n",
       "      <td>2020-10-01</td>\n",
       "      <td>201601</td>\n",
       "      <td>30001347</td>\n",
       "    </tr>\n",
       "    <tr>\n",
       "      <th>3</th>\n",
       "      <td>3</td>\n",
       "      <td>30001355</td>\n",
       "      <td>NYSDEC Jimmy's RA</td>\n",
       "      <td>Plan Required</td>\n",
       "      <td>Open/Active</td>\n",
       "      <td>10238193.0</td>\n",
       "      <td>Cost plus Fixed Fee</td>\n",
       "      <td>State/Regional Government</td>\n",
       "      <td>Environment</td>\n",
       "      <td>RE</td>\n",
       "      <td>...</td>\n",
       "      <td>NaN</td>\n",
       "      <td>2013-05-19 00:00:00</td>\n",
       "      <td>NaN</td>\n",
       "      <td>NaN</td>\n",
       "      <td>NaN</td>\n",
       "      <td>24341.0</td>\n",
       "      <td>NaN</td>\n",
       "      <td>2021-01-11</td>\n",
       "      <td>201601</td>\n",
       "      <td>30001355</td>\n",
       "    </tr>\n",
       "    <tr>\n",
       "      <th>4</th>\n",
       "      <td>4</td>\n",
       "      <td>30001367</td>\n",
       "      <td>Chemical Sales RD WA 34</td>\n",
       "      <td>Plan Required</td>\n",
       "      <td>Open/Active</td>\n",
       "      <td>10238193.0</td>\n",
       "      <td>D</td>\n",
       "      <td>State/Regional Government</td>\n",
       "      <td>Water</td>\n",
       "      <td>NT</td>\n",
       "      <td>...</td>\n",
       "      <td>NaN</td>\n",
       "      <td>2015-07-01 00:00:00</td>\n",
       "      <td>NaN</td>\n",
       "      <td>NaN</td>\n",
       "      <td>NaN</td>\n",
       "      <td>24986.0</td>\n",
       "      <td>NaN</td>\n",
       "      <td>2020-06-11</td>\n",
       "      <td>201601</td>\n",
       "      <td>30001367</td>\n",
       "    </tr>\n",
       "  </tbody>\n",
       "</table>\n",
       "<p>5 rows × 65 columns</p>\n",
       "</div>"
      ],
      "text/plain": [
       "   Unnamed: 0 Project Number_x                    Project Name  \\\n",
       "0           0      unspecified        UNIVAR - PROJECT MONARCH   \n",
       "1           1         30001238  YJWWTP Post-Sandy Rehab- PhIII   \n",
       "2           2         30001347   Abandoned Chemical Sales Fac.   \n",
       "3           3         30001355               NYSDEC Jimmy's RA   \n",
       "4           4         30001367         Chemical Sales RD WA 34   \n",
       "\n",
       "  Health and Safety Status Project Status  SalesCloudClientNo  \\\n",
       "0                      NaN    Open/Active          10239939.0   \n",
       "1            Plan Required    Open/Active          10238060.0   \n",
       "2            Plan Required    Open/Active          10238193.0   \n",
       "3            Plan Required    Open/Active          10238193.0   \n",
       "4            Plan Required    Open/Active          10238193.0   \n",
       "\n",
       "    Contract Type Name Ultimate Customer AUS Market Sector  \\\n",
       "0    Time and Material                                 NaN   \n",
       "1  Cost plus Fixed Fee          Municipalities/Local Govt.   \n",
       "2                    D           State/Regional Government   \n",
       "3  Cost plus Fixed Fee           State/Regional Government   \n",
       "4                    D           State/Regional Government   \n",
       "\n",
       "  Division Short Name location_2  ... Project Number_y   Project Start Date  \\\n",
       "0         Environment         RE  ...              NaN                  NaN   \n",
       "1               Water         NT  ...              NaN  2014-12-21 00:00:00   \n",
       "2               Water         NT  ...              NaN  2012-04-27 00:00:00   \n",
       "3         Environment         RE  ...              NaN  2013-05-19 00:00:00   \n",
       "4               Water         NT  ...              NaN  2015-07-01 00:00:00   \n",
       "\n",
       "  POC Contract Status Related Opportunity Project Number_y  \\\n",
       "0 NaN             NaN                                  NaN   \n",
       "1 NaN             NaN                                  NaN   \n",
       "2 NaN             NaN                                  NaN   \n",
       "3 NaN             NaN                                  NaN   \n",
       "4 NaN             NaN                                  NaN   \n",
       "\n",
       "  Project Manager Employee Number (Current) Project Progress Status (Current)  \\\n",
       "0                                       NaN                               NaN   \n",
       "1                                   24232.0                               NaN   \n",
       "2                                   24986.0                               NaN   \n",
       "3                                   24341.0                               NaN   \n",
       "4                                   24986.0                               NaN   \n",
       "\n",
       "  Scheduled End Date    Date Project Number  \n",
       "0                NaN  201601    unspecified  \n",
       "1         2021-05-03  201601       30001238  \n",
       "2         2020-10-01  201601       30001347  \n",
       "3         2021-01-11  201601       30001355  \n",
       "4         2020-06-11  201601       30001367  \n",
       "\n",
       "[5 rows x 65 columns]"
      ]
     },
     "execution_count": 252,
     "metadata": {},
     "output_type": "execute_result"
    }
   ],
   "source": [
    "df.head()"
   ]
  },
  {
   "cell_type": "code",
   "execution_count": 253,
   "id": "ae35a93e",
   "metadata": {},
   "outputs": [],
   "source": [
    "df = df.loc[:, ~df.columns.str.contains('^Unnamed')]\n",
    "df['Project Number'] = df['Project Number'].astype('str') "
   ]
  },
  {
   "cell_type": "markdown",
   "id": "d44c7d06",
   "metadata": {},
   "source": [
    "### for now lets exclude the 2021-04 observation"
   ]
  },
  {
   "cell_type": "code",
   "execution_count": 254,
   "id": "31337b86",
   "metadata": {},
   "outputs": [],
   "source": [
    "df = df[df['Date'] != 202104]"
   ]
  },
  {
   "cell_type": "markdown",
   "id": "adcd1255",
   "metadata": {},
   "source": [
    "### Total Project duration"
   ]
  },
  {
   "cell_type": "code",
   "execution_count": 255,
   "id": "967378b9",
   "metadata": {},
   "outputs": [],
   "source": [
    "df['Projectduration'] = df.groupby(['Project Number'])['Date'].transform('count')"
   ]
  },
  {
   "cell_type": "code",
   "execution_count": 256,
   "id": "352363a3",
   "metadata": {},
   "outputs": [
    {
     "data": {
      "text/plain": [
       "2208       63\n",
       "2461       63\n",
       "4894       63\n",
       "7428       63\n",
       "10055      63\n",
       "           ..\n",
       "933487     63\n",
       "972070     63\n",
       "1009374    63\n",
       "1038580    63\n",
       "1079964    63\n",
       "Name: Projectduration, Length: 63, dtype: int64"
      ]
     },
     "execution_count": 256,
     "metadata": {},
     "output_type": "execute_result"
    }
   ],
   "source": [
    "df[df['Project Number'] == '30001798']['Projectduration']"
   ]
  },
  {
   "cell_type": "markdown",
   "id": "f4e5326d",
   "metadata": {},
   "source": [
    "## Let's alculate cumsumNR"
   ]
  },
  {
   "cell_type": "code",
   "execution_count": 257,
   "id": "99e0fcb4",
   "metadata": {},
   "outputs": [],
   "source": [
    "df['Actual Net Revenue - MTD'].fillna(0, inplace=True)\n",
    "\n",
    "df['ActualNR_sum'] = df.groupby(\"Project Number\")['Actual Net Revenue - MTD'].cumsum()"
   ]
  },
  {
   "cell_type": "code",
   "execution_count": 258,
   "id": "6129d8c3",
   "metadata": {},
   "outputs": [
    {
     "data": {
      "text/plain": [
       "2208       10223.97\n",
       "2461       12507.97\n",
       "4894       13099.24\n",
       "7428       14328.92\n",
       "10055      16406.67\n",
       "             ...   \n",
       "933487     44090.87\n",
       "972070     45126.27\n",
       "1009374    45126.27\n",
       "1038580    45126.27\n",
       "1079964    45306.27\n",
       "Name: ActualNR_sum, Length: 63, dtype: float64"
      ]
     },
     "execution_count": 258,
     "metadata": {},
     "output_type": "execute_result"
    }
   ],
   "source": [
    "df[df['Project Number'] == '30001798']['ActualNR_sum']"
   ]
  },
  {
   "cell_type": "markdown",
   "id": "ad009ad4",
   "metadata": {},
   "source": [
    "### We need to drop some columns"
   ]
  },
  {
   "cell_type": "code",
   "execution_count": 259,
   "id": "f06b075a",
   "metadata": {},
   "outputs": [
    {
     "data": {
      "text/plain": [
       "0                  NaN\n",
       "1                  NaN\n",
       "2                  NaN\n",
       "3                  NaN\n",
       "4                  NaN\n",
       "              ...     \n",
       "1269166    Unspecified\n",
       "1269167    Unspecified\n",
       "1269168    Unspecified\n",
       "1269169    Unspecified\n",
       "1269170    Unspecified\n",
       "Name: Project Progress Status (Current), Length: 1269171, dtype: object"
      ]
     },
     "execution_count": 259,
     "metadata": {},
     "output_type": "execute_result"
    }
   ],
   "source": [
    "#df.pop('CVP Code')\n",
    "df.pop('interest_current.1')\n",
    "df.pop('Total WIP')\n",
    "df.pop('Positive WIP')\n",
    "df.pop('Project Number_y')\n",
    "df.pop('ID')\n",
    "df.pop('POC')\n",
    "df.pop('Contract Status')\n",
    "df.pop('Related Opportunity Project Number_y')\n",
    "df.pop('Project Progress Status (Current)')"
   ]
  },
  {
   "cell_type": "markdown",
   "id": "69b376ca",
   "metadata": {},
   "source": [
    "### forward fill funding amount"
   ]
  },
  {
   "cell_type": "code",
   "execution_count": 260,
   "id": "c68ea4be",
   "metadata": {},
   "outputs": [],
   "source": [
    "def obtain_df(project, df):\n",
    "    df_project = df[df['Project Number'] == project]\n",
    "    #df_project = df_project[['Fiscal Period Code', 'Funding Amount - ITC (Snapshot)', 'Backlog NR', 'Actual Gross Revenue - MTD']].copy()\n",
    "    df_project['Backlog_Shifted'] = df_project['Backlog NR'].transform(lambda x: x.shift())\n",
    "    df_project.reset_index(inplace=True)\n",
    "    df_project = df_project.loc[:, ~df_project.columns.str.contains('^index')]\n",
    "    return df_project\n",
    "\n",
    "def random_project(df):\n",
    "    df = df.sample(n=1)\n",
    "    project_number = df['Project Number'].item()\n",
    "    return project_number"
   ]
  },
  {
   "cell_type": "markdown",
   "id": "66b04f42",
   "metadata": {},
   "source": [
    "### Let's sort the dataframe by project number and only run this preprocessing for a few projects now"
   ]
  },
  {
   "cell_type": "code",
   "execution_count": 261,
   "id": "c52f983f",
   "metadata": {},
   "outputs": [],
   "source": [
    "df.sort_values(by=['Project Number', 'Date'], inplace=True)\n",
    "df.reset_index(inplace=True)"
   ]
  },
  {
   "cell_type": "markdown",
   "id": "070405f4",
   "metadata": {},
   "source": [
    "### I will now generate 10 smaller dataframes so that the remove NA can be applied"
   ]
  },
  {
   "cell_type": "code",
   "execution_count": 127,
   "id": "40be036e",
   "metadata": {},
   "outputs": [
    {
     "data": {
      "text/plain": [
       "126917.1"
      ]
     },
     "execution_count": 127,
     "metadata": {},
     "output_type": "execute_result"
    }
   ],
   "source": [
    "1269171/10"
   ]
  },
  {
   "cell_type": "code",
   "execution_count": 190,
   "id": "0e6f2ec7",
   "metadata": {},
   "outputs": [],
   "source": [
    "#in this function we need to put in the start and preliminary end date, and then it will make sure that we don't exclude a project\n",
    "def the_splits(start,prelimend):\n",
    "    dfmutable = df.iloc[start:prelimend]\n",
    "    x=dfmutable.iloc[-1:]['Project Number']\n",
    "    y = x.iloc[0]\n",
    "    lastproject=df[df['Project Number'] == y]\n",
    "    lastindex=lastproject.index[-1]\n",
    "    sub_df = df.iloc[:lastindex]\n",
    "    return sub_df"
   ]
  },
  {
   "cell_type": "code",
   "execution_count": 154,
   "id": "7fd1a7ce",
   "metadata": {},
   "outputs": [
    {
     "data": {
      "text/plain": [
       "1142254"
      ]
     },
     "execution_count": 154,
     "metadata": {},
     "output_type": "execute_result"
    }
   ],
   "source": [
    "(1269171-126917)"
   ]
  },
  {
   "cell_type": "code",
   "execution_count": 172,
   "id": "dd90d4fa",
   "metadata": {},
   "outputs": [],
   "source": [
    "start= df1.index[-1] +1\n",
    "end = start + 126917\n",
    "df2 = the_splits(start, end)"
   ]
  },
  {
   "cell_type": "code",
   "execution_count": 173,
   "id": "745d8f4e",
   "metadata": {},
   "outputs": [],
   "source": [
    "start= df2.index[-1] +1\n",
    "end = start + 126917\n",
    "df3 = the_splits(start, end)"
   ]
  },
  {
   "cell_type": "code",
   "execution_count": 174,
   "id": "6ad8cab7",
   "metadata": {},
   "outputs": [],
   "source": [
    "start= df3.index[-1] +1\n",
    "end = start + 126917\n",
    "df4 = the_splits(start, end)"
   ]
  },
  {
   "cell_type": "code",
   "execution_count": 175,
   "id": "482bddcc",
   "metadata": {},
   "outputs": [],
   "source": [
    "start= df4.index[-1] +1\n",
    "end = start + 126917\n",
    "df5 = the_splits(start, end)"
   ]
  },
  {
   "cell_type": "code",
   "execution_count": 176,
   "id": "b2c8916d",
   "metadata": {},
   "outputs": [],
   "source": [
    "start= df5.index[-1] +1\n",
    "end = start + 126917\n",
    "df6 = the_splits(start, end)"
   ]
  },
  {
   "cell_type": "code",
   "execution_count": 177,
   "id": "dcc8b527",
   "metadata": {},
   "outputs": [],
   "source": [
    "start= df6.index[-1] +1\n",
    "end = start + 126917\n",
    "df7 = the_splits(start, end)"
   ]
  },
  {
   "cell_type": "code",
   "execution_count": 178,
   "id": "08d3d0ce",
   "metadata": {},
   "outputs": [],
   "source": [
    "start= df7.index[-1] +1\n",
    "end = start + 126917\n",
    "df8 = the_splits(start, end)"
   ]
  },
  {
   "cell_type": "code",
   "execution_count": 179,
   "id": "3abf4784",
   "metadata": {},
   "outputs": [],
   "source": [
    "start= df8.index[-1] +1\n",
    "end = start + 126917\n",
    "df9 = the_splits(start, end)"
   ]
  },
  {
   "cell_type": "code",
   "execution_count": 184,
   "id": "af46e40b",
   "metadata": {},
   "outputs": [],
   "source": [
    "start= df9.index[-1] +1\n",
    "end = len(df)\n",
    "df10 = df.iloc[start:end]"
   ]
  },
  {
   "cell_type": "code",
   "execution_count": 191,
   "id": "d7123f6d",
   "metadata": {},
   "outputs": [],
   "source": [
    "#chuncks\n",
    "def obtain_chucklist(dataFrame):\n",
    "    chuncks = dataFrame['Project Number'].unique()\n",
    "    chuncks = chuncks.tolist()\n",
    "    return chuncks"
   ]
  },
  {
   "cell_type": "code",
   "execution_count": 187,
   "id": "41ba650e",
   "metadata": {},
   "outputs": [
    {
     "data": {
      "text/plain": [
       "list"
      ]
     },
     "execution_count": 187,
     "metadata": {},
     "output_type": "execute_result"
    }
   ],
   "source": [
    "type(chuncks)"
   ]
  },
  {
   "cell_type": "code",
   "execution_count": 192,
   "id": "64b6c434",
   "metadata": {},
   "outputs": [],
   "source": [
    "def remove_NA(chuncks, dataframe):\n",
    "    appended_data = []\n",
    "    \n",
    "    for project in chuncks:\n",
    "        df_sub = obtain_df(project, dataframe)\n",
    "    \n",
    "        df_sub['Funding Amount - ITC (Snapshot)'].ffill(inplace=True)\n",
    "        df_sub['Backlog NR'].ffill(inplace=True)\n",
    "        df_sub['Forecast Direct Labor Cost - ITC'].ffill(inplace=True)\n",
    "        df_sub['Forecast Net Revenue - ITC'].ffill(inplace=True)\n",
    "        df_sub['Baseline NR'].bfill(0, inplace=True)\n",
    "    \n",
    "    \n",
    "        df_sub['Actual Direct Labor Cost - MTD'].fillna(0, inplace=True)\n",
    "        df_sub['Actual Gross Revenue - MTD'].fillna(0, inplace=True)\n",
    "        df_sub['Actual Net Revenue - MTD'].fillna(0, inplace=True)\n",
    "        df_sub['EBITA - MTD'].fillna(0, inplace=True) \n",
    "        df_sub['Order Intake (NR) - MTD'].fillna(0, inplace=True)  \n",
    "    \n",
    "        df_sub['Funding Amount - ITC (Snapshot)'].fillna(0, inplace=True)\n",
    "        df_sub['Backlog NR'].fillna(0, inplace=True)\n",
    "        df_sub['Forecast Direct Labor Cost - ITC'].fillna(0, inplace=True)\n",
    "        df_sub['Forecast Net Revenue - ITC'].fillna(0, inplace=True)\n",
    "        df_sub['Baseline NR'].fillna(0, inplace=True)\n",
    "    \n",
    "    #df_sub['Project Progress Status (Current)'].bfill(0, inplace=True)\n",
    "    \n",
    "        appended_data.append(df_sub)\n",
    "    \n",
    "        df_master=pd.concat(appended_data)\n",
    "    return df_master    "
   ]
  },
  {
   "cell_type": "code",
   "execution_count": 228,
   "id": "e822a6c2",
   "metadata": {},
   "outputs": [],
   "source": [
    "def removal_loop(dataframe):\n",
    "    chuncks = obtain_chucklist(dataframe)\n",
    "    master_df = remove_NA(chuncks, dataframe)\n",
    "    return master_df"
   ]
  },
  {
   "cell_type": "code",
   "execution_count": null,
   "id": "3f370124",
   "metadata": {},
   "outputs": [],
   "source": [
    "dfff = removal_loop(subdf)\n",
    "dfff.head()"
   ]
  },
  {
   "cell_type": "code",
   "execution_count": 262,
   "id": "4cf86501",
   "metadata": {},
   "outputs": [],
   "source": [
    "def real_removal(df_sub):\n",
    "        df_sub['Funding Amount - ITC (Snapshot)'].ffill(inplace=True)\n",
    "        df_sub['Backlog NR'].ffill(inplace=True)\n",
    "        df_sub['Forecast Direct Labor Cost - ITC'].ffill(inplace=True)\n",
    "        df_sub['Forecast Net Revenue - ITC'].ffill(inplace=True)\n",
    "        df_sub['Baseline NR'].bfill(0, inplace=True)\n",
    "    \n",
    "    \n",
    "        df_sub['Actual Direct Labor Cost - MTD'].fillna(0, inplace=True)\n",
    "        df_sub['Actual Gross Revenue - MTD'].fillna(0, inplace=True)\n",
    "        df_sub['Actual Net Revenue - MTD'].fillna(0, inplace=True)\n",
    "        df_sub['EBITA - MTD'].fillna(0, inplace=True) \n",
    "        df_sub['Order Intake (NR) - MTD'].fillna(0, inplace=True)  \n",
    "    \n",
    "        df_sub['Funding Amount - ITC (Snapshot)'].fillna(0, inplace=True)\n",
    "        df_sub['Backlog NR'].fillna(0, inplace=True)\n",
    "        df_sub['Forecast Direct Labor Cost - ITC'].fillna(0, inplace=True)\n",
    "        df_sub['Forecast Net Revenue - ITC'].fillna(0, inplace=True)\n",
    "        df_sub['Baseline NR'].fillna(0, inplace=True)\n",
    "        \n",
    "        return df_sub"
   ]
  },
  {
   "cell_type": "code",
   "execution_count": 263,
   "id": "b59f119c",
   "metadata": {},
   "outputs": [],
   "source": [
    "#df_master.to_csv('df_master.csv')\n",
    "df = real_removal(df)"
   ]
  },
  {
   "cell_type": "code",
   "execution_count": 264,
   "id": "52dbe39d",
   "metadata": {},
   "outputs": [],
   "source": [
    "#df.tail(50)"
   ]
  },
  {
   "cell_type": "code",
   "execution_count": 265,
   "id": "af8e1a36",
   "metadata": {},
   "outputs": [],
   "source": [
    "#df_master.head()"
   ]
  },
  {
   "cell_type": "code",
   "execution_count": 266,
   "id": "ea81c65b",
   "metadata": {},
   "outputs": [
    {
     "data": {
      "text/plain": [
       "1269171"
      ]
     },
     "execution_count": 266,
     "metadata": {},
     "output_type": "execute_result"
    }
   ],
   "source": [
    "len(df)"
   ]
  },
  {
   "cell_type": "code",
   "execution_count": 17,
   "id": "8a5b9a0f",
   "metadata": {},
   "outputs": [],
   "source": [
    "#len(df_master)"
   ]
  },
  {
   "cell_type": "markdown",
   "id": "0c720faf",
   "metadata": {},
   "source": [
    "### Doublcheck the following variables with tjeerd\n",
    "\n",
    "- bookings_jtd\n",
    "- interest_current\n",
    "- interest_jtd\n",
    "- interest_ytd\n",
    "- multiplier_budget\n",
    "- multiplier_current\n",
    "- multiplier_target\n",
    "- overhead_current\n",
    "- overhead_rate\n",
    "- POC\n"
   ]
  },
  {
   "cell_type": "markdown",
   "id": "1011d2f4",
   "metadata": {},
   "source": [
    "### Let's calcualte percentage of completion"
   ]
  },
  {
   "cell_type": "code",
   "execution_count": 267,
   "id": "94beea11",
   "metadata": {},
   "outputs": [],
   "source": [
    "def create_completion(df):\n",
    "    df['ActualNR_sum'].ffill(inplace=True)\n",
    "    df['ActualNR_sum'] = df['ActualNR_sum'].astype('int')\n",
    "    df['Funding Amount - ITC (Snapshot)'] = df['Funding Amount - ITC (Snapshot)'].astype('int')\n",
    "    df['Completion'] = (df['ActualNR_sum']/df['Funding Amount - ITC (Snapshot)'])\n",
    "    df['Completion'].ffill(inplace=True)\n",
    "    return df"
   ]
  },
  {
   "cell_type": "code",
   "execution_count": 268,
   "id": "9dc4a272",
   "metadata": {},
   "outputs": [],
   "source": [
    "df = create_completion(df)"
   ]
  },
  {
   "cell_type": "code",
   "execution_count": 269,
   "id": "86b6c473",
   "metadata": {},
   "outputs": [],
   "source": [
    "#df_master = create_completion(df_master)"
   ]
  },
  {
   "cell_type": "code",
   "execution_count": 270,
   "id": "5584f754",
   "metadata": {},
   "outputs": [],
   "source": [
    "#df_master.head()"
   ]
  },
  {
   "cell_type": "code",
   "execution_count": 271,
   "id": "a8244b71",
   "metadata": {},
   "outputs": [],
   "source": [
    "#df_master[df_master['Project Number'] == '30008040']['Funding Amount - ITC (Snapshot)']"
   ]
  },
  {
   "cell_type": "markdown",
   "id": "ea7c59f9",
   "metadata": {},
   "source": [
    "### Include a logtransform column of Actual net revenue"
   ]
  },
  {
   "cell_type": "code",
   "execution_count": 272,
   "id": "a4ef77d5",
   "metadata": {},
   "outputs": [],
   "source": [
    "import numpy as np"
   ]
  },
  {
   "cell_type": "code",
   "execution_count": 273,
   "id": "620bd5a5",
   "metadata": {},
   "outputs": [],
   "source": [
    "#df['Actual Net Revenue - MTD'] = df['Actual Net Revenue - MTD'].fillna(0.0, inplace=True) #method='ffill'\n",
    "def create_logscale(df):\n",
    "    df['logtransform'] = np.log(df['Actual Net Revenue - MTD']+1)\n",
    "    return df"
   ]
  },
  {
   "cell_type": "code",
   "execution_count": 274,
   "id": "b8efa6e5",
   "metadata": {},
   "outputs": [
    {
     "name": "stderr",
     "output_type": "stream",
     "text": [
      "/Users/julia/opt/anaconda3/lib/python3.7/site-packages/pandas/core/arraylike.py:358: RuntimeWarning: divide by zero encountered in log\n",
      "  result = getattr(ufunc, method)(*inputs, **kwargs)\n",
      "/Users/julia/opt/anaconda3/lib/python3.7/site-packages/pandas/core/arraylike.py:358: RuntimeWarning: invalid value encountered in log\n",
      "  result = getattr(ufunc, method)(*inputs, **kwargs)\n"
     ]
    },
    {
     "data": {
      "text/plain": [
       "0    4.724907\n",
       "1    9.250277\n",
       "2    0.000000\n",
       "3    4.477564\n",
       "4    5.226929\n",
       "Name: logtransform, dtype: float64"
      ]
     },
     "execution_count": 274,
     "metadata": {},
     "output_type": "execute_result"
    }
   ],
   "source": [
    "df=create_logscale(df)\n",
    "df['logtransform'].fillna(0, inplace=True)\n",
    "df['logtransform'].head()"
   ]
  },
  {
   "cell_type": "code",
   "execution_count": 80,
   "id": "8d37f0d0",
   "metadata": {},
   "outputs": [
    {
     "data": {
      "text/plain": [
       "Index(['Project Number_x', 'Project Name', 'Health and Safety Status',\n",
       "       'Project Status', 'SalesCloudClientNo', 'Contract Type Name',\n",
       "       'Ultimate Customer AUS Market Sector', 'Division Short Name',\n",
       "       'location_2', 'location_4', 'Region', 'City', 'Country', 'Country Name',\n",
       "       'Proj_CVP', 'Proj_Serv_Offering', 'CVP Description', '﻿CVP Code',\n",
       "       'primary_client_industry', 'Sales Cloud Opportunity Number',\n",
       "       'Actual Non-Labor Cost - MTD', 'bookings_jtd', 'interest_current',\n",
       "       'interest_jtd', 'interest_ytd', 'multiplier_budget',\n",
       "       'multiplier_current', 'multiplier_target', 'overhead_current',\n",
       "       'overhead_rate', 'revenue_type', 'AUS Mkt Sector Aggregate',\n",
       "       'Break Even Multiplier - Project', 'Risk Profile', 'riskrating_project',\n",
       "       'Total Aging', 'Cleaned_Name', 'Project Start Date',\n",
       "       'Project Manager Employee Number (Current)', 'Scheduled End Date'],\n",
       "      dtype='object')"
      ]
     },
     "execution_count": 80,
     "metadata": {},
     "output_type": "execute_result"
    }
   ],
   "source": [
    "df.columns[df.isnull().any()]"
   ]
  },
  {
   "cell_type": "markdown",
   "id": "f1ed7e32",
   "metadata": {},
   "source": [
    "### Include column for scheduled duration"
   ]
  },
  {
   "cell_type": "code",
   "execution_count": 275,
   "id": "208c35fe",
   "metadata": {},
   "outputs": [
    {
     "name": "stderr",
     "output_type": "stream",
     "text": [
      "/Users/julia/opt/anaconda3/lib/python3.7/site-packages/ipykernel_launcher.py:3: FutureWarning: The pandas.datetime class is deprecated and will be removed from pandas in a future version. Import from datetime module instead.\n",
      "  This is separate from the ipykernel package so we can avoid doing imports until\n"
     ]
    }
   ],
   "source": [
    "import re\n",
    "from datetime import datetime\n",
    "from pandas import datetime"
   ]
  },
  {
   "cell_type": "code",
   "execution_count": 276,
   "id": "25b6ab67",
   "metadata": {},
   "outputs": [],
   "source": [
    "## The Project start date was not recorded correctly, so we had to do some transformations here before we can transform it into a proper datetime\n",
    "def create_datetime(df):\n",
    "    df['Project Start Date'] = df['Project Start Date'].astype(str)\n",
    "\n",
    "    df['Project Start Date'] = df['Project Start Date'].apply(lambda x: str(x)[:10])\n",
    "\n",
    "    df['Project Start Date'] = df['Project Start Date'].apply(lambda x: re.sub(r'19-','2019-', str(x)))\n",
    "    \n",
    "    df['Project Start Date'] = df['Project Start Date'].str.findall(r'\\d{4}[-/]\\d{2}[-/]\\d{2}')\n",
    "    \n",
    "    df['Project Start Date'] = df['Project Start Date'].apply(lambda x: ','.join(map(str, x)))\n",
    "    \n",
    "    df['Project Start Date'] = pd.to_datetime(df['Project Start Date'], format='%Y-%m-%d')\n",
    "    \n",
    "    return df"
   ]
  },
  {
   "cell_type": "code",
   "execution_count": 277,
   "id": "0037fdfe",
   "metadata": {},
   "outputs": [
    {
     "data": {
      "text/plain": [
       "0          000221760018\n",
       "1          000221760018\n",
       "2          000221760018\n",
       "3          000221760018\n",
       "4          000221760018\n",
       "               ...     \n",
       "1269166    zz000zzznt20\n",
       "1269167    zz000zzznt20\n",
       "1269168    zz000zzznt20\n",
       "1269169    zz000zzznt20\n",
       "1269170    zz000zzznt20\n",
       "Name: Project Number_x, Length: 1269171, dtype: object"
      ]
     },
     "execution_count": 277,
     "metadata": {},
     "output_type": "execute_result"
    }
   ],
   "source": [
    "df.pop('Project Number_x')"
   ]
  },
  {
   "cell_type": "code",
   "execution_count": 278,
   "id": "bed87983",
   "metadata": {},
   "outputs": [],
   "source": [
    "df = create_datetime(df)"
   ]
  },
  {
   "cell_type": "code",
   "execution_count": 279,
   "id": "abb07874",
   "metadata": {},
   "outputs": [],
   "source": [
    "#df[df['Project Number'] == '30011431']"
   ]
  },
  {
   "cell_type": "code",
   "execution_count": 280,
   "id": "2380cf5b",
   "metadata": {},
   "outputs": [],
   "source": [
    "#Then we also transfrom the scheduled end date into a proper \n",
    "df['Scheduled End Date'] = pd.to_datetime(df['Scheduled End Date'], format='%Y-%m-%d') "
   ]
  },
  {
   "cell_type": "markdown",
   "id": "d48a6869",
   "metadata": {},
   "source": [
    "### now let's create a column that calculates the scheduled duration"
   ]
  },
  {
   "cell_type": "code",
   "execution_count": 281,
   "id": "7e0b8234",
   "metadata": {},
   "outputs": [],
   "source": [
    "df['scheduled_duration'] = df['Scheduled End Date']-df['Project Start Date']"
   ]
  },
  {
   "cell_type": "code",
   "execution_count": 282,
   "id": "8c0a3105",
   "metadata": {},
   "outputs": [],
   "source": [
    "df['Scheduled_projectduration'] = (df['Scheduled End Date']-df['Project Start Date']) / np.timedelta64(1, 'M')"
   ]
  },
  {
   "cell_type": "code",
   "execution_count": 283,
   "id": "e489ad7a",
   "metadata": {},
   "outputs": [
    {
     "data": {
      "text/plain": [
       "0         NaN\n",
       "1         NaN\n",
       "2         NaN\n",
       "3         NaN\n",
       "4         NaN\n",
       "           ..\n",
       "1269166   NaN\n",
       "1269167   NaN\n",
       "1269168   NaN\n",
       "1269169   NaN\n",
       "1269170   NaN\n",
       "Name: Scheduled_projectduration, Length: 1269171, dtype: float64"
      ]
     },
     "execution_count": 283,
     "metadata": {},
     "output_type": "execute_result"
    }
   ],
   "source": [
    "df['Scheduled_projectduration']"
   ]
  },
  {
   "cell_type": "markdown",
   "id": "f2487aad",
   "metadata": {},
   "source": [
    "### Let's create a binary column that says whether the scheduled duration equals the actual duration"
   ]
  },
  {
   "cell_type": "code",
   "execution_count": 284,
   "id": "c80475ef",
   "metadata": {},
   "outputs": [
    {
     "data": {
      "text/plain": [
       "0          20.0\n",
       "1          20.0\n",
       "2          20.0\n",
       "3          20.0\n",
       "4          20.0\n",
       "           ... \n",
       "1269166     6.0\n",
       "1269167     6.0\n",
       "1269168     6.0\n",
       "1269169     6.0\n",
       "1269170     6.0\n",
       "Name: Projectduration, Length: 1269171, dtype: float64"
      ]
     },
     "execution_count": 284,
     "metadata": {},
     "output_type": "execute_result"
    }
   ],
   "source": [
    "df.Projectduration.astype(float)"
   ]
  },
  {
   "cell_type": "code",
   "execution_count": 111,
   "id": "fa3a26d0",
   "metadata": {},
   "outputs": [
    {
     "data": {
      "text/plain": [
       "Index(['index', 'Project Name', 'Health and Safety Status', 'Project Status',\n",
       "       'SalesCloudClientNo', 'Contract Type Name',\n",
       "       'Ultimate Customer AUS Market Sector', 'Division Short Name',\n",
       "       'location_2', 'location_4', 'Region', 'City', 'Country', 'Country Name',\n",
       "       'Proj_CVP', 'Proj_Serv_Offering', 'CVP Description', '﻿CVP Code',\n",
       "       'primary_client_industry', 'Sales Cloud Opportunity Number',\n",
       "       'Funding Amount - ITC (Snapshot)', 'Backlog NR',\n",
       "       'Actual Direct Labor Cost - MTD', 'Actual Non-Labor Cost - MTD',\n",
       "       'Actual Gross Revenue - MTD', 'Actual Net Revenue - MTD', 'EBITA - MTD',\n",
       "       'Forecast Direct Labor Cost - ITC', 'Forecast Net Revenue - ITC',\n",
       "       'Order Intake (NR) - MTD', 'bookings_jtd', 'interest_current',\n",
       "       'interest_jtd', 'interest_ytd', 'multiplier_budget',\n",
       "       'multiplier_current', 'multiplier_target', 'overhead_current',\n",
       "       'overhead_rate', 'revenue_type', 'AUS Mkt Sector Aggregate',\n",
       "       'Baseline NR', 'Break Even Multiplier - Project', 'Organization Size',\n",
       "       'Risk Profile', 'riskrating_project', 'Total Aging', 'Cleaned_Name',\n",
       "       'ActualNR_sum', 'Projectduration', 'Project Start Date',\n",
       "       'Project Manager Employee Number (Current)', 'Scheduled End Date',\n",
       "       'Date', 'Project Number', 'Completion', 'logtransform',\n",
       "       'scheduled_duration', 'Scheduled_projectduration', 'round'],\n",
       "      dtype='object')"
      ]
     },
     "execution_count": 111,
     "metadata": {},
     "output_type": "execute_result"
    }
   ],
   "source": [
    "df.columns"
   ]
  },
  {
   "cell_type": "code",
   "execution_count": 285,
   "id": "0075b4d3",
   "metadata": {},
   "outputs": [],
   "source": [
    "import math"
   ]
  },
  {
   "cell_type": "code",
   "execution_count": 286,
   "id": "e1fb13fd",
   "metadata": {},
   "outputs": [],
   "source": [
    "df['Scheduled_projectduration'].fillna(0, inplace=True)\n",
    "df['intime'] = 0\n",
    "df['round']=df['Scheduled_projectduration'].apply(lambda x: math.ceil(x))"
   ]
  },
  {
   "cell_type": "code",
   "execution_count": 292,
   "id": "797000c6",
   "metadata": {},
   "outputs": [
    {
     "data": {
      "text/plain": [
       "0          0\n",
       "1          0\n",
       "2          0\n",
       "3          0\n",
       "4          0\n",
       "          ..\n",
       "1269166    0\n",
       "1269167    0\n",
       "1269168    0\n",
       "1269169    0\n",
       "1269170    0\n",
       "Name: round, Length: 1269171, dtype: int64"
      ]
     },
     "execution_count": 292,
     "metadata": {},
     "output_type": "execute_result"
    }
   ],
   "source": [
    "df['round']"
   ]
  },
  {
   "cell_type": "code",
   "execution_count": 306,
   "id": "a8387c44",
   "metadata": {},
   "outputs": [],
   "source": [
    "for i,row in df.iterrows():\n",
    "    if row['round'] == row['Projectduration']:\n",
    "        df.at[i,'intime'] += 1        "
   ]
  },
  {
   "cell_type": "code",
   "execution_count": 307,
   "id": "66d958f3",
   "metadata": {},
   "outputs": [
    {
     "data": {
      "text/plain": [
       "0    1242075\n",
       "1      27096\n",
       "Name: intime, dtype: int64"
      ]
     },
     "execution_count": 307,
     "metadata": {},
     "output_type": "execute_result"
    }
   ],
   "source": [
    "df['intime'].value_counts()"
   ]
  },
  {
   "cell_type": "code",
   "execution_count": 290,
   "id": "5e005e66",
   "metadata": {},
   "outputs": [
    {
     "data": {
      "text/plain": [
       "1269171"
      ]
     },
     "execution_count": 290,
     "metadata": {},
     "output_type": "execute_result"
    }
   ],
   "source": [
    "len(df) , df[df['intime'] == 0].count()"
   ]
  },
  {
   "cell_type": "code",
   "execution_count": 129,
   "id": "9efa360e",
   "metadata": {},
   "outputs": [
    {
     "data": {
      "text/plain": [
       "0          0\n",
       "1          0\n",
       "2          0\n",
       "3          0\n",
       "4          0\n",
       "          ..\n",
       "1269166    0\n",
       "1269167    0\n",
       "1269168    0\n",
       "1269169    0\n",
       "1269170    0\n",
       "Name: intime, Length: 1269171, dtype: int64"
      ]
     },
     "execution_count": 129,
     "metadata": {},
     "output_type": "execute_result"
    }
   ],
   "source": [
    "df.pop('round')\n",
    "df.pop('intime')"
   ]
  },
  {
   "cell_type": "markdown",
   "id": "e1ced0d2",
   "metadata": {},
   "source": [
    "### Let's create a seasonality column"
   ]
  },
  {
   "cell_type": "code",
   "execution_count": 151,
   "id": "2064b92d",
   "metadata": {},
   "outputs": [
    {
     "data": {
      "text/plain": [
       "0          201711\n",
       "1          201712\n",
       "2          201801\n",
       "3          201802\n",
       "4          201803\n",
       "            ...  \n",
       "1269166    201902\n",
       "1269167    201903\n",
       "1269168    201904\n",
       "1269169    201905\n",
       "1269170    201906\n",
       "Name: Date, Length: 1269171, dtype: object"
      ]
     },
     "execution_count": 151,
     "metadata": {},
     "output_type": "execute_result"
    }
   ],
   "source": [
    "df.Date.astype('str') "
   ]
  },
  {
   "cell_type": "code",
   "execution_count": 301,
   "id": "5d01b7b2",
   "metadata": {},
   "outputs": [],
   "source": [
    "df['month'] = df['Date'].apply(lambda x: str(x)[-2:])"
   ]
  },
  {
   "cell_type": "code",
   "execution_count": 302,
   "id": "7c6f72b6",
   "metadata": {},
   "outputs": [],
   "source": [
    "df['month']=df['month'].astype('int') "
   ]
  },
  {
   "cell_type": "code",
   "execution_count": 303,
   "id": "d163f58c",
   "metadata": {},
   "outputs": [],
   "source": [
    "df['seasonality_month'] = 0"
   ]
  },
  {
   "cell_type": "code",
   "execution_count": 304,
   "id": "f6ce8e96",
   "metadata": {},
   "outputs": [
    {
     "name": "stderr",
     "output_type": "stream",
     "text": [
      "/Users/julia/opt/anaconda3/lib/python3.7/site-packages/pandas/core/indexing.py:1637: SettingWithCopyWarning: \n",
      "A value is trying to be set on a copy of a slice from a DataFrame\n",
      "\n",
      "See the caveats in the documentation: https://pandas.pydata.org/pandas-docs/stable/user_guide/indexing.html#returning-a-view-versus-a-copy\n",
      "  self._setitem_single_block(indexer, value, name)\n"
     ]
    }
   ],
   "source": [
    "for index in range(len(df)):\n",
    "    if df['month'].iloc[index] > 0 and df['month'].iloc[index] < 4:\n",
    "        df['seasonality_month'].iloc[index] += 1\n",
    "    if df['month'].iloc[index] > 3 and  df['month'].iloc[index] < 7:  \n",
    "        df['seasonality_month'].iloc[index] += 2\n",
    "    if df['month'].iloc[index] > 6 and df['month'].iloc[index] < 9 :  \n",
    "        df['seasonality_month'].iloc[index] += 3  \n",
    "    if df['month'].iloc[index] > 8:\n",
    "        df['seasonality_month'].iloc[index] += 4             "
   ]
  },
  {
   "cell_type": "code",
   "execution_count": 305,
   "id": "2592c125",
   "metadata": {},
   "outputs": [
    {
     "data": {
      "text/plain": [
       "1    415358\n",
       "4    394021\n",
       "2    284301\n",
       "3    175491\n",
       "Name: seasonality_month, dtype: int64"
      ]
     },
     "execution_count": 305,
     "metadata": {},
     "output_type": "execute_result"
    }
   ],
   "source": [
    "df['seasonality_month'].value_counts()"
   ]
  },
  {
   "cell_type": "code",
   "execution_count": 137,
   "id": "bd0d7fc3",
   "metadata": {},
   "outputs": [],
   "source": [
    "df.to_csv('mv_port_processed.csv')"
   ]
  },
  {
   "cell_type": "code",
   "execution_count": 8,
   "id": "a9d45455",
   "metadata": {},
   "outputs": [],
   "source": [
    "import pandas as pd\n",
    "import numpy as np"
   ]
  },
  {
   "cell_type": "code",
   "execution_count": 87,
   "id": "619e860a",
   "metadata": {},
   "outputs": [
    {
     "name": "stderr",
     "output_type": "stream",
     "text": [
      "/Users/julia/opt/anaconda3/lib/python3.7/site-packages/IPython/core/interactiveshell.py:3170: DtypeWarning: Columns (2,3,4,6,7,8,9,10,11,12,13,14,15,16,17,18,19,20,40,41,45,48,51,53,55,58) have mixed types.Specify dtype option on import or set low_memory=False.\n",
      "  interactivity=interactivity, compiler=compiler, result=result)\n"
     ]
    }
   ],
   "source": [
    "df = pd.read_csv('mv_port_processed.csv')"
   ]
  },
  {
   "cell_type": "code",
   "execution_count": 88,
   "id": "7c10a3fd",
   "metadata": {},
   "outputs": [],
   "source": [
    "df = df.loc[:, ~df.columns.str.contains('^Unnamed')]\n",
    "df['Project Number'] = df['Project Number'].astype('str') \n",
    "df = df.loc[:, ~df.columns.str.contains('^index')]\n",
    "df['scheduled_duration'] = df['scheduled_duration'].str.replace(r'days', '')\n",
    "df['scheduled_duration'] = df['scheduled_duration'].replace(np.nan, 0)\n",
    "df['scheduled_duration'] = df['scheduled_duration'].astype('int') "
   ]
  },
  {
   "cell_type": "code",
   "execution_count": 40,
   "id": "76cdaccf",
   "metadata": {},
   "outputs": [
    {
     "data": {
      "text/plain": [
       "Project Name                            168475\n",
       "Health and Safety Status                428481\n",
       "Project Status                          168459\n",
       "SalesCloudClientNo                      329554\n",
       "Contract Type Name                      168459\n",
       "Ultimate Customer AUS Market Sector     319033\n",
       "Division Short Name                     168381\n",
       "location_2                              327900\n",
       "location_4                              327900\n",
       "Region                                  269896\n",
       "City                                    265135\n",
       "Country                                 168381\n",
       "Country Name                            252561\n",
       "Proj_CVP                                555006\n",
       "Proj_Serv_Offering                      512103\n",
       "CVP Description                         168381\n",
       "﻿CVP Code                              1051445\n",
       "primary_client_industry                 168381\n",
       "Sales Cloud Opportunity Number          428576\n",
       "Funding Amount - ITC (Snapshot)              0\n",
       "Backlog NR                                   0\n",
       "Actual Direct Labor Cost - MTD               0\n",
       "Actual Non-Labor Cost - MTD             645986\n",
       "Actual Gross Revenue - MTD                   0\n",
       "Actual Net Revenue - MTD                     0\n",
       "EBITA - MTD                                  0\n",
       "Forecast Direct Labor Cost - ITC             0\n",
       "Forecast Net Revenue - ITC                   0\n",
       "Order Intake (NR) - MTD                      0\n",
       "bookings_jtd                            823884\n",
       "dtype: int64"
      ]
     },
     "execution_count": 40,
     "metadata": {},
     "output_type": "execute_result"
    }
   ],
   "source": [
    "df.iloc[:, :30].isna().sum()"
   ]
  },
  {
   "cell_type": "code",
   "execution_count": 41,
   "id": "60ae1bf5",
   "metadata": {},
   "outputs": [
    {
     "data": {
      "text/plain": [
       "interest_jtd                                  823884\n",
       "interest_ytd                                  823884\n",
       "multiplier_budget                             823884\n",
       "multiplier_current                            823884\n",
       "multiplier_target                             823884\n",
       "overhead_current                              823884\n",
       "overhead_rate                                 823884\n",
       "revenue_type                                  462571\n",
       "AUS Mkt Sector Aggregate                      319055\n",
       "Baseline NR                                        0\n",
       "Break Even Multiplier - Project               266524\n",
       "Organization Size                                  0\n",
       "Risk Profile                                  168381\n",
       "riskrating_project                            752428\n",
       "Total Aging                                  1269171\n",
       "Cleaned_Name                                  168437\n",
       "ActualNR_sum                                       0\n",
       "Projectduration                                    0\n",
       "Project Start Date                            260113\n",
       "Project Manager Employee Number (Current)     260188\n",
       "Scheduled End Date                            260435\n",
       "Date                                               0\n",
       "Project Number                                     0\n",
       "Completion                                         0\n",
       "logtransform                                       0\n",
       "scheduled_duration                                 0\n",
       "Scheduled_projectduration                          0\n",
       "intime                                             0\n",
       "round                                              0\n",
       "month                                              0\n",
       "seasonality_month                                  0\n",
       "dtype: int64"
      ]
     },
     "execution_count": 41,
     "metadata": {},
     "output_type": "execute_result"
    }
   ],
   "source": [
    "df.iloc[:, 31:].isna().sum()"
   ]
  },
  {
   "cell_type": "code",
   "execution_count": 89,
   "id": "75d61cb5",
   "metadata": {},
   "outputs": [
    {
     "data": {
      "text/plain": [
       "array(['Univar Richmond Ph 2 Environ', 'Univar Ft Wayne IN 2018',\n",
       "       'Univar Odessa TX Branch 2018 A', ..., 'NCA 76 351664 Year 3',\n",
       "       'SCA 76 351801 Year 3', 'SCA 76 351828 Year 3'], dtype=object)"
      ]
     },
     "execution_count": 89,
     "metadata": {},
     "output_type": "execute_result"
    }
   ],
   "source": [
    "'''Project Name'''\n",
    "\n",
    "df['Project Name'].fillna('Unspecified', inplace=True)\n",
    "df['Project Name'].unique()"
   ]
  },
  {
   "cell_type": "code",
   "execution_count": 90,
   "id": "4c806ab2",
   "metadata": {},
   "outputs": [
    {
     "data": {
      "text/plain": [
       "array(['Plan Required', 'Plan Signed Off', 'Plan Not Required',\n",
       "       'Unspecified'], dtype=object)"
      ]
     },
     "execution_count": 90,
     "metadata": {},
     "output_type": "execute_result"
    }
   ],
   "source": [
    "''' Health and Safety Status '''\n",
    "\n",
    "df['Health and Safety Status'].fillna('Plan Required', inplace=True)\n",
    "df['Health and Safety Status'].unique()"
   ]
  },
  {
   "cell_type": "code",
   "execution_count": 91,
   "id": "148b711d",
   "metadata": {},
   "outputs": [
    {
     "data": {
      "text/plain": [
       "array(['Open/Active', 'On Hold - Inactive', 'Closed',\n",
       "       'Closed-Open to Collect', 'Final Closure Requested', 'Unspecified',\n",
       "       'New - Pending Approval', 'Rejected', 'New', 'Manual_Adj'],\n",
       "      dtype=object)"
      ]
     },
     "execution_count": 91,
     "metadata": {},
     "output_type": "execute_result"
    }
   ],
   "source": [
    "''' Project Status '''\n",
    "\n",
    "df['Project Status'].fillna('Unspecified', inplace=True)\n",
    "df['Project Status'].unique()"
   ]
  },
  {
   "cell_type": "code",
   "execution_count": 120,
   "id": "834b26fa",
   "metadata": {},
   "outputs": [],
   "source": [
    "'''SalesCloudClientNo '''\n",
    "\n",
    "df['SalesCloudClientNo'] = df['SalesCloudClientNo'].replace(np.nan, 0)"
   ]
  },
  {
   "cell_type": "code",
   "execution_count": 93,
   "id": "8984988f",
   "metadata": {},
   "outputs": [
    {
     "data": {
      "text/plain": [
       "array(['Time and Material with cap', 'Unspecified', 'Lump Sum',\n",
       "       'Time and Material', 'Cost plus Fixed Fee', 'Lump Sum with IFRS',\n",
       "       'Revenue group', 'H'], dtype=object)"
      ]
     },
     "execution_count": 93,
     "metadata": {},
     "output_type": "execute_result"
    }
   ],
   "source": [
    "''' Contract Tyoe Name -  we exclude some here '''\n",
    "\n",
    "df = df[df['Contract Type Name'] != 'R']\n",
    "df = df[df['Contract Type Name'] != 'N']\n",
    "df = df[df['Contract Type Name'] != 'D']\n",
    "df['Contract Type Name'].fillna('Unspecified', inplace=True)\n",
    "\n",
    "df['Contract Type Name'].unique()"
   ]
  },
  {
   "cell_type": "code",
   "execution_count": 94,
   "id": "09dd52b6",
   "metadata": {},
   "outputs": [
    {
     "data": {
      "text/plain": [
       "array(['Unspecified', 'Oil & Gas', 'Municipalities/Local Govt.',\n",
       "       'Water Companies/Utilities', 'State/Regional Government',\n",
       "       'Chemicals', 'Life Sciences', 'Intercompany',\n",
       "       'Commercial Developers', 'Aerospace', 'Consumer Goods & Retail',\n",
       "       'Power Companies/Utilities', 'Conglomerates',\n",
       "       'Institutional Agencies', 'Rail', 'Central/Federal Government',\n",
       "       'Mining & Metals', 'Technology', 'Automotive',\n",
       "       'Ports/Transportation', 'Education', 'Other Private',\n",
       "       'Fin. Institutions/Investors', 'Healthcare', 'Non-Rail'],\n",
       "      dtype=object)"
      ]
     },
     "execution_count": 94,
     "metadata": {},
     "output_type": "execute_result"
    }
   ],
   "source": [
    "''' Ultimate Customer AUS Market Sector  '''\n",
    "\n",
    "df['Ultimate Customer AUS Market Sector'].fillna('Unspecified', inplace=True)\n",
    "df['Ultimate Customer AUS Market Sector'].unique()"
   ]
  },
  {
   "cell_type": "code",
   "execution_count": 95,
   "id": "b3803cb1",
   "metadata": {},
   "outputs": [
    {
     "data": {
      "text/plain": [
       "array(['Environment', 'Water', 'Infrastructure', 'Enabling Function',\n",
       "       'Buildings', 'Unspecified'], dtype=object)"
      ]
     },
     "execution_count": 95,
     "metadata": {},
     "output_type": "execute_result"
    }
   ],
   "source": [
    "''' Division Short Name   '''\n",
    "\n",
    "df['Division Short Name'].fillna('Unspecified', inplace=True)\n",
    "df['Division Short Name'].unique()"
   ]
  },
  {
   "cell_type": "code",
   "execution_count": 96,
   "id": "1e161edb",
   "metadata": {},
   "outputs": [
    {
     "data": {
      "text/plain": [
       "array(['NT', 'WE', 'PY', 'FL', 'NJ', 'TN', 'CH', 'VA', 'ID', 'OO', 'EA',\n",
       "       'DM', 'IP', 'NG', 'ED', 'SN', 'NY', 'AE', 'FS', 'CS', 'WA', 'CW',\n",
       "       'TE', 'WT', 'CF', 'IS', 'HC', 'CI', 'SW', 'CT', 'PD', 'WI',\n",
       "       'Unspecified', 'OE', 'SE', 'PW', 'AF', 'CD', 'AN', 'DE', 'SL',\n",
       "       'SK', 'CA', 'RR', 'BN', 'PE', 'CC', 'AW', 'LC', 'AK', 'OH', 'IM',\n",
       "       'ND', 'BH', 'ET', 'TI', 'CO', 'BS', 'OG', 'TC', 'PH', 'CG', 'FC',\n",
       "       'TP', 'MS', 'GA', 'TS', 'GS', 'NP', 'LA', 'CJ', 'NO', 'TX', 'WR',\n",
       "       'CP', 'CB', 'PA', 'AZ', 'EN', 'SD', 'HR', 'TK', 'SA', 'AD', 'DI',\n",
       "       'OS', 'WV', 'PS', 'PK', 'WM', 'AC', 'IN', 'KW', 'I1', 'IT', 'MC',\n",
       "       'BU', 'CE', 'CU', 'LG', 'NV', 'PX', 'OT', 'NM', 'TD', 'TM', 'I5',\n",
       "       'ST', 'CQ', 'HB', 'HM', 'HS', 'I2', 'I3', 'I6', 'JA', 'KC', 'KS',\n",
       "       'KN', 'JO', 'JP', 'KO', 'PL', 'PT', 'SS', 'TZ', 'WW', 'DD', 'PM',\n",
       "       'EV', 'FR', 'PN', 'JE', 'HA', 'HZ', 'MA', 'MP', 'GB', 'GE', 'GI',\n",
       "       'GW', 'IC', 'PO', 'I7', 'HP'], dtype=object)"
      ]
     },
     "execution_count": 96,
     "metadata": {},
     "output_type": "execute_result"
    }
   ],
   "source": [
    "''' location_4, location_2   '''\n",
    "\n",
    "df['location_4'].fillna('Unspecified', inplace=True)\n",
    "df['location_2'].fillna('Unspecified', inplace=True)\n",
    "df['location_2'].unique()\n",
    "df['location_4'].unique()"
   ]
  },
  {
   "cell_type": "code",
   "execution_count": 97,
   "id": "de651939",
   "metadata": {},
   "outputs": [
    {
     "data": {
      "text/plain": [
       "array(['British Columbia, CA', 'Indiana, US', 'Texas, US',\n",
       "       'Washington, US', 'California, US', 'West Virginia, US',\n",
       "       'Pennsylvania, US', 'New York, US', 'Florida, US',\n",
       "       'New Jersey, US', 'AR', 'Michigan, US', 'NY', 'Virginia, US',\n",
       "       'Ohio, US', 'OH', 'MD', 'Maryland, US', 'DC',\n",
       "       'District of Columbia, US', 'TX', 'Puerto Rico, PR', 'PA', 'CT',\n",
       "       'Massachusetts, US', 'Unspecified', 'Delaware, US',\n",
       "       'North Carolina, US', 'Connecticut, US', 'Arizona, US', 'VA', 'NJ',\n",
       "       'AZ', 'Louisiana, US', 'FL', 'Missouri, US', 'CA', 'Oregon, US',\n",
       "       'Alabama, US', 'Colorado, US', 'NM', 'Georgia, US',\n",
       "       'North Dakota, US', 'Minnesota, US', 'IN', 'NC', 'MI',\n",
       "       'Mississippi, US', 'IL', 'Iowa, US', 'Wisconsin, US', 'DE',\n",
       "       'Kentucky, US', 'MS', 'MAH', 'WI', 'IA', 'Oklahoma, US', 'MO',\n",
       "       'Alaska, US', 'GA', 'CO', 'Kansas, US', 'Illinois, US',\n",
       "       'New Hampshire, US', 'TN', 'Tennessee, US', 'Alberta, CA',\n",
       "       'Ontario, CA', 'Maine, US', 'Quebec, CA', 'Saskatchewan, CA',\n",
       "       'Newfoundland and Labrador, CA', 'Manitoba, CA',\n",
       "       'New Brunswick, CA', 'Yukon, CA', 'Nunavut, CA', 'Nova Scotia, CA',\n",
       "       'Northwest Territories, CA', 'LA', 'Arkansas, US', 'KY', 'SC',\n",
       "       'AL', 'MA', 'Montana, US', 'South Carolina, US', 'Utah, US',\n",
       "       'New Mexico, US', 'SUFF', 'PR', 'AK', 'Nebraska, US',\n",
       "       'Rhode Island, US', 'QLD', 'Vermont, US', 'South Dakota, US', 'WV',\n",
       "       'LONDON', 'OK', 'NO', 'HI', 'Hawaii, US', 'KS', 'GLOS',\n",
       "       'Idaho, US', 'WA', 'Nevada, US', 'CHES', 'RI', 'VIC', 'CAMBS',\n",
       "       'WY', 'Wyoming, US', 'Virgin Islands, US', 'UT', 'ME', 'MN', 'ON',\n",
       "       'NH', 'CORK', 'GU', 'NV', 'VI', 'ID', 'QC', 'MT', 'NE', 'OR', 'AB',\n",
       "       'BC', 'Prince Edward Island, CA', 'ESSEX', 'SD', 'NSW', 'BERKS',\n",
       "       'ACT', 'LINCS', 'STAFFS'], dtype=object)"
      ]
     },
     "execution_count": 97,
     "metadata": {},
     "output_type": "execute_result"
    }
   ],
   "source": [
    "'''Region '''\n",
    "\n",
    "df['Region'].fillna('Unspecified', inplace=True)\n",
    "df['Region'].unique()"
   ]
  },
  {
   "cell_type": "code",
   "execution_count": 127,
   "id": "d1f56496",
   "metadata": {},
   "outputs": [],
   "source": [
    "''' CVP code will be dropped'''\n",
    "df=df.drop(df.columns[14], axis=1)"
   ]
  },
  {
   "cell_type": "code",
   "execution_count": 122,
   "id": "e37e7b8b",
   "metadata": {},
   "outputs": [
    {
     "data": {
      "text/plain": [
       "array(['Canada', 'United States', 'Germany', 'Brazil', 'Mexico', 'India',\n",
       "       'Maldives', 'Haiti', 'Unspecified', 'Saudi Arabia', 'Italy',\n",
       "       'Saint Lucia', 'Chile', 'Australia', 'Bahamas', 'United Kingdom',\n",
       "       'Uruguay', 'Ethiopia', 'Peru', 'Greenland', 'Ireland', 'China',\n",
       "       'Puerto Rico', 'Israel', 'Colombia', 'Belgium', 'Netherlands',\n",
       "       'Guatemala', 'Honduras', 'Korea, Republic of', 'Aruba', 'Japan',\n",
       "       'Sweden', 'Hong Kong', 'Singapore', 'Taiwan',\n",
       "       'United Arab Emirates', 'South Africa', 'Argentina', 'France',\n",
       "       'Thailand', 'Philippines', 'Indonesia', 'Panama', 'El Salvador',\n",
       "       'Nicaragua', 'Ecuador', 'Bermuda', 'Norway', 'New Zealand',\n",
       "       'Finland', 'Denmark', 'Switzerland', 'Estonia', 'Malaysia',\n",
       "       'Hungary', 'Virgin Islands (US)', 'Morocco', 'Spain', 'Belize',\n",
       "       'Cambodia', 'Czech Republic', 'Bolivia', 'Russian Federation',\n",
       "       'Austria', 'Cayman Islands', 'Qatar', 'Afghanistan',\n",
       "       'Dominican Republic', 'Egypt'], dtype=object)"
      ]
     },
     "execution_count": 122,
     "metadata": {},
     "output_type": "execute_result"
    }
   ],
   "source": [
    "'''Country '''\n",
    "\n",
    "df['Country'].fillna('Unspecified', inplace=True)\n",
    "df['Country'].unique()"
   ]
  },
  {
   "cell_type": "code",
   "execution_count": null,
   "id": "6b4ef97e",
   "metadata": {},
   "outputs": [],
   "source": [
    "df.pop('City')\n",
    "df.pop('Country Name')"
   ]
  },
  {
   "cell_type": "code",
   "execution_count": 101,
   "id": "33972fc5",
   "metadata": {},
   "outputs": [
    {
     "data": {
      "text/plain": [
       "array(['Environmental Planning', 'Site Evaluation and Restoration',\n",
       "       'Water for Industry', 'Conveyance', 'Water Supply and Treatment',\n",
       "       'Water Management', 'Business Advisory',\n",
       "       'Strategic Environmental Consulting', 'Unspecified',\n",
       "       'Environmental Construction Services', 'Program Management (PM)',\n",
       "       'Ports and Industrial Infrastructure Solutions',\n",
       "       'Rail & Urban Transport',\n",
       "       'Master Planning & Sustainable Urban Development',\n",
       "       'Cost Management (CM)', 'Mining Solutions',\n",
       "       'Performance Driven Engineering (PDE)', 'Contract Solutions',\n",
       "       'Commercially Led Program Management', 'GRIP', 'Highways & ITS',\n",
       "       'Performance Driven Architecture (PDA)', 'Airport Solutions',\n",
       "       'Performance Driven Design', 'Overhead Project'], dtype=object)"
      ]
     },
     "execution_count": 101,
     "metadata": {},
     "output_type": "execute_result"
    }
   ],
   "source": [
    "'''Proj_CVP '''\n",
    "\n",
    "df['Proj_CVP'].fillna('Unspecified', inplace=True)\n",
    "df['Proj_CVP'] = df['Proj_CVP'].str.replace(r'N/A - NOT APPLICABLE', 'Unspecified')\n",
    "df['Proj_CVP'].unique()"
   ]
  },
  {
   "cell_type": "code",
   "execution_count": 102,
   "id": "bc717127",
   "metadata": {},
   "outputs": [],
   "source": [
    "'''Proj_Serv_Offering '''\n",
    "\n",
    "df['Proj_Serv_Offering'].fillna('Unspecified', inplace=True)\n",
    "df['Proj_Serv_Offering'] = df['Proj_Serv_Offering'].str.replace(r'N/A - NOT APPLICABLE', 'Unspecified')"
   ]
  },
  {
   "cell_type": "code",
   "execution_count": 103,
   "id": "1b32703f",
   "metadata": {},
   "outputs": [
    {
     "data": {
      "text/plain": [
       "array(['Environmental Planning', 'Site Evaluation and Restoration',\n",
       "       'Water for Industry', 'Conveyance', 'Water Supply and Treatment',\n",
       "       'Unspecified', 'Water Management', 'Business Advisory',\n",
       "       'Strategic Environmental Consulting',\n",
       "       'Environmental Construction Services',\n",
       "       'Project and Program Management',\n",
       "       'Ports and Industrial Infrastructure Solutions',\n",
       "       'Master Planning & Sustainable Urban Development',\n",
       "       'Rail & Urban Transport Solutions', 'Default',\n",
       "       'Cost and Commercial Management', 'Mining Solutions',\n",
       "       'Performance Driven Engineering', 'Contract Solutions',\n",
       "       'Highways and ITS Solutions', 'Performance Driven Architecture',\n",
       "       'GRIP', 'Airport Solutions', 'Overhead Project'], dtype=object)"
      ]
     },
     "execution_count": 103,
     "metadata": {},
     "output_type": "execute_result"
    }
   ],
   "source": [
    "'''Proj_Serv_Offering '''\n",
    "\n",
    "df['CVP Description'].fillna('Unspecified', inplace=True)\n",
    "#df['Proj_Serv_Offering'] = df['Proj_Serv_Offering'].str.replace(r'N/A - NOT APPLICABLE', 'Unspecified')\n",
    "df['CVP Description'].unique()"
   ]
  },
  {
   "cell_type": "code",
   "execution_count": 104,
   "id": "fc5aaf2d",
   "metadata": {},
   "outputs": [
    {
     "data": {
      "text/plain": [
       "array(['CP - Chem/Pharma', 'OG - Oil & Gas', 'MU - Municipal',\n",
       "       'WC - Water Companies/Utilities', 'ST - State/Provinces',\n",
       "       'CONG - Conglomerate', 'PPA - Ports/Public Authority',\n",
       "       'EE - Engineering, Environmental & Construction Management',\n",
       "       'TS - Transit', 'AE - Aerospace', 'PC - Power Companies/Utilities',\n",
       "       'PA - Pulp/Paper', 'NP - Non-Profit', 'RL - Freight Rail',\n",
       "       'FED - Federal',\n",
       "       'BLD - Building Materials & General Manufacturing',\n",
       "       'CR - Consumer & Retail', 'DOD - Dept of Defense',\n",
       "       'MM - Mining/Metals', 'F&BP - Food & Bev Producers',\n",
       "       'CT - Contractors', 'TC - Telecom Utilities',\n",
       "       'EL - Technology, Telecomm & Electronics', 'FIN - Financial',\n",
       "       'CD - Commercial Developers', 'PubEd - Public Education',\n",
       "       'AU - Automotive', 'IN - Internal', 'DOT - State Transportation',\n",
       "       'IC - Arcadis Intercompany', 'DC - Digital & Creative Industries',\n",
       "       'PvtEd - Private Education', 'Unspecified', 'INS - Insurance',\n",
       "       'LOG - Logistics', 'TRN - Transportation (Non-Rail Road)',\n",
       "       'PvtHC - Private Healthcare Institutions',\n",
       "       'PubHC - Public Healthcare Institutions', 'NT - Non-Tier GRIP'],\n",
       "      dtype=object)"
      ]
     },
     "execution_count": 104,
     "metadata": {},
     "output_type": "execute_result"
    }
   ],
   "source": [
    "''' primary_client_industry '''\n",
    "\n",
    "df['primary_client_industry'].fillna('Unspecified', inplace=True)\n",
    "#df['Proj_Serv_Offering'] = df['Proj_Serv_Offering'].str.replace(r'N/A - NOT APPLICABLE', 'Unspecified')\n",
    "df['primary_client_industry'].unique()"
   ]
  },
  {
   "cell_type": "code",
   "execution_count": 105,
   "id": "3cae6a3b",
   "metadata": {},
   "outputs": [],
   "source": [
    "df['Sales Cloud Opportunity Number'] = df['Sales Cloud Opportunity Number'].replace(np.nan, 0)"
   ]
  },
  {
   "cell_type": "code",
   "execution_count": 106,
   "id": "88376298",
   "metadata": {},
   "outputs": [],
   "source": [
    "df['Actual Non-Labor Cost - MTD'] = df['Actual Non-Labor Cost - MTD'].replace(np.nan, 0)"
   ]
  },
  {
   "cell_type": "code",
   "execution_count": 129,
   "id": "6b13fe5a",
   "metadata": {},
   "outputs": [],
   "source": [
    "df['bookings_jtd'] = df['bookings_jtd'].replace(np.nan, 0)\n",
    "df['interest_current'] = df['interest_current'].replace(np.nan, 0)\n",
    "df['interest_jtd'] = df['interest_jtd'].replace(np.nan, 0)\n",
    "df['interest_ytd'] = df['interest_ytd'].replace(np.nan, 0)\n",
    "df['multiplier_budget'] = df['multiplier_budget'].replace(np.nan, 0)\n",
    "df['multiplier_current'] = df['multiplier_current'].replace(np.nan, 0)\n",
    "\n",
    "df['multiplier_target'] = df['multiplier_target'].replace(np.nan, 0)\n",
    "df['overhead_current'] = df['overhead_current'].replace(np.nan, 0)\n",
    "\n",
    "df['overhead_rate'] = df['overhead_rate'].replace(np.nan, 0)\n",
    "df['overhead_current'] = df['overhead_current'].replace(np.nan, 0)\n"
   ]
  },
  {
   "cell_type": "code",
   "execution_count": 109,
   "id": "43999c69",
   "metadata": {},
   "outputs": [
    {
     "data": {
      "text/plain": [
       "array(['I', 'G', 'N', 'R', 'B', 'H', 'C', '3'], dtype=object)"
      ]
     },
     "execution_count": 109,
     "metadata": {},
     "output_type": "execute_result"
    }
   ],
   "source": [
    "''' primary_client_industry '''\n",
    "\n",
    "df['revenue_type'].fillna('H', inplace=True)\n",
    "df['revenue_type'].unique()"
   ]
  },
  {
   "cell_type": "code",
   "execution_count": 110,
   "id": "bdbcdf15",
   "metadata": {},
   "outputs": [
    {
     "data": {
      "text/plain": [
       "revenue_type\n",
       "3      1168\n",
       "B     91945\n",
       "C       899\n",
       "G    287756\n",
       "H    462634\n",
       "I    417067\n",
       "N      5355\n",
       "R       153\n",
       "dtype: int64"
      ]
     },
     "execution_count": 110,
     "metadata": {},
     "output_type": "execute_result"
    }
   ],
   "source": [
    "df.groupby(['revenue_type']).size()"
   ]
  },
  {
   "cell_type": "code",
   "execution_count": 112,
   "id": "a184f4fd",
   "metadata": {},
   "outputs": [
    {
     "data": {
      "text/plain": [
       "array(['Other', 'Oil & Gas', 'Public', 'Chemicals', 'Life Sci',\n",
       "       'Intercompany', 'Commercials', 'Manufacturing', 'Power/Util',\n",
       "       'Transp/Log', 'Federal', 'Mng/Metals'], dtype=object)"
      ]
     },
     "execution_count": 112,
     "metadata": {},
     "output_type": "execute_result"
    }
   ],
   "source": [
    "''' AUS Mkt Sector Aggregate '''\n",
    "\n",
    "df['AUS Mkt Sector Aggregate'].fillna('Other', inplace=True)\n",
    "df['AUS Mkt Sector Aggregate'].unique()"
   ]
  },
  {
   "cell_type": "code",
   "execution_count": 113,
   "id": "c1ab9f40",
   "metadata": {},
   "outputs": [],
   "source": [
    "df['Break Even Multiplier - Project'] = df['Break Even Multiplier - Project'].replace(np.nan, 0)"
   ]
  },
  {
   "cell_type": "code",
   "execution_count": 115,
   "id": "a65fb1d9",
   "metadata": {},
   "outputs": [
    {
     "data": {
      "text/plain": [
       "array(['Unspecified', 'High', 'Low', 'Medium'], dtype=object)"
      ]
     },
     "execution_count": 115,
     "metadata": {},
     "output_type": "execute_result"
    }
   ],
   "source": [
    "'''Risk profile'''\n",
    "\n",
    "df['Risk Profile'].fillna('Unspecified', inplace=True)\n",
    "df['Risk Profile'].unique()"
   ]
  },
  {
   "cell_type": "code",
   "execution_count": 117,
   "id": "2271b3bc",
   "metadata": {},
   "outputs": [
    {
     "data": {
      "text/plain": [
       "array([0., 1., 2., 3., 4., 5.])"
      ]
     },
     "execution_count": 117,
     "metadata": {},
     "output_type": "execute_result"
    }
   ],
   "source": [
    "'''Risk profile'''\n",
    "\n",
    "df['riskrating_project'] = df['riskrating_project'].replace(np.nan, 0)\n",
    "df['riskrating_project'].unique()"
   ]
  },
  {
   "cell_type": "code",
   "execution_count": 118,
   "id": "aaa5bdac",
   "metadata": {},
   "outputs": [
    {
     "data": {
      "text/plain": [
       "0         NaN\n",
       "1         NaN\n",
       "2         NaN\n",
       "3         NaN\n",
       "4         NaN\n",
       "           ..\n",
       "1269166   NaN\n",
       "1269167   NaN\n",
       "1269168   NaN\n",
       "1269169   NaN\n",
       "1269170   NaN\n",
       "Name: Project Manager Employee Number (Current), Length: 1266977, dtype: float64"
      ]
     },
     "execution_count": 118,
     "metadata": {},
     "output_type": "execute_result"
    }
   ],
   "source": [
    "df.pop('Total Aging')\n",
    "df.pop('Cleaned_Name')\n",
    "df.pop('Project Manager Employee Number (Current)')"
   ]
  },
  {
   "cell_type": "code",
   "execution_count": 130,
   "id": "97f50973",
   "metadata": {},
   "outputs": [
    {
     "data": {
      "text/plain": [
       "Project Name                           0\n",
       "Health and Safety Status               0\n",
       "Project Status                         0\n",
       "SalesCloudClientNo                     0\n",
       "Contract Type Name                     0\n",
       "Ultimate Customer AUS Market Sector    0\n",
       "Division Short Name                    0\n",
       "location_2                             0\n",
       "location_4                             0\n",
       "Region                                 0\n",
       "Country                                0\n",
       "Proj_CVP                               0\n",
       "Proj_Serv_Offering                     0\n",
       "CVP Description                        0\n",
       "primary_client_industry                0\n",
       "Sales Cloud Opportunity Number         0\n",
       "Funding Amount - ITC (Snapshot)        0\n",
       "Backlog NR                             0\n",
       "Actual Direct Labor Cost - MTD         0\n",
       "Actual Non-Labor Cost - MTD            0\n",
       "Actual Gross Revenue - MTD             0\n",
       "Actual Net Revenue - MTD               0\n",
       "EBITA - MTD                            0\n",
       "Forecast Direct Labor Cost - ITC       0\n",
       "Forecast Net Revenue - ITC             0\n",
       "Order Intake (NR) - MTD                0\n",
       "bookings_jtd                           0\n",
       "interest_current                       0\n",
       "interest_jtd                           0\n",
       "interest_ytd                           0\n",
       "dtype: int64"
      ]
     },
     "execution_count": 130,
     "metadata": {},
     "output_type": "execute_result"
    }
   ],
   "source": [
    "df.iloc[:, :30].isna().sum()"
   ]
  },
  {
   "cell_type": "code",
   "execution_count": 131,
   "id": "edf39923",
   "metadata": {},
   "outputs": [
    {
     "data": {
      "text/plain": [
       "multiplier_current                      0\n",
       "multiplier_target                       0\n",
       "overhead_current                        0\n",
       "overhead_rate                           0\n",
       "revenue_type                            0\n",
       "AUS Mkt Sector Aggregate                0\n",
       "Baseline NR                             0\n",
       "Break Even Multiplier - Project         0\n",
       "Organization Size                       0\n",
       "Risk Profile                            0\n",
       "riskrating_project                      0\n",
       "ActualNR_sum                            0\n",
       "Projectduration                         0\n",
       "Project Start Date                 259785\n",
       "Scheduled End Date                 260107\n",
       "Date                                    0\n",
       "Project Number                          0\n",
       "Completion                              0\n",
       "logtransform                            0\n",
       "scheduled_duration                      0\n",
       "Scheduled_projectduration               0\n",
       "intime                                  0\n",
       "round                                   0\n",
       "month                                   0\n",
       "seasonality_month                       0\n",
       "SalesCloudClientNo                      0\n",
       "dtype: int64"
      ]
     },
     "execution_count": 131,
     "metadata": {},
     "output_type": "execute_result"
    }
   ],
   "source": [
    "df.iloc[:, 31:].isna().sum()"
   ]
  },
  {
   "cell_type": "code",
   "execution_count": 132,
   "id": "10cadfad",
   "metadata": {},
   "outputs": [
    {
     "data": {
      "text/plain": [
       "0          NaN\n",
       "1          NaN\n",
       "2          NaN\n",
       "3          NaN\n",
       "4          NaN\n",
       "          ... \n",
       "1269166    NaN\n",
       "1269167    NaN\n",
       "1269168    NaN\n",
       "1269169    NaN\n",
       "1269170    NaN\n",
       "Name: Scheduled End Date, Length: 1266977, dtype: object"
      ]
     },
     "execution_count": 132,
     "metadata": {},
     "output_type": "execute_result"
    }
   ],
   "source": [
    "df.pop('Project Start Date')\n",
    "df.pop('Scheduled End Date')"
   ]
  },
  {
   "cell_type": "code",
   "execution_count": 139,
   "id": "d58a5533",
   "metadata": {},
   "outputs": [
    {
     "data": {
      "text/plain": [
       "array(['Key Regional', 'Local', 'Key Global', 'Unspecified'], dtype=object)"
      ]
     },
     "execution_count": 139,
     "metadata": {},
     "output_type": "execute_result"
    }
   ],
   "source": [
    "'''Organization Size '''\n",
    "\n",
    "\n",
    "df['Organization Size'] = df['Organization Size'].str.replace(r'GKC', 'Key Global')\n",
    "df['Organization Size'] = df['Organization Size'].str.replace(r'Key Local', 'Local')\n",
    "df['Organization Size'] = df['Organization Size'].str.replace(r'RKC', 'Key Regional')\n",
    "\n",
    "\n",
    "df['Organization Size'].unique()"
   ]
  },
  {
   "cell_type": "code",
   "execution_count": 140,
   "id": "eb39eb9a",
   "metadata": {},
   "outputs": [],
   "source": [
    "df.to_csv('mv_port_processed2.csv')"
   ]
  },
  {
   "cell_type": "code",
   "execution_count": null,
   "id": "a113734f",
   "metadata": {},
   "outputs": [],
   "source": []
  }
 ],
 "metadata": {
  "kernelspec": {
   "display_name": "Python 3",
   "language": "python",
   "name": "python3"
  },
  "language_info": {
   "codemirror_mode": {
    "name": "ipython",
    "version": 3
   },
   "file_extension": ".py",
   "mimetype": "text/x-python",
   "name": "python",
   "nbconvert_exporter": "python",
   "pygments_lexer": "ipython3",
   "version": "3.7.9"
  }
 },
 "nbformat": 4,
 "nbformat_minor": 5
}
