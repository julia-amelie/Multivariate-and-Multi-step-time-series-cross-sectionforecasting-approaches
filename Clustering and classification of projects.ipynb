{
 "cells": [
  {
   "cell_type": "markdown",
   "id": "91daaf71",
   "metadata": {},
   "source": [
    "### Clustering and classificatio of projects\n",
    "This is relevant when for new projects, where we have not yet obtined data. The idea is to cluster a project accroding to it's incoming specifics. Then after the first observation, we would switch to timer series forecast"
   ]
  },
  {
   "cell_type": "code",
   "execution_count": null,
   "id": "94888ae3",
   "metadata": {},
   "outputs": [],
   "source": []
  }
 ],
 "metadata": {
  "kernelspec": {
   "display_name": "Python 3",
   "language": "python",
   "name": "python3"
  },
  "language_info": {
   "codemirror_mode": {
    "name": "ipython",
    "version": 3
   },
   "file_extension": ".py",
   "mimetype": "text/x-python",
   "name": "python",
   "nbconvert_exporter": "python",
   "pygments_lexer": "ipython3",
   "version": "3.7.9"
  }
 },
 "nbformat": 4,
 "nbformat_minor": 5
}
