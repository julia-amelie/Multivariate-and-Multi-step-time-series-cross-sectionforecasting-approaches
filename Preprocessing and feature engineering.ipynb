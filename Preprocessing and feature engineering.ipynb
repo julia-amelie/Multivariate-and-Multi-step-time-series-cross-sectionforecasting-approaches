{
 "cells": [
  {
   "cell_type": "markdown",
   "id": "2412924a",
   "metadata": {},
   "source": [
    "### Plotting time behaviour of different projects\n",
    " - Anomalies, Extreme Values\n",
    " - Trends, Seasonality\n",
    " - changepoints, inflection points\n",
    " - Heteroskedasticity\n",
    "\n",
    "\n",
    "Check for \n",
    "- seasonality\n",
    "- stationarity\n",
    "- autocorrelation \n",
    "- homoskedacitcity\n",
    "\n",
    "\n",
    "Sources\n",
    "- https://towardsdatascience.com/the-complete-guide-to-time-series-analysis-and-forecasting-70d476bfe775\n",
    "- "
   ]
  },
  {
   "cell_type": "code",
   "execution_count": 216,
   "id": "88f566b3",
   "metadata": {},
   "outputs": [],
   "source": [
    "import pandas as pd"
   ]
  },
  {
   "cell_type": "code",
   "execution_count": 251,
   "id": "39b3ea77",
   "metadata": {},
   "outputs": [
    {
     "name": "stderr",
     "output_type": "stream",
     "text": [
      "/Users/julia/opt/anaconda3/lib/python3.7/site-packages/IPython/core/interactiveshell.py:3170: DtypeWarning: Columns (1,2,3,4,6,7,8,9,10,11,12,13,14,15,16,17,18,19,20,40,41,45,51,58,59,61,64) have mixed types.Specify dtype option on import or set low_memory=False.\n",
      "  interactivity=interactivity, compiler=compiler, result=result)\n"
     ]
    }
   ],
   "source": [
    "df = pd.read_csv('mv_port.csv')"
   ]
  },
  {
   "cell_type": "code",
   "execution_count": 252,
   "id": "a0ca5eb9",
   "metadata": {},
   "outputs": [
    {
     "data": {
      "text/html": [
       "<div>\n",
       "<style scoped>\n",
       "    .dataframe tbody tr th:only-of-type {\n",
       "        vertical-align: middle;\n",
       "    }\n",
       "\n",
       "    .dataframe tbody tr th {\n",
       "        vertical-align: top;\n",
       "    }\n",
       "\n",
       "    .dataframe thead th {\n",
       "        text-align: right;\n",
       "    }\n",
       "</style>\n",
       "<table border=\"1\" class=\"dataframe\">\n",
       "  <thead>\n",
       "    <tr style=\"text-align: right;\">\n",
       "      <th></th>\n",
       "      <th>Unnamed: 0</th>\n",
       "      <th>Project Number_x</th>\n",
       "      <th>Project Name</th>\n",
       "      <th>Health and Safety Status</th>\n",
       "      <th>Project Status</th>\n",
       "      <th>SalesCloudClientNo</th>\n",
       "      <th>Contract Type Name</th>\n",
       "      <th>Ultimate Customer AUS Market Sector</th>\n",
       "      <th>Division Short Name</th>\n",
       "      <th>location_2</th>\n",
       "      <th>...</th>\n",
       "      <th>Project Number_y</th>\n",
       "      <th>Project Start Date</th>\n",
       "      <th>POC</th>\n",
       "      <th>Contract Status</th>\n",
       "      <th>Related Opportunity Project Number_y</th>\n",
       "      <th>Project Manager Employee Number (Current)</th>\n",
       "      <th>Project Progress Status (Current)</th>\n",
       "      <th>Scheduled End Date</th>\n",
       "      <th>Date</th>\n",
       "      <th>Project Number</th>\n",
       "    </tr>\n",
       "  </thead>\n",
       "  <tbody>\n",
       "    <tr>\n",
       "      <th>0</th>\n",
       "      <td>0</td>\n",
       "      <td>unspecified</td>\n",
       "      <td>UNIVAR - PROJECT MONARCH</td>\n",
       "      <td>NaN</td>\n",
       "      <td>Open/Active</td>\n",
       "      <td>10239939.0</td>\n",
       "      <td>Time and Material</td>\n",
       "      <td>NaN</td>\n",
       "      <td>Environment</td>\n",
       "      <td>RE</td>\n",
       "      <td>...</td>\n",
       "      <td>NaN</td>\n",
       "      <td>NaN</td>\n",
       "      <td>NaN</td>\n",
       "      <td>NaN</td>\n",
       "      <td>NaN</td>\n",
       "      <td>NaN</td>\n",
       "      <td>NaN</td>\n",
       "      <td>NaN</td>\n",
       "      <td>201601</td>\n",
       "      <td>unspecified</td>\n",
       "    </tr>\n",
       "    <tr>\n",
       "      <th>1</th>\n",
       "      <td>1</td>\n",
       "      <td>30001238</td>\n",
       "      <td>YJWWTP Post-Sandy Rehab- PhIII</td>\n",
       "      <td>Plan Required</td>\n",
       "      <td>Open/Active</td>\n",
       "      <td>10238060.0</td>\n",
       "      <td>Cost plus Fixed Fee</td>\n",
       "      <td>Municipalities/Local Govt.</td>\n",
       "      <td>Water</td>\n",
       "      <td>NT</td>\n",
       "      <td>...</td>\n",
       "      <td>NaN</td>\n",
       "      <td>2014-12-21 00:00:00</td>\n",
       "      <td>NaN</td>\n",
       "      <td>NaN</td>\n",
       "      <td>NaN</td>\n",
       "      <td>24232.0</td>\n",
       "      <td>NaN</td>\n",
       "      <td>2021-05-03</td>\n",
       "      <td>201601</td>\n",
       "      <td>30001238</td>\n",
       "    </tr>\n",
       "    <tr>\n",
       "      <th>2</th>\n",
       "      <td>2</td>\n",
       "      <td>30001347</td>\n",
       "      <td>Abandoned Chemical Sales Fac.</td>\n",
       "      <td>Plan Required</td>\n",
       "      <td>Open/Active</td>\n",
       "      <td>10238193.0</td>\n",
       "      <td>D</td>\n",
       "      <td>State/Regional Government</td>\n",
       "      <td>Water</td>\n",
       "      <td>NT</td>\n",
       "      <td>...</td>\n",
       "      <td>NaN</td>\n",
       "      <td>2012-04-27 00:00:00</td>\n",
       "      <td>NaN</td>\n",
       "      <td>NaN</td>\n",
       "      <td>NaN</td>\n",
       "      <td>24986.0</td>\n",
       "      <td>NaN</td>\n",
       "      <td>2020-10-01</td>\n",
       "      <td>201601</td>\n",
       "      <td>30001347</td>\n",
       "    </tr>\n",
       "    <tr>\n",
       "      <th>3</th>\n",
       "      <td>3</td>\n",
       "      <td>30001355</td>\n",
       "      <td>NYSDEC Jimmy's RA</td>\n",
       "      <td>Plan Required</td>\n",
       "      <td>Open/Active</td>\n",
       "      <td>10238193.0</td>\n",
       "      <td>Cost plus Fixed Fee</td>\n",
       "      <td>State/Regional Government</td>\n",
       "      <td>Environment</td>\n",
       "      <td>RE</td>\n",
       "      <td>...</td>\n",
       "      <td>NaN</td>\n",
       "      <td>2013-05-19 00:00:00</td>\n",
       "      <td>NaN</td>\n",
       "      <td>NaN</td>\n",
       "      <td>NaN</td>\n",
       "      <td>24341.0</td>\n",
       "      <td>NaN</td>\n",
       "      <td>2021-01-11</td>\n",
       "      <td>201601</td>\n",
       "      <td>30001355</td>\n",
       "    </tr>\n",
       "    <tr>\n",
       "      <th>4</th>\n",
       "      <td>4</td>\n",
       "      <td>30001367</td>\n",
       "      <td>Chemical Sales RD WA 34</td>\n",
       "      <td>Plan Required</td>\n",
       "      <td>Open/Active</td>\n",
       "      <td>10238193.0</td>\n",
       "      <td>D</td>\n",
       "      <td>State/Regional Government</td>\n",
       "      <td>Water</td>\n",
       "      <td>NT</td>\n",
       "      <td>...</td>\n",
       "      <td>NaN</td>\n",
       "      <td>2015-07-01 00:00:00</td>\n",
       "      <td>NaN</td>\n",
       "      <td>NaN</td>\n",
       "      <td>NaN</td>\n",
       "      <td>24986.0</td>\n",
       "      <td>NaN</td>\n",
       "      <td>2020-06-11</td>\n",
       "      <td>201601</td>\n",
       "      <td>30001367</td>\n",
       "    </tr>\n",
       "  </tbody>\n",
       "</table>\n",
       "<p>5 rows × 65 columns</p>\n",
       "</div>"
      ],
      "text/plain": [
       "   Unnamed: 0 Project Number_x                    Project Name  \\\n",
       "0           0      unspecified        UNIVAR - PROJECT MONARCH   \n",
       "1           1         30001238  YJWWTP Post-Sandy Rehab- PhIII   \n",
       "2           2         30001347   Abandoned Chemical Sales Fac.   \n",
       "3           3         30001355               NYSDEC Jimmy's RA   \n",
       "4           4         30001367         Chemical Sales RD WA 34   \n",
       "\n",
       "  Health and Safety Status Project Status  SalesCloudClientNo  \\\n",
       "0                      NaN    Open/Active          10239939.0   \n",
       "1            Plan Required    Open/Active          10238060.0   \n",
       "2            Plan Required    Open/Active          10238193.0   \n",
       "3            Plan Required    Open/Active          10238193.0   \n",
       "4            Plan Required    Open/Active          10238193.0   \n",
       "\n",
       "    Contract Type Name Ultimate Customer AUS Market Sector  \\\n",
       "0    Time and Material                                 NaN   \n",
       "1  Cost plus Fixed Fee          Municipalities/Local Govt.   \n",
       "2                    D           State/Regional Government   \n",
       "3  Cost plus Fixed Fee           State/Regional Government   \n",
       "4                    D           State/Regional Government   \n",
       "\n",
       "  Division Short Name location_2  ... Project Number_y   Project Start Date  \\\n",
       "0         Environment         RE  ...              NaN                  NaN   \n",
       "1               Water         NT  ...              NaN  2014-12-21 00:00:00   \n",
       "2               Water         NT  ...              NaN  2012-04-27 00:00:00   \n",
       "3         Environment         RE  ...              NaN  2013-05-19 00:00:00   \n",
       "4               Water         NT  ...              NaN  2015-07-01 00:00:00   \n",
       "\n",
       "  POC Contract Status Related Opportunity Project Number_y  \\\n",
       "0 NaN             NaN                                  NaN   \n",
       "1 NaN             NaN                                  NaN   \n",
       "2 NaN             NaN                                  NaN   \n",
       "3 NaN             NaN                                  NaN   \n",
       "4 NaN             NaN                                  NaN   \n",
       "\n",
       "  Project Manager Employee Number (Current) Project Progress Status (Current)  \\\n",
       "0                                       NaN                               NaN   \n",
       "1                                   24232.0                               NaN   \n",
       "2                                   24986.0                               NaN   \n",
       "3                                   24341.0                               NaN   \n",
       "4                                   24986.0                               NaN   \n",
       "\n",
       "  Scheduled End Date    Date Project Number  \n",
       "0                NaN  201601    unspecified  \n",
       "1         2021-05-03  201601       30001238  \n",
       "2         2020-10-01  201601       30001347  \n",
       "3         2021-01-11  201601       30001355  \n",
       "4         2020-06-11  201601       30001367  \n",
       "\n",
       "[5 rows x 65 columns]"
      ]
     },
     "execution_count": 252,
     "metadata": {},
     "output_type": "execute_result"
    }
   ],
   "source": [
    "df.head()"
   ]
  },
  {
   "cell_type": "code",
   "execution_count": 253,
   "id": "15421680",
   "metadata": {},
   "outputs": [],
   "source": [
    "df = df.loc[:, ~df.columns.str.contains('^Unnamed')]\n",
    "df['Project Number'] = df['Project Number'].astype('str') "
   ]
  },
  {
   "cell_type": "markdown",
   "id": "9bbfa60d",
   "metadata": {},
   "source": [
    "### for now lets exclude the 2021-04 observation"
   ]
  },
  {
   "cell_type": "code",
   "execution_count": 254,
   "id": "c8306200",
   "metadata": {},
   "outputs": [],
   "source": [
    "df = df[df['Date'] != 202104]"
   ]
  },
  {
   "cell_type": "markdown",
   "id": "2048479c",
   "metadata": {},
   "source": [
    "### Total Project duration"
   ]
  },
  {
   "cell_type": "code",
   "execution_count": 255,
   "id": "17354543",
   "metadata": {},
   "outputs": [],
   "source": [
    "df['Projectduration'] = df.groupby(['Project Number'])['Date'].transform('count')"
   ]
  },
  {
   "cell_type": "code",
   "execution_count": 256,
   "id": "e3c992a4",
   "metadata": {},
   "outputs": [
    {
     "data": {
      "text/plain": [
       "2208       63\n",
       "2461       63\n",
       "4894       63\n",
       "7428       63\n",
       "10055      63\n",
       "           ..\n",
       "933487     63\n",
       "972070     63\n",
       "1009374    63\n",
       "1038580    63\n",
       "1079964    63\n",
       "Name: Projectduration, Length: 63, dtype: int64"
      ]
     },
     "execution_count": 256,
     "metadata": {},
     "output_type": "execute_result"
    }
   ],
   "source": [
    "df[df['Project Number'] == '30001798']['Projectduration']"
   ]
  },
  {
   "cell_type": "markdown",
   "id": "ff09b7e6",
   "metadata": {},
   "source": [
    "## Let's alculate cumsumNR"
   ]
  },
  {
   "cell_type": "code",
   "execution_count": 257,
   "id": "84bb54de",
   "metadata": {},
   "outputs": [],
   "source": [
    "df['Actual Net Revenue - MTD'].fillna(0, inplace=True)\n",
    "\n",
    "df['ActualNR_sum'] = df.groupby(\"Project Number\")['Actual Net Revenue - MTD'].cumsum()"
   ]
  },
  {
   "cell_type": "code",
   "execution_count": 258,
   "id": "c928a9cb",
   "metadata": {},
   "outputs": [
    {
     "data": {
      "text/plain": [
       "2208       10223.97\n",
       "2461       12507.97\n",
       "4894       13099.24\n",
       "7428       14328.92\n",
       "10055      16406.67\n",
       "             ...   \n",
       "933487     44090.87\n",
       "972070     45126.27\n",
       "1009374    45126.27\n",
       "1038580    45126.27\n",
       "1079964    45306.27\n",
       "Name: ActualNR_sum, Length: 63, dtype: float64"
      ]
     },
     "execution_count": 258,
     "metadata": {},
     "output_type": "execute_result"
    }
   ],
   "source": [
    "df[df['Project Number'] == '30001798']['ActualNR_sum']"
   ]
  },
  {
   "cell_type": "markdown",
   "id": "55edd198",
   "metadata": {},
   "source": [
    "### We need to drop some columns"
   ]
  },
  {
   "cell_type": "code",
   "execution_count": 259,
   "id": "71590bd0",
   "metadata": {},
   "outputs": [
    {
     "data": {
      "text/plain": [
       "0                  NaN\n",
       "1                  NaN\n",
       "2                  NaN\n",
       "3                  NaN\n",
       "4                  NaN\n",
       "              ...     \n",
       "1269166    Unspecified\n",
       "1269167    Unspecified\n",
       "1269168    Unspecified\n",
       "1269169    Unspecified\n",
       "1269170    Unspecified\n",
       "Name: Project Progress Status (Current), Length: 1269171, dtype: object"
      ]
     },
     "execution_count": 259,
     "metadata": {},
     "output_type": "execute_result"
    }
   ],
   "source": [
    "#df.pop('CVP Code')\n",
    "df.pop('interest_current.1')\n",
    "df.pop('Total WIP')\n",
    "df.pop('Positive WIP')\n",
    "df.pop('Project Number_y')\n",
    "df.pop('ID')\n",
    "df.pop('POC')\n",
    "df.pop('Contract Status')\n",
    "df.pop('Related Opportunity Project Number_y')\n",
    "df.pop('Project Progress Status (Current)')"
   ]
  },
  {
   "cell_type": "markdown",
   "id": "3c2ee548",
   "metadata": {},
   "source": [
    "### forward fill funding amount"
   ]
  },
  {
   "cell_type": "code",
   "execution_count": 260,
   "id": "a5d45d85",
   "metadata": {},
   "outputs": [],
   "source": [
    "def obtain_df(project, df):\n",
    "    df_project = df[df['Project Number'] == project]\n",
    "    #df_project = df_project[['Fiscal Period Code', 'Funding Amount - ITC (Snapshot)', 'Backlog NR', 'Actual Gross Revenue - MTD']].copy()\n",
    "    df_project['Backlog_Shifted'] = df_project['Backlog NR'].transform(lambda x: x.shift())\n",
    "    df_project.reset_index(inplace=True)\n",
    "    df_project = df_project.loc[:, ~df_project.columns.str.contains('^index')]\n",
    "    return df_project\n",
    "\n",
    "def random_project(df):\n",
    "    df = df.sample(n=1)\n",
    "    project_number = df['Project Number'].item()\n",
    "    return project_number"
   ]
  },
  {
   "cell_type": "markdown",
   "id": "7849d026",
   "metadata": {},
   "source": [
    "### Let's sort the dataframe by project number and only run this preprocessing for a few projects now"
   ]
  },
  {
   "cell_type": "code",
   "execution_count": 261,
   "id": "234d4f8f",
   "metadata": {},
   "outputs": [],
   "source": [
    "df.sort_values(by=['Project Number', 'Date'], inplace=True)\n",
    "df.reset_index(inplace=True)"
   ]
  },
  {
   "cell_type": "markdown",
   "id": "4607f52f",
   "metadata": {},
   "source": [
    "### I will now generate 10 smaller dataframes so that the remove NA can be applied"
   ]
  },
  {
   "cell_type": "code",
   "execution_count": 127,
   "id": "98a51e1c",
   "metadata": {},
   "outputs": [
    {
     "data": {
      "text/plain": [
       "126917.1"
      ]
     },
     "execution_count": 127,
     "metadata": {},
     "output_type": "execute_result"
    }
   ],
   "source": [
    "1269171/10"
   ]
  },
  {
   "cell_type": "code",
   "execution_count": 190,
   "id": "dc203070",
   "metadata": {},
   "outputs": [],
   "source": [
    "#in this function we need to put in the start and preliminary end date, and then it will make sure that we don't exclude a project\n",
    "def the_splits(start,prelimend):\n",
    "    dfmutable = df.iloc[start:prelimend]\n",
    "    x=dfmutable.iloc[-1:]['Project Number']\n",
    "    y = x.iloc[0]\n",
    "    lastproject=df[df['Project Number'] == y]\n",
    "    lastindex=lastproject.index[-1]\n",
    "    sub_df = df.iloc[:lastindex]\n",
    "    return sub_df"
   ]
  },
  {
   "cell_type": "code",
   "execution_count": 154,
   "id": "a130d9ca",
   "metadata": {},
   "outputs": [
    {
     "data": {
      "text/plain": [
       "1142254"
      ]
     },
     "execution_count": 154,
     "metadata": {},
     "output_type": "execute_result"
    }
   ],
   "source": [
    "(1269171-126917)"
   ]
  },
  {
   "cell_type": "code",
   "execution_count": 172,
   "id": "664fbd6b",
   "metadata": {},
   "outputs": [],
   "source": [
    "start= df1.index[-1] +1\n",
    "end = start + 126917\n",
    "df2 = the_splits(start, end)"
   ]
  },
  {
   "cell_type": "code",
   "execution_count": 173,
   "id": "d4f6cbbe",
   "metadata": {},
   "outputs": [],
   "source": [
    "start= df2.index[-1] +1\n",
    "end = start + 126917\n",
    "df3 = the_splits(start, end)"
   ]
  },
  {
   "cell_type": "code",
   "execution_count": 174,
   "id": "8e3d8388",
   "metadata": {},
   "outputs": [],
   "source": [
    "start= df3.index[-1] +1\n",
    "end = start + 126917\n",
    "df4 = the_splits(start, end)"
   ]
  },
  {
   "cell_type": "code",
   "execution_count": 175,
   "id": "b36682c8",
   "metadata": {},
   "outputs": [],
   "source": [
    "start= df4.index[-1] +1\n",
    "end = start + 126917\n",
    "df5 = the_splits(start, end)"
   ]
  },
  {
   "cell_type": "code",
   "execution_count": 176,
   "id": "6dd67551",
   "metadata": {},
   "outputs": [],
   "source": [
    "start= df5.index[-1] +1\n",
    "end = start + 126917\n",
    "df6 = the_splits(start, end)"
   ]
  },
  {
   "cell_type": "code",
   "execution_count": 177,
   "id": "101443f4",
   "metadata": {},
   "outputs": [],
   "source": [
    "start= df6.index[-1] +1\n",
    "end = start + 126917\n",
    "df7 = the_splits(start, end)"
   ]
  },
  {
   "cell_type": "code",
   "execution_count": 178,
   "id": "b2bb88ec",
   "metadata": {},
   "outputs": [],
   "source": [
    "start= df7.index[-1] +1\n",
    "end = start + 126917\n",
    "df8 = the_splits(start, end)"
   ]
  },
  {
   "cell_type": "code",
   "execution_count": 179,
   "id": "d7276c0c",
   "metadata": {},
   "outputs": [],
   "source": [
    "start= df8.index[-1] +1\n",
    "end = start + 126917\n",
    "df9 = the_splits(start, end)"
   ]
  },
  {
   "cell_type": "code",
   "execution_count": 184,
   "id": "9464f596",
   "metadata": {},
   "outputs": [],
   "source": [
    "start= df9.index[-1] +1\n",
    "end = len(df)\n",
    "df10 = df.iloc[start:end]"
   ]
  },
  {
   "cell_type": "code",
   "execution_count": 191,
   "id": "c604c003",
   "metadata": {},
   "outputs": [],
   "source": [
    "#chuncks\n",
    "def obtain_chucklist(dataFrame):\n",
    "    chuncks = dataFrame['Project Number'].unique()\n",
    "    chuncks = chuncks.tolist()\n",
    "    return chuncks"
   ]
  },
  {
   "cell_type": "code",
   "execution_count": 187,
   "id": "95e013c6",
   "metadata": {},
   "outputs": [
    {
     "data": {
      "text/plain": [
       "list"
      ]
     },
     "execution_count": 187,
     "metadata": {},
     "output_type": "execute_result"
    }
   ],
   "source": [
    "type(chuncks)"
   ]
  },
  {
   "cell_type": "code",
   "execution_count": 192,
   "id": "6db970b9",
   "metadata": {},
   "outputs": [],
   "source": [
    "def remove_NA(chuncks, dataframe):\n",
    "    appended_data = []\n",
    "    \n",
    "    for project in chuncks:\n",
    "        df_sub = obtain_df(project, dataframe)\n",
    "    \n",
    "        df_sub['Funding Amount - ITC (Snapshot)'].ffill(inplace=True)\n",
    "        df_sub['Backlog NR'].ffill(inplace=True)\n",
    "        df_sub['Forecast Direct Labor Cost - ITC'].ffill(inplace=True)\n",
    "        df_sub['Forecast Net Revenue - ITC'].ffill(inplace=True)\n",
    "        df_sub['Baseline NR'].bfill(0, inplace=True)\n",
    "    \n",
    "    \n",
    "        df_sub['Actual Direct Labor Cost - MTD'].fillna(0, inplace=True)\n",
    "        df_sub['Actual Gross Revenue - MTD'].fillna(0, inplace=True)\n",
    "        df_sub['Actual Net Revenue - MTD'].fillna(0, inplace=True)\n",
    "        df_sub['EBITA - MTD'].fillna(0, inplace=True) \n",
    "        df_sub['Order Intake (NR) - MTD'].fillna(0, inplace=True)  \n",
    "    \n",
    "        df_sub['Funding Amount - ITC (Snapshot)'].fillna(0, inplace=True)\n",
    "        df_sub['Backlog NR'].fillna(0, inplace=True)\n",
    "        df_sub['Forecast Direct Labor Cost - ITC'].fillna(0, inplace=True)\n",
    "        df_sub['Forecast Net Revenue - ITC'].fillna(0, inplace=True)\n",
    "        df_sub['Baseline NR'].fillna(0, inplace=True)\n",
    "    \n",
    "    #df_sub['Project Progress Status (Current)'].bfill(0, inplace=True)\n",
    "    \n",
    "        appended_data.append(df_sub)\n",
    "    \n",
    "        df_master=pd.concat(appended_data)\n",
    "    return df_master    "
   ]
  },
  {
   "cell_type": "code",
   "execution_count": 228,
   "id": "1ae59a0c",
   "metadata": {},
   "outputs": [],
   "source": [
    "def removal_loop(dataframe):\n",
    "    chuncks = obtain_chucklist(dataframe)\n",
    "    master_df = remove_NA(chuncks, dataframe)\n",
    "    return master_df"
   ]
  },
  {
   "cell_type": "code",
   "execution_count": null,
   "id": "566a2c20",
   "metadata": {},
   "outputs": [],
   "source": [
    "dfff = removal_loop(subdf)\n",
    "dfff.head()"
   ]
  },
  {
   "cell_type": "code",
   "execution_count": 262,
   "id": "7f34a40f",
   "metadata": {},
   "outputs": [],
   "source": [
    "def real_removal(df_sub):\n",
    "        df_sub['Funding Amount - ITC (Snapshot)'].ffill(inplace=True)\n",
    "        df_sub['Backlog NR'].ffill(inplace=True)\n",
    "        df_sub['Forecast Direct Labor Cost - ITC'].ffill(inplace=True)\n",
    "        df_sub['Forecast Net Revenue - ITC'].ffill(inplace=True)\n",
    "        df_sub['Baseline NR'].bfill(0, inplace=True)\n",
    "    \n",
    "    \n",
    "        df_sub['Actual Direct Labor Cost - MTD'].fillna(0, inplace=True)\n",
    "        df_sub['Actual Gross Revenue - MTD'].fillna(0, inplace=True)\n",
    "        df_sub['Actual Net Revenue - MTD'].fillna(0, inplace=True)\n",
    "        df_sub['EBITA - MTD'].fillna(0, inplace=True) \n",
    "        df_sub['Order Intake (NR) - MTD'].fillna(0, inplace=True)  \n",
    "    \n",
    "        df_sub['Funding Amount - ITC (Snapshot)'].fillna(0, inplace=True)\n",
    "        df_sub['Backlog NR'].fillna(0, inplace=True)\n",
    "        df_sub['Forecast Direct Labor Cost - ITC'].fillna(0, inplace=True)\n",
    "        df_sub['Forecast Net Revenue - ITC'].fillna(0, inplace=True)\n",
    "        df_sub['Baseline NR'].fillna(0, inplace=True)\n",
    "        \n",
    "        return df_sub"
   ]
  },
  {
   "cell_type": "code",
   "execution_count": 263,
   "id": "81ec71c0",
   "metadata": {},
   "outputs": [],
   "source": [
    "#df_master.to_csv('df_master.csv')\n",
    "df = real_removal(df)"
   ]
  },
  {
   "cell_type": "code",
   "execution_count": 264,
   "id": "c35f9738",
   "metadata": {},
   "outputs": [],
   "source": [
    "#df.tail(50)"
   ]
  },
  {
   "cell_type": "code",
   "execution_count": 265,
   "id": "0b211844",
   "metadata": {},
   "outputs": [],
   "source": [
    "#df_master.head()"
   ]
  },
  {
   "cell_type": "code",
   "execution_count": 266,
   "id": "3f4f0c8b",
   "metadata": {},
   "outputs": [
    {
     "data": {
      "text/plain": [
       "1269171"
      ]
     },
     "execution_count": 266,
     "metadata": {},
     "output_type": "execute_result"
    }
   ],
   "source": [
    "len(df)"
   ]
  },
  {
   "cell_type": "code",
   "execution_count": 17,
   "id": "47770d91",
   "metadata": {},
   "outputs": [],
   "source": [
    "#len(df_master)"
   ]
  },
  {
   "cell_type": "markdown",
   "id": "3fd39778",
   "metadata": {},
   "source": [
    "### Doublcheck the following variables with tjeerd\n",
    "\n",
    "- bookings_jtd\n",
    "- interest_current\n",
    "- interest_jtd\n",
    "- interest_ytd\n",
    "- multiplier_budget\n",
    "- multiplier_current\n",
    "- multiplier_target\n",
    "- overhead_current\n",
    "- overhead_rate\n",
    "- POC\n"
   ]
  },
  {
   "cell_type": "markdown",
   "id": "25e6a951",
   "metadata": {},
   "source": [
    "### Let's calcualte percentage of completion"
   ]
  },
  {
   "cell_type": "code",
   "execution_count": 267,
   "id": "58008f5f",
   "metadata": {},
   "outputs": [],
   "source": [
    "def create_completion(df):\n",
    "    df['ActualNR_sum'].ffill(inplace=True)\n",
    "    df['ActualNR_sum'] = df['ActualNR_sum'].astype('int')\n",
    "    df['Funding Amount - ITC (Snapshot)'] = df['Funding Amount - ITC (Snapshot)'].astype('int')\n",
    "    df['Completion'] = (df['ActualNR_sum']/df['Funding Amount - ITC (Snapshot)'])\n",
    "    df['Completion'].ffill(inplace=True)\n",
    "    return df"
   ]
  },
  {
   "cell_type": "code",
   "execution_count": 268,
   "id": "afc9b8dc",
   "metadata": {},
   "outputs": [],
   "source": [
    "df = create_completion(df)"
   ]
  },
  {
   "cell_type": "code",
   "execution_count": 269,
   "id": "76349480",
   "metadata": {},
   "outputs": [],
   "source": [
    "#df_master = create_completion(df_master)"
   ]
  },
  {
   "cell_type": "code",
   "execution_count": 270,
   "id": "2abb6335",
   "metadata": {},
   "outputs": [],
   "source": [
    "#df_master.head()"
   ]
  },
  {
   "cell_type": "code",
   "execution_count": 271,
   "id": "4381893f",
   "metadata": {},
   "outputs": [],
   "source": [
    "#df_master[df_master['Project Number'] == '30008040']['Funding Amount - ITC (Snapshot)']"
   ]
  },
  {
   "cell_type": "markdown",
   "id": "bddd6da1",
   "metadata": {},
   "source": [
    "### Include a logtransform column of Actual net revenue"
   ]
  },
  {
   "cell_type": "code",
   "execution_count": 272,
   "id": "c2b0505e",
   "metadata": {},
   "outputs": [],
   "source": [
    "import numpy as np"
   ]
  },
  {
   "cell_type": "code",
   "execution_count": 273,
   "id": "270b87bc",
   "metadata": {},
   "outputs": [],
   "source": [
    "#df['Actual Net Revenue - MTD'] = df['Actual Net Revenue - MTD'].fillna(0.0, inplace=True) #method='ffill'\n",
    "def create_logscale(df):\n",
    "    df['logtransform'] = np.log(df['Actual Net Revenue - MTD']+1)\n",
    "    return df"
   ]
  },
  {
   "cell_type": "code",
   "execution_count": 274,
   "id": "b5db776a",
   "metadata": {},
   "outputs": [
    {
     "name": "stderr",
     "output_type": "stream",
     "text": [
      "/Users/julia/opt/anaconda3/lib/python3.7/site-packages/pandas/core/arraylike.py:358: RuntimeWarning: divide by zero encountered in log\n",
      "  result = getattr(ufunc, method)(*inputs, **kwargs)\n",
      "/Users/julia/opt/anaconda3/lib/python3.7/site-packages/pandas/core/arraylike.py:358: RuntimeWarning: invalid value encountered in log\n",
      "  result = getattr(ufunc, method)(*inputs, **kwargs)\n"
     ]
    },
    {
     "data": {
      "text/plain": [
       "0    4.724907\n",
       "1    9.250277\n",
       "2    0.000000\n",
       "3    4.477564\n",
       "4    5.226929\n",
       "Name: logtransform, dtype: float64"
      ]
     },
     "execution_count": 274,
     "metadata": {},
     "output_type": "execute_result"
    }
   ],
   "source": [
    "df=create_logscale(df)\n",
    "df['logtransform'].fillna(0, inplace=True)\n",
    "df['logtransform'].head()"
   ]
  },
  {
   "cell_type": "code",
   "execution_count": 80,
   "id": "7c2fb4f5",
   "metadata": {},
   "outputs": [
    {
     "data": {
      "text/plain": [
       "Index(['Project Number_x', 'Project Name', 'Health and Safety Status',\n",
       "       'Project Status', 'SalesCloudClientNo', 'Contract Type Name',\n",
       "       'Ultimate Customer AUS Market Sector', 'Division Short Name',\n",
       "       'location_2', 'location_4', 'Region', 'City', 'Country', 'Country Name',\n",
       "       'Proj_CVP', 'Proj_Serv_Offering', 'CVP Description', '﻿CVP Code',\n",
       "       'primary_client_industry', 'Sales Cloud Opportunity Number',\n",
       "       'Actual Non-Labor Cost - MTD', 'bookings_jtd', 'interest_current',\n",
       "       'interest_jtd', 'interest_ytd', 'multiplier_budget',\n",
       "       'multiplier_current', 'multiplier_target', 'overhead_current',\n",
       "       'overhead_rate', 'revenue_type', 'AUS Mkt Sector Aggregate',\n",
       "       'Break Even Multiplier - Project', 'Risk Profile', 'riskrating_project',\n",
       "       'Total Aging', 'Cleaned_Name', 'Project Start Date',\n",
       "       'Project Manager Employee Number (Current)', 'Scheduled End Date'],\n",
       "      dtype='object')"
      ]
     },
     "execution_count": 80,
     "metadata": {},
     "output_type": "execute_result"
    }
   ],
   "source": [
    "df.columns[df.isnull().any()]"
   ]
  },
  {
   "cell_type": "markdown",
   "id": "059a2835",
   "metadata": {},
   "source": [
    "### Include column for scheduled duration"
   ]
  },
  {
   "cell_type": "code",
   "execution_count": 275,
   "id": "6ff0fe76",
   "metadata": {},
   "outputs": [
    {
     "name": "stderr",
     "output_type": "stream",
     "text": [
      "/Users/julia/opt/anaconda3/lib/python3.7/site-packages/ipykernel_launcher.py:3: FutureWarning: The pandas.datetime class is deprecated and will be removed from pandas in a future version. Import from datetime module instead.\n",
      "  This is separate from the ipykernel package so we can avoid doing imports until\n"
     ]
    }
   ],
   "source": [
    "import re\n",
    "from datetime import datetime\n",
    "from pandas import datetime"
   ]
  },
  {
   "cell_type": "code",
   "execution_count": 276,
   "id": "38395c5d",
   "metadata": {},
   "outputs": [],
   "source": [
    "## The Project start date was not recorded correctly, so we had to do some transformations here before we can transform it into a proper datetime\n",
    "def create_datetime(df):\n",
    "    df['Project Start Date'] = df['Project Start Date'].astype(str)\n",
    "\n",
    "    df['Project Start Date'] = df['Project Start Date'].apply(lambda x: str(x)[:10])\n",
    "\n",
    "    df['Project Start Date'] = df['Project Start Date'].apply(lambda x: re.sub(r'19-','2019-', str(x)))\n",
    "    \n",
    "    df['Project Start Date'] = df['Project Start Date'].str.findall(r'\\d{4}[-/]\\d{2}[-/]\\d{2}')\n",
    "    \n",
    "    df['Project Start Date'] = df['Project Start Date'].apply(lambda x: ','.join(map(str, x)))\n",
    "    \n",
    "    df['Project Start Date'] = pd.to_datetime(df['Project Start Date'], format='%Y-%m-%d')\n",
    "    \n",
    "    return df"
   ]
  },
  {
   "cell_type": "code",
   "execution_count": 277,
   "id": "42467557",
   "metadata": {},
   "outputs": [
    {
     "data": {
      "text/plain": [
       "0          000221760018\n",
       "1          000221760018\n",
       "2          000221760018\n",
       "3          000221760018\n",
       "4          000221760018\n",
       "               ...     \n",
       "1269166    zz000zzznt20\n",
       "1269167    zz000zzznt20\n",
       "1269168    zz000zzznt20\n",
       "1269169    zz000zzznt20\n",
       "1269170    zz000zzznt20\n",
       "Name: Project Number_x, Length: 1269171, dtype: object"
      ]
     },
     "execution_count": 277,
     "metadata": {},
     "output_type": "execute_result"
    }
   ],
   "source": [
    "df.pop('Project Number_x')"
   ]
  },
  {
   "cell_type": "code",
   "execution_count": 278,
   "id": "af9f1c14",
   "metadata": {},
   "outputs": [],
   "source": [
    "df = create_datetime(df)"
   ]
  },
  {
   "cell_type": "code",
   "execution_count": 279,
   "id": "2d0172f0",
   "metadata": {},
   "outputs": [],
   "source": [
    "#df[df['Project Number'] == '30011431']"
   ]
  },
  {
   "cell_type": "code",
   "execution_count": 280,
   "id": "c4ea893c",
   "metadata": {},
   "outputs": [],
   "source": [
    "#Then we also transfrom the scheduled end date into a proper \n",
    "df['Scheduled End Date'] = pd.to_datetime(df['Scheduled End Date'], format='%Y-%m-%d') "
   ]
  },
  {
   "cell_type": "markdown",
   "id": "9dd9057a",
   "metadata": {},
   "source": [
    "### now let's create a column that calculates the scheduled duration"
   ]
  },
  {
   "cell_type": "code",
   "execution_count": 281,
   "id": "4b7f89a2",
   "metadata": {},
   "outputs": [],
   "source": [
    "df['scheduled_duration'] = df['Scheduled End Date']-df['Project Start Date']"
   ]
  },
  {
   "cell_type": "code",
   "execution_count": 282,
   "id": "9fc97a38",
   "metadata": {},
   "outputs": [],
   "source": [
    "df['Scheduled_projectduration'] = (df['Scheduled End Date']-df['Project Start Date']) / np.timedelta64(1, 'M')"
   ]
  },
  {
   "cell_type": "code",
   "execution_count": 283,
   "id": "62f501a4",
   "metadata": {},
   "outputs": [
    {
     "data": {
      "text/plain": [
       "0         NaN\n",
       "1         NaN\n",
       "2         NaN\n",
       "3         NaN\n",
       "4         NaN\n",
       "           ..\n",
       "1269166   NaN\n",
       "1269167   NaN\n",
       "1269168   NaN\n",
       "1269169   NaN\n",
       "1269170   NaN\n",
       "Name: Scheduled_projectduration, Length: 1269171, dtype: float64"
      ]
     },
     "execution_count": 283,
     "metadata": {},
     "output_type": "execute_result"
    }
   ],
   "source": [
    "df['Scheduled_projectduration']"
   ]
  },
  {
   "cell_type": "markdown",
   "id": "25df0977",
   "metadata": {},
   "source": [
    "### Let's create a binary column that says whether the scheduled duration equals the actual duration"
   ]
  },
  {
   "cell_type": "code",
   "execution_count": 284,
   "id": "5ca9e0e2",
   "metadata": {},
   "outputs": [
    {
     "data": {
      "text/plain": [
       "0          20.0\n",
       "1          20.0\n",
       "2          20.0\n",
       "3          20.0\n",
       "4          20.0\n",
       "           ... \n",
       "1269166     6.0\n",
       "1269167     6.0\n",
       "1269168     6.0\n",
       "1269169     6.0\n",
       "1269170     6.0\n",
       "Name: Projectduration, Length: 1269171, dtype: float64"
      ]
     },
     "execution_count": 284,
     "metadata": {},
     "output_type": "execute_result"
    }
   ],
   "source": [
    "df.Projectduration.astype(float)"
   ]
  },
  {
   "cell_type": "code",
   "execution_count": 111,
   "id": "f276304b",
   "metadata": {},
   "outputs": [
    {
     "data": {
      "text/plain": [
       "Index(['index', 'Project Name', 'Health and Safety Status', 'Project Status',\n",
       "       'SalesCloudClientNo', 'Contract Type Name',\n",
       "       'Ultimate Customer AUS Market Sector', 'Division Short Name',\n",
       "       'location_2', 'location_4', 'Region', 'City', 'Country', 'Country Name',\n",
       "       'Proj_CVP', 'Proj_Serv_Offering', 'CVP Description', '﻿CVP Code',\n",
       "       'primary_client_industry', 'Sales Cloud Opportunity Number',\n",
       "       'Funding Amount - ITC (Snapshot)', 'Backlog NR',\n",
       "       'Actual Direct Labor Cost - MTD', 'Actual Non-Labor Cost - MTD',\n",
       "       'Actual Gross Revenue - MTD', 'Actual Net Revenue - MTD', 'EBITA - MTD',\n",
       "       'Forecast Direct Labor Cost - ITC', 'Forecast Net Revenue - ITC',\n",
       "       'Order Intake (NR) - MTD', 'bookings_jtd', 'interest_current',\n",
       "       'interest_jtd', 'interest_ytd', 'multiplier_budget',\n",
       "       'multiplier_current', 'multiplier_target', 'overhead_current',\n",
       "       'overhead_rate', 'revenue_type', 'AUS Mkt Sector Aggregate',\n",
       "       'Baseline NR', 'Break Even Multiplier - Project', 'Organization Size',\n",
       "       'Risk Profile', 'riskrating_project', 'Total Aging', 'Cleaned_Name',\n",
       "       'ActualNR_sum', 'Projectduration', 'Project Start Date',\n",
       "       'Project Manager Employee Number (Current)', 'Scheduled End Date',\n",
       "       'Date', 'Project Number', 'Completion', 'logtransform',\n",
       "       'scheduled_duration', 'Scheduled_projectduration', 'round'],\n",
       "      dtype='object')"
      ]
     },
     "execution_count": 111,
     "metadata": {},
     "output_type": "execute_result"
    }
   ],
   "source": [
    "df.columns"
   ]
  },
  {
   "cell_type": "code",
   "execution_count": 285,
   "id": "22333d18",
   "metadata": {},
   "outputs": [],
   "source": [
    "import math"
   ]
  },
  {
   "cell_type": "code",
   "execution_count": 286,
   "id": "1da062de",
   "metadata": {},
   "outputs": [],
   "source": [
    "df['Scheduled_projectduration'].fillna(0, inplace=True)\n",
    "df['intime'] = 0\n",
    "df['round']=df['Scheduled_projectduration'].apply(lambda x: math.ceil(x))"
   ]
  },
  {
   "cell_type": "code",
   "execution_count": 292,
   "id": "c7e5f122",
   "metadata": {},
   "outputs": [
    {
     "data": {
      "text/plain": [
       "0          0\n",
       "1          0\n",
       "2          0\n",
       "3          0\n",
       "4          0\n",
       "          ..\n",
       "1269166    0\n",
       "1269167    0\n",
       "1269168    0\n",
       "1269169    0\n",
       "1269170    0\n",
       "Name: round, Length: 1269171, dtype: int64"
      ]
     },
     "execution_count": 292,
     "metadata": {},
     "output_type": "execute_result"
    }
   ],
   "source": [
    "df['round']"
   ]
  },
  {
   "cell_type": "code",
   "execution_count": 306,
   "id": "2132fabf",
   "metadata": {},
   "outputs": [],
   "source": [
    "for i,row in df.iterrows():\n",
    "    if row['round'] == row['Projectduration']:\n",
    "        df.at[i,'intime'] += 1        "
   ]
  },
  {
   "cell_type": "code",
   "execution_count": 307,
   "id": "f6c2541a",
   "metadata": {},
   "outputs": [
    {
     "data": {
      "text/plain": [
       "0    1242075\n",
       "1      27096\n",
       "Name: intime, dtype: int64"
      ]
     },
     "execution_count": 307,
     "metadata": {},
     "output_type": "execute_result"
    }
   ],
   "source": [
    "df['intime'].value_counts()"
   ]
  },
  {
   "cell_type": "code",
   "execution_count": 290,
   "id": "dd020749",
   "metadata": {},
   "outputs": [
    {
     "data": {
      "text/plain": [
       "1269171"
      ]
     },
     "execution_count": 290,
     "metadata": {},
     "output_type": "execute_result"
    }
   ],
   "source": [
    "len(df) , df[df['intime'] == 0].count()"
   ]
  },
  {
   "cell_type": "code",
   "execution_count": 129,
   "id": "6b964249",
   "metadata": {},
   "outputs": [
    {
     "data": {
      "text/plain": [
       "0          0\n",
       "1          0\n",
       "2          0\n",
       "3          0\n",
       "4          0\n",
       "          ..\n",
       "1269166    0\n",
       "1269167    0\n",
       "1269168    0\n",
       "1269169    0\n",
       "1269170    0\n",
       "Name: intime, Length: 1269171, dtype: int64"
      ]
     },
     "execution_count": 129,
     "metadata": {},
     "output_type": "execute_result"
    }
   ],
   "source": [
    "df.pop('round')\n",
    "df.pop('intime')"
   ]
  },
  {
   "cell_type": "markdown",
   "id": "df5ce3af",
   "metadata": {},
   "source": [
    "### Let's create a seasonality column"
   ]
  },
  {
   "cell_type": "code",
   "execution_count": 151,
   "id": "acf30b5f",
   "metadata": {},
   "outputs": [
    {
     "data": {
      "text/plain": [
       "0          201711\n",
       "1          201712\n",
       "2          201801\n",
       "3          201802\n",
       "4          201803\n",
       "            ...  \n",
       "1269166    201902\n",
       "1269167    201903\n",
       "1269168    201904\n",
       "1269169    201905\n",
       "1269170    201906\n",
       "Name: Date, Length: 1269171, dtype: object"
      ]
     },
     "execution_count": 151,
     "metadata": {},
     "output_type": "execute_result"
    }
   ],
   "source": [
    "df.Date.astype('str') "
   ]
  },
  {
   "cell_type": "code",
   "execution_count": 301,
   "id": "924de909",
   "metadata": {},
   "outputs": [],
   "source": [
    "df['month'] = df['Date'].apply(lambda x: str(x)[-2:])"
   ]
  },
  {
   "cell_type": "code",
   "execution_count": 302,
   "id": "1973e94d",
   "metadata": {},
   "outputs": [],
   "source": [
    "df['month']=df['month'].astype('int') "
   ]
  },
  {
   "cell_type": "code",
   "execution_count": 303,
   "id": "dc1c7b01",
   "metadata": {},
   "outputs": [],
   "source": [
    "df['seasonality_month'] = 0"
   ]
  },
  {
   "cell_type": "code",
   "execution_count": 304,
   "id": "d1bbdc3a",
   "metadata": {},
   "outputs": [
    {
     "name": "stderr",
     "output_type": "stream",
     "text": [
      "/Users/julia/opt/anaconda3/lib/python3.7/site-packages/pandas/core/indexing.py:1637: SettingWithCopyWarning: \n",
      "A value is trying to be set on a copy of a slice from a DataFrame\n",
      "\n",
      "See the caveats in the documentation: https://pandas.pydata.org/pandas-docs/stable/user_guide/indexing.html#returning-a-view-versus-a-copy\n",
      "  self._setitem_single_block(indexer, value, name)\n"
     ]
    }
   ],
   "source": [
    "for index in range(len(df)):\n",
    "    if df['month'].iloc[index] > 0 and df['month'].iloc[index] < 4:\n",
    "        df['seasonality_month'].iloc[index] += 1\n",
    "    if df['month'].iloc[index] > 3 and  df['month'].iloc[index] < 7:  \n",
    "        df['seasonality_month'].iloc[index] += 2\n",
    "    if df['month'].iloc[index] > 6 and df['month'].iloc[index] < 9 :  \n",
    "        df['seasonality_month'].iloc[index] += 3  \n",
    "    if df['month'].iloc[index] > 8:\n",
    "        df['seasonality_month'].iloc[index] += 4             "
   ]
  },
  {
   "cell_type": "code",
   "execution_count": 305,
   "id": "e543a903",
   "metadata": {},
   "outputs": [
    {
     "data": {
      "text/plain": [
       "1    415358\n",
       "4    394021\n",
       "2    284301\n",
       "3    175491\n",
       "Name: seasonality_month, dtype: int64"
      ]
     },
     "execution_count": 305,
     "metadata": {},
     "output_type": "execute_result"
    }
   ],
   "source": [
    "df['seasonality_month'].value_counts()"
   ]
  },
  {
   "cell_type": "code",
   "execution_count": 308,
   "id": "28aff06a",
   "metadata": {},
   "outputs": [],
   "source": [
    "df.to_csv('mv_port_processed.csv')"
   ]
  },
  {
   "cell_type": "code",
   "execution_count": null,
   "id": "ec7c1e08",
   "metadata": {},
   "outputs": [],
   "source": [
    "Health and Safety Status                   840690 non-null   object"
   ]
  },
  {
   "cell_type": "code",
   "execution_count": 128,
   "id": "65c0a840",
   "metadata": {},
   "outputs": [
    {
     "name": "stdout",
     "output_type": "stream",
     "text": [
      "<class 'pandas.core.frame.DataFrame'>\n",
      "RangeIndex: 1269171 entries, 0 to 1269170\n",
      "Data columns (total 61 columns):\n",
      " #   Column                                     Non-Null Count    Dtype          \n",
      "---  ------                                     --------------    -----          \n",
      " 0   index                                      1269171 non-null  int64          \n",
      " 1   Project Name                               1100696 non-null  object         \n",
      " 2   Health and Safety Status                   840690 non-null   object         \n",
      " 3   Project Status                             1100712 non-null  object         \n",
      " 4   SalesCloudClientNo                         939617 non-null   float64        \n",
      " 5   Contract Type Name                         1100712 non-null  object         \n",
      " 6   Ultimate Customer AUS Market Sector        950138 non-null   object         \n",
      " 7   Division Short Name                        1100790 non-null  object         \n",
      " 8   location_2                                 941271 non-null   object         \n",
      " 9   location_4                                 941271 non-null   object         \n",
      " 10  Region                                     999275 non-null   object         \n",
      " 11  City                                       1004036 non-null  object         \n",
      " 12  Country                                    1100790 non-null  object         \n",
      " 13  Country Name                               1016610 non-null  object         \n",
      " 14  Proj_CVP                                   714165 non-null   object         \n",
      " 15  Proj_Serv_Offering                         757068 non-null   object         \n",
      " 16  CVP Description                            1100790 non-null  object         \n",
      " 17  ﻿CVP Code                                  217726 non-null   object         \n",
      " 18  primary_client_industry                    1100790 non-null  object         \n",
      " 19  Sales Cloud Opportunity Number             840595 non-null   object         \n",
      " 20  Funding Amount - ITC (Snapshot)            1269171 non-null  int64          \n",
      " 21  Backlog NR                                 1269171 non-null  float64        \n",
      " 22  Actual Direct Labor Cost - MTD             1269171 non-null  float64        \n",
      " 23  Actual Non-Labor Cost - MTD                623185 non-null   float64        \n",
      " 24  Actual Gross Revenue - MTD                 1269171 non-null  float64        \n",
      " 25  Actual Net Revenue - MTD                   1269171 non-null  float64        \n",
      " 26  EBITA - MTD                                1269171 non-null  float64        \n",
      " 27  Forecast Direct Labor Cost - ITC           1269171 non-null  float64        \n",
      " 28  Forecast Net Revenue - ITC                 1269171 non-null  float64        \n",
      " 29  Order Intake (NR) - MTD                    1269171 non-null  float64        \n",
      " 30  bookings_jtd                               445287 non-null   float64        \n",
      " 31  interest_current                           445287 non-null   float64        \n",
      " 32  interest_jtd                               445287 non-null   float64        \n",
      " 33  interest_ytd                               445287 non-null   float64        \n",
      " 34  multiplier_budget                          445287 non-null   float64        \n",
      " 35  multiplier_current                         445287 non-null   float64        \n",
      " 36  multiplier_target                          445287 non-null   float64        \n",
      " 37  overhead_current                           445287 non-null   float64        \n",
      " 38  overhead_rate                              445287 non-null   float64        \n",
      " 39  revenue_type                               806600 non-null   object         \n",
      " 40  AUS Mkt Sector Aggregate                   950116 non-null   object         \n",
      " 41  Baseline NR                                1269171 non-null  float64        \n",
      " 42  Break Even Multiplier - Project            1002647 non-null  float64        \n",
      " 43  Organization Size                          1269171 non-null  object         \n",
      " 44  Risk Profile                               1100790 non-null  object         \n",
      " 45  riskrating_project                         516743 non-null   float64        \n",
      " 46  Total Aging                                0 non-null        float64        \n",
      " 47  Cleaned_Name                               1100734 non-null  object         \n",
      " 48  ActualNR_sum                               1269171 non-null  int64          \n",
      " 49  Projectduration                            1269171 non-null  int64          \n",
      " 50  Project Start Date                         1009058 non-null  datetime64[ns] \n",
      " 51  Project Manager Employee Number (Current)  1008983 non-null  float64        \n",
      " 52  Scheduled End Date                         1008736 non-null  datetime64[ns] \n",
      " 53  Date                                       1269171 non-null  int64          \n",
      " 54  Project Number                             1269171 non-null  object         \n",
      " 55  Completion                                 1269171 non-null  float64        \n",
      " 56  logtransform                               1269171 non-null  float64        \n",
      " 57  scheduled_duration                         1008670 non-null  timedelta64[ns]\n",
      " 58  Scheduled_projectduration                  1008670 non-null  float64        \n",
      " 59  round                                      1008670 non-null  float64        \n",
      " 60  intime                                     1269171 non-null  int64          \n",
      "dtypes: datetime64[ns](2), float64(28), int64(6), object(24), timedelta64[ns](1)\n",
      "memory usage: 590.7+ MB\n"
     ]
    }
   ],
   "source": [
    "df.info()\n",
    "24  Actual Gross Revenue - MTD                 1269171 non-null  float64        \n",
    " 25  Actual Net Revenue - MTD                   1269171 non-null  float64        \n",
    " 26  EBITA - MTD                                1269171 non-null  float64        \n",
    " 27  Forecast Direct Labor Cost - ITC           1269171 non-null  float64        \n",
    " 28  Forecast Net Revenue - ITC                 1269171 non-null  float64        \n",
    " 29  Order Intake (NR) - MTD                    1269171 non-null  float64\n",
    "  20  Funding Amount - ITC (Snapshot)            1269171 non-null  int64          \n",
    " 21  Backlog NR                                 1269171 non-null  float64        \n",
    " 22  Actual Direct Labor Cost - MTD             1269171 non-null  float64 \n",
    "41  Baseline NR                                1269171 non-null  float64 \n",
    "\n",
    "Organization Size                          1269171 non-null  object\n",
    "48  ActualNR_sum                               1269171 non-null  int64          \n",
    " 49  Projectduration                            1269171 non-null  int64 "
   ]
  },
  {
   "cell_type": "code",
   "execution_count": 123,
   "id": "1bb30713",
   "metadata": {},
   "outputs": [
    {
     "data": {
      "text/html": [
       "<div>\n",
       "<style scoped>\n",
       "    .dataframe tbody tr th:only-of-type {\n",
       "        vertical-align: middle;\n",
       "    }\n",
       "\n",
       "    .dataframe tbody tr th {\n",
       "        vertical-align: top;\n",
       "    }\n",
       "\n",
       "    .dataframe thead th {\n",
       "        text-align: right;\n",
       "    }\n",
       "</style>\n",
       "<table border=\"1\" class=\"dataframe\">\n",
       "  <thead>\n",
       "    <tr style=\"text-align: right;\">\n",
       "      <th></th>\n",
       "      <th>index</th>\n",
       "      <th>Project Name</th>\n",
       "      <th>Health and Safety Status</th>\n",
       "      <th>Project Status</th>\n",
       "      <th>SalesCloudClientNo</th>\n",
       "      <th>Contract Type Name</th>\n",
       "      <th>Ultimate Customer AUS Market Sector</th>\n",
       "      <th>Division Short Name</th>\n",
       "      <th>location_2</th>\n",
       "      <th>location_4</th>\n",
       "      <th>...</th>\n",
       "      <th>Project Manager Employee Number (Current)</th>\n",
       "      <th>Scheduled End Date</th>\n",
       "      <th>Date</th>\n",
       "      <th>Project Number</th>\n",
       "      <th>Completion</th>\n",
       "      <th>logtransform</th>\n",
       "      <th>scheduled_duration</th>\n",
       "      <th>Scheduled_projectduration</th>\n",
       "      <th>round</th>\n",
       "      <th>intime</th>\n",
       "    </tr>\n",
       "  </thead>\n",
       "  <tbody>\n",
       "    <tr>\n",
       "      <th>0</th>\n",
       "      <td>85635</td>\n",
       "      <td>Univar Richmond Ph 2 Environ</td>\n",
       "      <td>NaN</td>\n",
       "      <td>Open/Active</td>\n",
       "      <td>10239939.0</td>\n",
       "      <td>Time and Material with cap</td>\n",
       "      <td>NaN</td>\n",
       "      <td>Environment</td>\n",
       "      <td>RE</td>\n",
       "      <td>NT</td>\n",
       "      <td>...</td>\n",
       "      <td>NaN</td>\n",
       "      <td>NaT</td>\n",
       "      <td>201711</td>\n",
       "      <td>000221760018</td>\n",
       "      <td>0.001625</td>\n",
       "      <td>4.724907</td>\n",
       "      <td>NaT</td>\n",
       "      <td>NaN</td>\n",
       "      <td>NaN</td>\n",
       "      <td>0</td>\n",
       "    </tr>\n",
       "    <tr>\n",
       "      <th>1</th>\n",
       "      <td>91617</td>\n",
       "      <td>Univar Richmond Ph 2 Environ</td>\n",
       "      <td>NaN</td>\n",
       "      <td>Open/Active</td>\n",
       "      <td>10239939.0</td>\n",
       "      <td>Time and Material with cap</td>\n",
       "      <td>NaN</td>\n",
       "      <td>Environment</td>\n",
       "      <td>RE</td>\n",
       "      <td>NT</td>\n",
       "      <td>...</td>\n",
       "      <td>NaN</td>\n",
       "      <td>NaT</td>\n",
       "      <td>201712</td>\n",
       "      <td>000221760018</td>\n",
       "      <td>0.153968</td>\n",
       "      <td>9.250277</td>\n",
       "      <td>NaT</td>\n",
       "      <td>NaN</td>\n",
       "      <td>NaN</td>\n",
       "      <td>0</td>\n",
       "    </tr>\n",
       "    <tr>\n",
       "      <th>2</th>\n",
       "      <td>98265</td>\n",
       "      <td>Univar Richmond Ph 2 Environ</td>\n",
       "      <td>NaN</td>\n",
       "      <td>Open/Active</td>\n",
       "      <td>10239939.0</td>\n",
       "      <td>Time and Material with cap</td>\n",
       "      <td>NaN</td>\n",
       "      <td>Environment</td>\n",
       "      <td>RE</td>\n",
       "      <td>NT</td>\n",
       "      <td>...</td>\n",
       "      <td>NaN</td>\n",
       "      <td>NaT</td>\n",
       "      <td>201801</td>\n",
       "      <td>000221760018</td>\n",
       "      <td>0.123973</td>\n",
       "      <td>0.000000</td>\n",
       "      <td>NaT</td>\n",
       "      <td>NaN</td>\n",
       "      <td>NaN</td>\n",
       "      <td>0</td>\n",
       "    </tr>\n",
       "    <tr>\n",
       "      <th>3</th>\n",
       "      <td>105303</td>\n",
       "      <td>Univar Richmond Ph 2 Environ</td>\n",
       "      <td>NaN</td>\n",
       "      <td>Open/Active</td>\n",
       "      <td>10239939.0</td>\n",
       "      <td>Time and Material with cap</td>\n",
       "      <td>NaN</td>\n",
       "      <td>Environment</td>\n",
       "      <td>RE</td>\n",
       "      <td>NT</td>\n",
       "      <td>...</td>\n",
       "      <td>NaN</td>\n",
       "      <td>NaT</td>\n",
       "      <td>201802</td>\n",
       "      <td>000221760018</td>\n",
       "      <td>0.125247</td>\n",
       "      <td>4.477564</td>\n",
       "      <td>NaT</td>\n",
       "      <td>NaN</td>\n",
       "      <td>NaN</td>\n",
       "      <td>0</td>\n",
       "    </tr>\n",
       "    <tr>\n",
       "      <th>4</th>\n",
       "      <td>115222</td>\n",
       "      <td>Univar Richmond Ph 2 Environ</td>\n",
       "      <td>NaN</td>\n",
       "      <td>Open/Active</td>\n",
       "      <td>10239939.0</td>\n",
       "      <td>Time and Material with cap</td>\n",
       "      <td>NaN</td>\n",
       "      <td>Environment</td>\n",
       "      <td>RE</td>\n",
       "      <td>NT</td>\n",
       "      <td>...</td>\n",
       "      <td>NaN</td>\n",
       "      <td>NaT</td>\n",
       "      <td>201803</td>\n",
       "      <td>000221760018</td>\n",
       "      <td>0.127955</td>\n",
       "      <td>5.226929</td>\n",
       "      <td>NaT</td>\n",
       "      <td>NaN</td>\n",
       "      <td>NaN</td>\n",
       "      <td>0</td>\n",
       "    </tr>\n",
       "  </tbody>\n",
       "</table>\n",
       "<p>5 rows × 61 columns</p>\n",
       "</div>"
      ],
      "text/plain": [
       "    index                  Project Name Health and Safety Status  \\\n",
       "0   85635  Univar Richmond Ph 2 Environ                      NaN   \n",
       "1   91617  Univar Richmond Ph 2 Environ                      NaN   \n",
       "2   98265  Univar Richmond Ph 2 Environ                      NaN   \n",
       "3  105303  Univar Richmond Ph 2 Environ                      NaN   \n",
       "4  115222  Univar Richmond Ph 2 Environ                      NaN   \n",
       "\n",
       "  Project Status  SalesCloudClientNo          Contract Type Name  \\\n",
       "0    Open/Active          10239939.0  Time and Material with cap   \n",
       "1    Open/Active          10239939.0  Time and Material with cap   \n",
       "2    Open/Active          10239939.0  Time and Material with cap   \n",
       "3    Open/Active          10239939.0  Time and Material with cap   \n",
       "4    Open/Active          10239939.0  Time and Material with cap   \n",
       "\n",
       "  Ultimate Customer AUS Market Sector Division Short Name location_2  \\\n",
       "0                                 NaN         Environment         RE   \n",
       "1                                 NaN         Environment         RE   \n",
       "2                                 NaN         Environment         RE   \n",
       "3                                 NaN         Environment         RE   \n",
       "4                                 NaN         Environment         RE   \n",
       "\n",
       "  location_4  ... Project Manager Employee Number (Current)  \\\n",
       "0         NT  ...                                       NaN   \n",
       "1         NT  ...                                       NaN   \n",
       "2         NT  ...                                       NaN   \n",
       "3         NT  ...                                       NaN   \n",
       "4         NT  ...                                       NaN   \n",
       "\n",
       "  Scheduled End Date    Date Project Number Completion logtransform  \\\n",
       "0                NaT  201711   000221760018   0.001625     4.724907   \n",
       "1                NaT  201712   000221760018   0.153968     9.250277   \n",
       "2                NaT  201801   000221760018   0.123973     0.000000   \n",
       "3                NaT  201802   000221760018   0.125247     4.477564   \n",
       "4                NaT  201803   000221760018   0.127955     5.226929   \n",
       "\n",
       "  scheduled_duration Scheduled_projectduration round intime  \n",
       "0                NaT                       NaN   NaN      0  \n",
       "1                NaT                       NaN   NaN      0  \n",
       "2                NaT                       NaN   NaN      0  \n",
       "3                NaT                       NaN   NaN      0  \n",
       "4                NaT                       NaN   NaN      0  \n",
       "\n",
       "[5 rows x 61 columns]"
      ]
     },
     "execution_count": 123,
     "metadata": {},
     "output_type": "execute_result"
    }
   ],
   "source": []
  },
  {
   "cell_type": "code",
   "execution_count": 137,
   "id": "583b293d",
   "metadata": {},
   "outputs": [
    {
     "data": {
      "text/plain": [
       "'30043672'"
      ]
     },
     "execution_count": 137,
     "metadata": {},
     "output_type": "execute_result"
    }
   ],
   "source": [
    "random_project(df)"
   ]
  },
  {
   "cell_type": "code",
   "execution_count": 140,
   "id": "b33e2d4a",
   "metadata": {},
   "outputs": [
    {
     "data": {
      "text/html": [
       "<div>\n",
       "<style scoped>\n",
       "    .dataframe tbody tr th:only-of-type {\n",
       "        vertical-align: middle;\n",
       "    }\n",
       "\n",
       "    .dataframe tbody tr th {\n",
       "        vertical-align: top;\n",
       "    }\n",
       "\n",
       "    .dataframe thead th {\n",
       "        text-align: right;\n",
       "    }\n",
       "</style>\n",
       "<table border=\"1\" class=\"dataframe\">\n",
       "  <thead>\n",
       "    <tr style=\"text-align: right;\">\n",
       "      <th></th>\n",
       "      <th>AUS Mkt Sector Aggregate</th>\n",
       "      <th>Baseline NR</th>\n",
       "      <th>Break Even Multiplier - Project</th>\n",
       "      <th>Organization Size</th>\n",
       "      <th>Risk Profile</th>\n",
       "      <th>riskrating_project</th>\n",
       "      <th>Total Aging</th>\n",
       "      <th>Cleaned_Name</th>\n",
       "      <th>ActualNR_sum</th>\n",
       "      <th>Projectduration</th>\n",
       "      <th>Project Start Date</th>\n",
       "      <th>Project Manager Employee Number (Current)</th>\n",
       "      <th>Scheduled End Date</th>\n",
       "      <th>Date</th>\n",
       "      <th>Project Number</th>\n",
       "    </tr>\n",
       "  </thead>\n",
       "  <tbody>\n",
       "    <tr>\n",
       "      <th>860882</th>\n",
       "      <td>Other</td>\n",
       "      <td>0.00</td>\n",
       "      <td>2.26</td>\n",
       "      <td>Unspecified</td>\n",
       "      <td>Low</td>\n",
       "      <td>NaN</td>\n",
       "      <td>NaN</td>\n",
       "      <td>DEM__ARW_CA_Novato_</td>\n",
       "      <td>0</td>\n",
       "      <td>15</td>\n",
       "      <td>2020-01-01</td>\n",
       "      <td>23954.0</td>\n",
       "      <td>2021-03-31</td>\n",
       "      <td>202001</td>\n",
       "      <td>30043672</td>\n",
       "    </tr>\n",
       "    <tr>\n",
       "      <th>860883</th>\n",
       "      <td>Other</td>\n",
       "      <td>125917.24</td>\n",
       "      <td>2.26</td>\n",
       "      <td>Unspecified</td>\n",
       "      <td>Low</td>\n",
       "      <td>NaN</td>\n",
       "      <td>NaN</td>\n",
       "      <td>DEM__ARW_CA_Novato_</td>\n",
       "      <td>21305</td>\n",
       "      <td>15</td>\n",
       "      <td>2020-01-01</td>\n",
       "      <td>23954.0</td>\n",
       "      <td>2021-03-31</td>\n",
       "      <td>202002</td>\n",
       "      <td>30043672</td>\n",
       "    </tr>\n",
       "    <tr>\n",
       "      <th>860884</th>\n",
       "      <td>Other</td>\n",
       "      <td>125917.24</td>\n",
       "      <td>2.26</td>\n",
       "      <td>Unspecified</td>\n",
       "      <td>Low</td>\n",
       "      <td>NaN</td>\n",
       "      <td>NaN</td>\n",
       "      <td>DEM__ARW_CA_Novato_</td>\n",
       "      <td>37822</td>\n",
       "      <td>15</td>\n",
       "      <td>2020-01-01</td>\n",
       "      <td>23954.0</td>\n",
       "      <td>2021-03-31</td>\n",
       "      <td>202003</td>\n",
       "      <td>30043672</td>\n",
       "    </tr>\n",
       "    <tr>\n",
       "      <th>860885</th>\n",
       "      <td>Other</td>\n",
       "      <td>170286.57</td>\n",
       "      <td>2.26</td>\n",
       "      <td>Unspecified</td>\n",
       "      <td>Low</td>\n",
       "      <td>NaN</td>\n",
       "      <td>NaN</td>\n",
       "      <td>DEM__ARW_CA_Novato_</td>\n",
       "      <td>70393</td>\n",
       "      <td>15</td>\n",
       "      <td>2020-01-01</td>\n",
       "      <td>23954.0</td>\n",
       "      <td>2021-03-31</td>\n",
       "      <td>202004</td>\n",
       "      <td>30043672</td>\n",
       "    </tr>\n",
       "    <tr>\n",
       "      <th>860886</th>\n",
       "      <td>Other</td>\n",
       "      <td>120487.29</td>\n",
       "      <td>2.26</td>\n",
       "      <td>Unspecified</td>\n",
       "      <td>Low</td>\n",
       "      <td>NaN</td>\n",
       "      <td>NaN</td>\n",
       "      <td>DEM__ARW_CA_Novato_</td>\n",
       "      <td>94325</td>\n",
       "      <td>15</td>\n",
       "      <td>2020-01-01</td>\n",
       "      <td>23954.0</td>\n",
       "      <td>2021-03-31</td>\n",
       "      <td>202005</td>\n",
       "      <td>30043672</td>\n",
       "    </tr>\n",
       "    <tr>\n",
       "      <th>860887</th>\n",
       "      <td>Other</td>\n",
       "      <td>111096.14</td>\n",
       "      <td>2.26</td>\n",
       "      <td>Unspecified</td>\n",
       "      <td>Low</td>\n",
       "      <td>NaN</td>\n",
       "      <td>NaN</td>\n",
       "      <td>DEM__ARW_CA_Novato_</td>\n",
       "      <td>107892</td>\n",
       "      <td>15</td>\n",
       "      <td>2020-01-01</td>\n",
       "      <td>23954.0</td>\n",
       "      <td>2021-03-31</td>\n",
       "      <td>202006</td>\n",
       "      <td>30043672</td>\n",
       "    </tr>\n",
       "    <tr>\n",
       "      <th>860888</th>\n",
       "      <td>Other</td>\n",
       "      <td>134047.00</td>\n",
       "      <td>2.26</td>\n",
       "      <td>Unspecified</td>\n",
       "      <td>Low</td>\n",
       "      <td>NaN</td>\n",
       "      <td>NaN</td>\n",
       "      <td>DEM__ARW_CA_Novato_</td>\n",
       "      <td>134047</td>\n",
       "      <td>15</td>\n",
       "      <td>2020-01-01</td>\n",
       "      <td>23954.0</td>\n",
       "      <td>2021-03-31</td>\n",
       "      <td>202007</td>\n",
       "      <td>30043672</td>\n",
       "    </tr>\n",
       "    <tr>\n",
       "      <th>860889</th>\n",
       "      <td>Other</td>\n",
       "      <td>190524.16</td>\n",
       "      <td>2.26</td>\n",
       "      <td>Unspecified</td>\n",
       "      <td>Low</td>\n",
       "      <td>NaN</td>\n",
       "      <td>NaN</td>\n",
       "      <td>DEM__ARW_CA_Novato_</td>\n",
       "      <td>145502</td>\n",
       "      <td>15</td>\n",
       "      <td>2020-01-01</td>\n",
       "      <td>23954.0</td>\n",
       "      <td>2021-03-31</td>\n",
       "      <td>202008</td>\n",
       "      <td>30043672</td>\n",
       "    </tr>\n",
       "    <tr>\n",
       "      <th>860890</th>\n",
       "      <td>Other</td>\n",
       "      <td>190524.16</td>\n",
       "      <td>2.26</td>\n",
       "      <td>Unspecified</td>\n",
       "      <td>Low</td>\n",
       "      <td>NaN</td>\n",
       "      <td>NaN</td>\n",
       "      <td>DEM__ARW_CA_Novato_</td>\n",
       "      <td>154539</td>\n",
       "      <td>15</td>\n",
       "      <td>2020-01-01</td>\n",
       "      <td>23954.0</td>\n",
       "      <td>2021-03-31</td>\n",
       "      <td>202009</td>\n",
       "      <td>30043672</td>\n",
       "    </tr>\n",
       "    <tr>\n",
       "      <th>860891</th>\n",
       "      <td>Other</td>\n",
       "      <td>167231.50</td>\n",
       "      <td>2.26</td>\n",
       "      <td>Unspecified</td>\n",
       "      <td>Low</td>\n",
       "      <td>NaN</td>\n",
       "      <td>NaN</td>\n",
       "      <td>DEM__ARW_CA_Novato_</td>\n",
       "      <td>167004</td>\n",
       "      <td>15</td>\n",
       "      <td>2020-01-01</td>\n",
       "      <td>23954.0</td>\n",
       "      <td>2021-03-31</td>\n",
       "      <td>202010</td>\n",
       "      <td>30043672</td>\n",
       "    </tr>\n",
       "    <tr>\n",
       "      <th>860892</th>\n",
       "      <td>Other</td>\n",
       "      <td>174641.78</td>\n",
       "      <td>2.26</td>\n",
       "      <td>Unspecified</td>\n",
       "      <td>Low</td>\n",
       "      <td>NaN</td>\n",
       "      <td>NaN</td>\n",
       "      <td>DEM__ARW_CA_Novato_</td>\n",
       "      <td>174641</td>\n",
       "      <td>15</td>\n",
       "      <td>2020-01-01</td>\n",
       "      <td>23954.0</td>\n",
       "      <td>2021-03-31</td>\n",
       "      <td>202011</td>\n",
       "      <td>30043672</td>\n",
       "    </tr>\n",
       "    <tr>\n",
       "      <th>860893</th>\n",
       "      <td>Other</td>\n",
       "      <td>174635.48</td>\n",
       "      <td>2.26</td>\n",
       "      <td>Unspecified</td>\n",
       "      <td>Low</td>\n",
       "      <td>NaN</td>\n",
       "      <td>NaN</td>\n",
       "      <td>DEM__ARW_CA_Novato_</td>\n",
       "      <td>174635</td>\n",
       "      <td>15</td>\n",
       "      <td>2020-01-01</td>\n",
       "      <td>23954.0</td>\n",
       "      <td>2021-03-31</td>\n",
       "      <td>202012</td>\n",
       "      <td>30043672</td>\n",
       "    </tr>\n",
       "    <tr>\n",
       "      <th>860894</th>\n",
       "      <td>Other</td>\n",
       "      <td>174635.48</td>\n",
       "      <td>2.23</td>\n",
       "      <td>Unspecified</td>\n",
       "      <td>Low</td>\n",
       "      <td>NaN</td>\n",
       "      <td>NaN</td>\n",
       "      <td>DEM__ARW_CA_Novato_</td>\n",
       "      <td>174635</td>\n",
       "      <td>15</td>\n",
       "      <td>2020-01-01</td>\n",
       "      <td>23954.0</td>\n",
       "      <td>2021-03-31</td>\n",
       "      <td>202101</td>\n",
       "      <td>30043672</td>\n",
       "    </tr>\n",
       "    <tr>\n",
       "      <th>860895</th>\n",
       "      <td>Other</td>\n",
       "      <td>174845.68</td>\n",
       "      <td>2.23</td>\n",
       "      <td>Unspecified</td>\n",
       "      <td>Low</td>\n",
       "      <td>NaN</td>\n",
       "      <td>NaN</td>\n",
       "      <td>DEM__ARW_CA_Novato_</td>\n",
       "      <td>174845</td>\n",
       "      <td>15</td>\n",
       "      <td>2020-01-01</td>\n",
       "      <td>23954.0</td>\n",
       "      <td>2021-03-31</td>\n",
       "      <td>202102</td>\n",
       "      <td>30043672</td>\n",
       "    </tr>\n",
       "    <tr>\n",
       "      <th>860896</th>\n",
       "      <td>Other</td>\n",
       "      <td>174845.68</td>\n",
       "      <td>2.23</td>\n",
       "      <td>Unspecified</td>\n",
       "      <td>Low</td>\n",
       "      <td>NaN</td>\n",
       "      <td>NaN</td>\n",
       "      <td>DEM__ARW_CA_Novato_</td>\n",
       "      <td>174845</td>\n",
       "      <td>15</td>\n",
       "      <td>2020-01-01</td>\n",
       "      <td>23954.0</td>\n",
       "      <td>2021-03-31</td>\n",
       "      <td>202103</td>\n",
       "      <td>30043672</td>\n",
       "    </tr>\n",
       "  </tbody>\n",
       "</table>\n",
       "</div>"
      ],
      "text/plain": [
       "       AUS Mkt Sector Aggregate  Baseline NR  Break Even Multiplier - Project  \\\n",
       "860882                    Other         0.00                             2.26   \n",
       "860883                    Other    125917.24                             2.26   \n",
       "860884                    Other    125917.24                             2.26   \n",
       "860885                    Other    170286.57                             2.26   \n",
       "860886                    Other    120487.29                             2.26   \n",
       "860887                    Other    111096.14                             2.26   \n",
       "860888                    Other    134047.00                             2.26   \n",
       "860889                    Other    190524.16                             2.26   \n",
       "860890                    Other    190524.16                             2.26   \n",
       "860891                    Other    167231.50                             2.26   \n",
       "860892                    Other    174641.78                             2.26   \n",
       "860893                    Other    174635.48                             2.26   \n",
       "860894                    Other    174635.48                             2.23   \n",
       "860895                    Other    174845.68                             2.23   \n",
       "860896                    Other    174845.68                             2.23   \n",
       "\n",
       "       Organization Size Risk Profile  riskrating_project  Total Aging  \\\n",
       "860882       Unspecified          Low                 NaN          NaN   \n",
       "860883       Unspecified          Low                 NaN          NaN   \n",
       "860884       Unspecified          Low                 NaN          NaN   \n",
       "860885       Unspecified          Low                 NaN          NaN   \n",
       "860886       Unspecified          Low                 NaN          NaN   \n",
       "860887       Unspecified          Low                 NaN          NaN   \n",
       "860888       Unspecified          Low                 NaN          NaN   \n",
       "860889       Unspecified          Low                 NaN          NaN   \n",
       "860890       Unspecified          Low                 NaN          NaN   \n",
       "860891       Unspecified          Low                 NaN          NaN   \n",
       "860892       Unspecified          Low                 NaN          NaN   \n",
       "860893       Unspecified          Low                 NaN          NaN   \n",
       "860894       Unspecified          Low                 NaN          NaN   \n",
       "860895       Unspecified          Low                 NaN          NaN   \n",
       "860896       Unspecified          Low                 NaN          NaN   \n",
       "\n",
       "               Cleaned_Name  ActualNR_sum  Projectduration Project Start Date  \\\n",
       "860882  DEM__ARW_CA_Novato_             0               15         2020-01-01   \n",
       "860883  DEM__ARW_CA_Novato_         21305               15         2020-01-01   \n",
       "860884  DEM__ARW_CA_Novato_         37822               15         2020-01-01   \n",
       "860885  DEM__ARW_CA_Novato_         70393               15         2020-01-01   \n",
       "860886  DEM__ARW_CA_Novato_         94325               15         2020-01-01   \n",
       "860887  DEM__ARW_CA_Novato_        107892               15         2020-01-01   \n",
       "860888  DEM__ARW_CA_Novato_        134047               15         2020-01-01   \n",
       "860889  DEM__ARW_CA_Novato_        145502               15         2020-01-01   \n",
       "860890  DEM__ARW_CA_Novato_        154539               15         2020-01-01   \n",
       "860891  DEM__ARW_CA_Novato_        167004               15         2020-01-01   \n",
       "860892  DEM__ARW_CA_Novato_        174641               15         2020-01-01   \n",
       "860893  DEM__ARW_CA_Novato_        174635               15         2020-01-01   \n",
       "860894  DEM__ARW_CA_Novato_        174635               15         2020-01-01   \n",
       "860895  DEM__ARW_CA_Novato_        174845               15         2020-01-01   \n",
       "860896  DEM__ARW_CA_Novato_        174845               15         2020-01-01   \n",
       "\n",
       "        Project Manager Employee Number (Current) Scheduled End Date    Date  \\\n",
       "860882                                    23954.0         2021-03-31  202001   \n",
       "860883                                    23954.0         2021-03-31  202002   \n",
       "860884                                    23954.0         2021-03-31  202003   \n",
       "860885                                    23954.0         2021-03-31  202004   \n",
       "860886                                    23954.0         2021-03-31  202005   \n",
       "860887                                    23954.0         2021-03-31  202006   \n",
       "860888                                    23954.0         2021-03-31  202007   \n",
       "860889                                    23954.0         2021-03-31  202008   \n",
       "860890                                    23954.0         2021-03-31  202009   \n",
       "860891                                    23954.0         2021-03-31  202010   \n",
       "860892                                    23954.0         2021-03-31  202011   \n",
       "860893                                    23954.0         2021-03-31  202012   \n",
       "860894                                    23954.0         2021-03-31  202101   \n",
       "860895                                    23954.0         2021-03-31  202102   \n",
       "860896                                    23954.0         2021-03-31  202103   \n",
       "\n",
       "       Project Number  \n",
       "860882       30043672  \n",
       "860883       30043672  \n",
       "860884       30043672  \n",
       "860885       30043672  \n",
       "860886       30043672  \n",
       "860887       30043672  \n",
       "860888       30043672  \n",
       "860889       30043672  \n",
       "860890       30043672  \n",
       "860891       30043672  \n",
       "860892       30043672  \n",
       "860893       30043672  \n",
       "860894       30043672  \n",
       "860895       30043672  \n",
       "860896       30043672  "
      ]
     },
     "execution_count": 140,
     "metadata": {},
     "output_type": "execute_result"
    }
   ],
   "source": [
    "df[df['Project Number'] == '30043672'].iloc[:,40:55]"
   ]
  },
  {
   "cell_type": "code",
   "execution_count": null,
   "id": "8b33afd2",
   "metadata": {},
   "outputs": [],
   "source": []
  },
  {
   "cell_type": "code",
   "execution_count": null,
   "id": "826a070d",
   "metadata": {},
   "outputs": [],
   "source": []
  },
  {
   "cell_type": "code",
   "execution_count": null,
   "id": "ad5c5423",
   "metadata": {},
   "outputs": [],
   "source": []
  },
  {
   "cell_type": "code",
   "execution_count": 16,
   "id": "c5bad53b",
   "metadata": {},
   "outputs": [],
   "source": []
  },
  {
   "cell_type": "code",
   "execution_count": null,
   "id": "fff3a31d",
   "metadata": {},
   "outputs": [],
   "source": []
  },
  {
   "cell_type": "markdown",
   "id": "9b104dde",
   "metadata": {},
   "source": [
    "### Checking for stationarity. There are several ways\n",
    "Dickey-Fuller test for stationarity\n",
    "How to test if a process is stationary\n",
    "You may have noticed in the title of the plot above Dickey-Fuller. This is the statistical test that we run to determine if a time series is stationary or not.\n",
    "Without going into the technicalities of the Dickey-Fuller test, it test the null hypothesis that a unit root is present.\n",
    "If it is, then p > 0, and the process is not stationary.\n",
    "Otherwise, p = 0, the null hypothesis is rejected, and the process is considered to be stationary.\n",
    "As an example, the process below is not stationary. Notice how the mean is not constant through time."
   ]
  },
  {
   "cell_type": "code",
   "execution_count": null,
   "id": "23f20ebe",
   "metadata": {},
   "outputs": [],
   "source": [
    "from statsmodels.tsa.vector_ar.vecm import coint_johansen\n",
    "#since the test works for only 12 variables, I have randomly dropped\n",
    "#in the next iteration, I would drop another and check the eigenvalues"
   ]
  },
  {
   "cell_type": "code",
   "execution_count": 84,
   "id": "8f3bfd83",
   "metadata": {},
   "outputs": [
    {
     "data": {
      "text/plain": [
       "'b00455050020'"
      ]
     },
     "execution_count": 84,
     "metadata": {},
     "output_type": "execute_result"
    }
   ],
   "source": [
    "project_number=random_project(df)\n",
    "project_number"
   ]
  },
  {
   "cell_type": "code",
   "execution_count": 181,
   "id": "9dc23415",
   "metadata": {},
   "outputs": [
    {
     "name": "stderr",
     "output_type": "stream",
     "text": [
      "/Users/julia/opt/anaconda3/lib/python3.7/site-packages/ipykernel_launcher.py:11: SettingWithCopyWarning: \n",
      "A value is trying to be set on a copy of a slice from a DataFrame.\n",
      "Try using .loc[row_indexer,col_indexer] = value instead\n",
      "\n",
      "See the caveats in the documentation: https://pandas.pydata.org/pandas-docs/stable/user_guide/indexing.html#returning-a-view-versus-a-copy\n",
      "  # This is added back by InteractiveShellApp.init_path()\n"
     ]
    }
   ],
   "source": [
    "df_random = obtain_df(project_number)\n",
    "df_random['Actual Net Revenue - MTD'].astype(int)\n",
    "series = df_random[ 'Actual Net Revenue - MTD']"
   ]
  },
  {
   "cell_type": "code",
   "execution_count": 86,
   "id": "988c3149",
   "metadata": {},
   "outputs": [
    {
     "data": {
      "text/plain": [
       "9"
      ]
     },
     "execution_count": 86,
     "metadata": {},
     "output_type": "execute_result"
    }
   ],
   "source": [
    "X = series.values\n",
    "split = int(len(X) / 2)\n",
    "split"
   ]
  },
  {
   "cell_type": "code",
   "execution_count": 87,
   "id": "887a0484",
   "metadata": {},
   "outputs": [
    {
     "name": "stdout",
     "output_type": "stream",
     "text": [
      "mean1=361.811111, mean2=39.175000\n",
      "variance1=384971.075699, variance2=6393.206165\n"
     ]
    }
   ],
   "source": [
    "X1, X2 = X[0:split], X[split:]\n",
    "mean1, mean2 = X1.mean(), X2.mean()\n",
    "var1, var2 = X1.var(), X2.var()\n",
    "print('mean1=%f, mean2=%f' % (mean1, mean2))\n",
    "print('variance1=%f, variance2=%f' % (var1, var2))"
   ]
  },
  {
   "cell_type": "markdown",
   "id": "b92fbc03",
   "metadata": {},
   "source": [
    "### Augmented Dickey-Fuller test (ADF)\n",
    "ADF tests the null hypothesis that a unit root is present in time series sample. ADF statistic is a negative number and more negative it is the stronger the rejection of the hypothesis that there is a unit root.\n",
    "- Null Hypotehsis (H0): If accepted, it suggests the time series has a unit root, meaning it is non-stationary. It has some time dependent structure.\n",
    "- Alternate Hypothesis (H1): The null hypothesis is rejected; it suggests the time series does not have a unit root, meaning it is stationary.\n",
    "- p-value > 0.05: Accept H0, the data has a unit root and is non-stationary\n",
    "- p-value ≤ 0.05: Reject H0. the data does not have a unit root and is stationary"
   ]
  },
  {
   "cell_type": "code",
   "execution_count": 90,
   "id": "02955865",
   "metadata": {},
   "outputs": [
    {
     "name": "stdout",
     "output_type": "stream",
     "text": [
      "ADF Statistic: -1.138380\n",
      "p-value: 0.699526\n",
      "Critical Values:\n",
      "\t1%: -4.069\n",
      "\t5%: -3.127\n",
      "\t10%: -2.702\n"
     ]
    }
   ],
   "source": [
    "from statsmodels.tsa.stattools import adfuller\n",
    "\n",
    "X = series.values\n",
    "result = adfuller(X)\n",
    "print('ADF Statistic: %f' % result[0])\n",
    "print('p-value: %f' % result[1])\n",
    "print('Critical Values:')\n",
    "for key, value in result[4].items():\n",
    "\tprint('\\t%s: %.3f' % (key, value))"
   ]
  },
  {
   "cell_type": "code",
   "execution_count": 91,
   "id": "137c5828",
   "metadata": {},
   "outputs": [
    {
     "data": {
      "text/plain": [
       "0        0.00\n",
       "1      194.09\n",
       "2      290.76\n",
       "3      663.21\n",
       "4      576.22\n",
       "5      852.62\n",
       "6     1188.07\n",
       "7    -1114.85\n",
       "8      606.18\n",
       "9      185.02\n",
       "10     206.71\n",
       "11      34.05\n",
       "12     -34.03\n",
       "13       0.00\n",
       "14       0.00\n",
       "15       0.00\n",
       "16       0.00\n",
       "17       0.00\n",
       "18       0.00\n",
       "Name: Actual Net Revenue - MTD, dtype: float64"
      ]
     },
     "execution_count": 91,
     "metadata": {},
     "output_type": "execute_result"
    }
   ],
   "source": [
    "series"
   ]
  },
  {
   "cell_type": "markdown",
   "id": "1660d708",
   "metadata": {},
   "source": [
    "### What happens if we logtransform our data?"
   ]
  },
  {
   "cell_type": "code",
   "execution_count": 183,
   "id": "d3bd1627",
   "metadata": {},
   "outputs": [
    {
     "data": {
      "text/plain": [
       "array([0.        , 5.27346099, 5.67593155, 6.49859836, 6.35822348,\n",
       "       6.74948613, 7.08092677,        nan, 6.40882529, 5.22585419,\n",
       "       5.33614288, 3.55677561,        nan, 0.        , 0.        ,\n",
       "       0.        , 0.        , 0.        , 0.        ])"
      ]
     },
     "execution_count": 183,
     "metadata": {},
     "output_type": "execute_result"
    }
   ],
   "source": [
    "X"
   ]
  },
  {
   "cell_type": "code",
   "execution_count": null,
   "id": "b89d0f73",
   "metadata": {},
   "outputs": [],
   "source": [
    "indexedDataset = dataset.set_index(['Date'])\n",
    "indexedDataset = indexedDataset.fillna(method='ffill')"
   ]
  },
  {
   "cell_type": "code",
   "execution_count": null,
   "id": "68428bb3",
   "metadata": {},
   "outputs": [],
   "source": [
    "import numpy as np\n",
    "\n",
    "X = df_random['logtransform'].values\n",
    "result_log = adfuller(X)\n",
    "print('ADF Statistic: %f' % result_log[0])\n",
    "print('p-value: %f' % result_log[1])\n",
    "print('Critical Values:')\n",
    "for key, value in result_log[4].items():\n",
    "\tprint('\\t%s: %.3f' % (key, value))"
   ]
  },
  {
   "cell_type": "markdown",
   "id": "4063079a",
   "metadata": {},
   "source": [
    "### We need to one-hot encode "
   ]
  },
  {
   "cell_type": "code",
   "execution_count": null,
   "id": "d557afea",
   "metadata": {},
   "outputs": [],
   "source": [
    "for col in group_project_data.columns:\n",
    "    if group_project_data[col].dtype.name == 'category':\n",
    "        dummy = pd.get_dummies(group_project_data[col], prefix = col)\n",
    "        group_project_data = group_project_data.join(dummy)\n",
    "        group_project_data = group_project_data.drop(col, axis=1)"
   ]
  },
  {
   "cell_type": "code",
   "execution_count": null,
   "id": "ebd3d224",
   "metadata": {},
   "outputs": [],
   "source": []
  },
  {
   "cell_type": "code",
   "execution_count": null,
   "id": "6b4c6ed4",
   "metadata": {},
   "outputs": [],
   "source": []
  }
 ],
 "metadata": {
  "kernelspec": {
   "display_name": "Python 3",
   "language": "python",
   "name": "python3"
  },
  "language_info": {
   "codemirror_mode": {
    "name": "ipython",
    "version": 3
   },
   "file_extension": ".py",
   "mimetype": "text/x-python",
   "name": "python",
   "nbconvert_exporter": "python",
   "pygments_lexer": "ipython3",
   "version": "3.7.9"
  }
 },
 "nbformat": 4,
 "nbformat_minor": 5
}
