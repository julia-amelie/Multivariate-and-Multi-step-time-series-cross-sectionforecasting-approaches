{
 "cells": [
  {
   "cell_type": "markdown",
   "id": "4b48a141",
   "metadata": {},
   "source": [
    "### Making the mapped.csv consistent"
   ]
  },
  {
   "cell_type": "code",
   "execution_count": 1,
   "id": "9a79696c",
   "metadata": {},
   "outputs": [],
   "source": [
    "import pandas as pd\n",
    "import pandas as pd\n",
    "from matplotlib import pyplot\n",
    "import statsmodels as sm\n",
    "from statsmodels.tsa.stattools import adfuller\n",
    "from statsmodels.graphics.tsaplots import plot_acf, plot_pacf\n",
    "from statsmodels.tsa.arima_model import ARIMA\n",
    "import statistics\n",
    "import warnings\n",
    "import itertools\n",
    "import numpy as np\n",
    "import matplotlib.pyplot as plt\n",
    "warnings.filterwarnings(\"ignore\")\n",
    "plt.style.use('fivethirtyeight')\n",
    "import pandas as pd\n",
    "import statsmodels.api as sm\n",
    "import matplotlib\n",
    "matplotlib.rcParams['axes.labelsize'] = 14\n",
    "matplotlib.rcParams['xtick.labelsize'] = 12\n",
    "matplotlib.rcParams['ytick.labelsize'] = 12\n",
    "matplotlib.rcParams['text.color'] = 'k'\n",
    "from statsmodels.tsa.arima_model import ARIMA\n",
    "import itertools"
   ]
  },
  {
   "cell_type": "code",
   "execution_count": 2,
   "id": "1463491c",
   "metadata": {},
   "outputs": [],
   "source": [
    "df = pd.read_csv('mapped.csv')"
   ]
  },
  {
   "cell_type": "code",
   "execution_count": 3,
   "id": "c5f5167b",
   "metadata": {},
   "outputs": [],
   "source": [
    "def random_project(df):\n",
    "    df = df.sample(n=1)\n",
    "    project_number = df['Project Number'].item()\n",
    "    return project_number"
   ]
  },
  {
   "cell_type": "code",
   "execution_count": 4,
   "id": "a1191720",
   "metadata": {},
   "outputs": [
    {
     "data": {
      "text/plain": [
       "Index(['Unnamed: 0', 'Fiscal Period Code', 'Project_Number', 'Project Id',\n",
       "       'Project_Name', 'Health and Safety Status', 'project_date_create',\n",
       "       'Project Status', 'SalesCloudClientNo',\n",
       "       'Related Opportunity Project Number', 'Contract Type Name',\n",
       "       'Ultimate Customer AUS Market Sector', 'Division Short Name',\n",
       "       'location_2', 'location_4', 'Region', 'City', 'Country', 'Country Name',\n",
       "       'Proj_CVP', 'Proj_Serv_Offering', 'CVP Description', '﻿CVP Code',\n",
       "       'primary_client_industry', 'Sales Cloud Opportunity Number',\n",
       "       'Funding Amount - ITC (Snapshot)', 'Backlog NR',\n",
       "       'Actual Direct Labor Cost - MTD', 'Actual Non-Labor Cost - MTD',\n",
       "       'Actual Gross Revenue - MTD', 'Actual Net Revenue - MTD', 'EBITA - MTD',\n",
       "       'Forecast Direct Labor Cost - ITC', 'Forecast Net Revenue - ITC',\n",
       "       'Order Intake (NR) - MTD', 'WBS1', 'bookings_jtd', 'interest_current',\n",
       "       'interest_jtd', 'interest_ytd', 'multiplier_budget',\n",
       "       'multiplier_current', 'multiplier_target', 'overhead_current',\n",
       "       'overhead_rate', 'revenue_type', 'AUS Mkt Sector Aggregate',\n",
       "       'Baseline NR', 'Break Even Multiplier - Project', 'GBL Description',\n",
       "       'Legacy Project Number', 'Organization Size', 'Risk Profile',\n",
       "       'Sustainable Project', 'interest_current.1', 'riskrating_project',\n",
       "       'Total WIP', 'Positive WIP', 'Total Aging', 'Cleaned_Name'],\n",
       "      dtype='object')"
      ]
     },
     "execution_count": 4,
     "metadata": {},
     "output_type": "execute_result"
    }
   ],
   "source": [
    "df.columns"
   ]
  },
  {
   "cell_type": "code",
   "execution_count": 5,
   "id": "5a46942e",
   "metadata": {},
   "outputs": [],
   "source": [
    "df = df.rename(columns={'Project_Number': 'Project Number', 'Project_Name' : 'Project Name'})\n",
    "df = df.loc[:, ~df.columns.str.contains('^Unnamed')]\n",
    "df['Project Number'] = df['Project Number'].astype('str') \n",
    "#df['Fiscal Period Code'] = pd.to_datetime(df['Fiscal Period Code'], format='%Y%m') "
   ]
  },
  {
   "cell_type": "markdown",
   "id": "42f5317b",
   "metadata": {},
   "source": [
    "### Let's take out any project numbers that are not unique per time period"
   ]
  },
  {
   "cell_type": "code",
   "execution_count": 57,
   "id": "d746d7a3",
   "metadata": {},
   "outputs": [
    {
     "data": {
      "text/plain": [
       "1100712"
      ]
     },
     "execution_count": 57,
     "metadata": {},
     "output_type": "execute_result"
    }
   ],
   "source": [
    "df1[['Project Number']] = df1[['Project Number']].apply(lambda x: x.str.lower())\n",
    "df2 = df1.drop_duplicates(subset=['Fiscal Period Code','Project Number'], keep = 'first')\n",
    "len(df2)"
   ]
  },
  {
   "cell_type": "code",
   "execution_count": null,
   "id": "340c6b29",
   "metadata": {},
   "outputs": [],
   "source": [
    "random_project(df2)"
   ]
  },
  {
   "cell_type": "markdown",
   "id": "1e8868b8",
   "metadata": {},
   "source": [
    "### Let's add a column for the total project duration"
   ]
  },
  {
   "cell_type": "code",
   "execution_count": 76,
   "id": "93ee1ee8",
   "metadata": {},
   "outputs": [],
   "source": [
    "df2['Projectduration'] = df2.groupby(['Project Number'])['Fiscal Period Code'].transform('count')"
   ]
  },
  {
   "cell_type": "code",
   "execution_count": 78,
   "id": "8458faba",
   "metadata": {},
   "outputs": [
    {
     "data": {
      "text/plain": [
       "Index(['Fiscal Period Code', 'Project Number', 'Project Id', 'Project Name',\n",
       "       'Health and Safety Status', 'project_date_create', 'Project Status',\n",
       "       'SalesCloudClientNo', 'Related Opportunity Project Number',\n",
       "       'Contract Type Name', 'Ultimate Customer AUS Market Sector',\n",
       "       'Division Short Name', 'location_2', 'location_4', 'Region', 'City',\n",
       "       'Country', 'Country Name', 'Proj_CVP', 'Proj_Serv_Offering',\n",
       "       'CVP Description', '﻿CVP Code', 'primary_client_industry',\n",
       "       'Sales Cloud Opportunity Number', 'Funding Amount - ITC (Snapshot)',\n",
       "       'Backlog NR', 'Actual Direct Labor Cost - MTD',\n",
       "       'Actual Non-Labor Cost - MTD', 'Actual Gross Revenue - MTD',\n",
       "       'Actual Net Revenue - MTD', 'EBITA - MTD',\n",
       "       'Forecast Direct Labor Cost - ITC', 'Forecast Net Revenue - ITC',\n",
       "       'Order Intake (NR) - MTD', 'WBS1', 'bookings_jtd', 'interest_current',\n",
       "       'interest_jtd', 'interest_ytd', 'multiplier_budget',\n",
       "       'multiplier_current', 'multiplier_target', 'overhead_current',\n",
       "       'overhead_rate', 'revenue_type', 'AUS Mkt Sector Aggregate',\n",
       "       'Baseline NR', 'Break Even Multiplier - Project', 'GBL Description',\n",
       "       'Legacy Project Number', 'Organization Size', 'Risk Profile',\n",
       "       'Sustainable Project', 'interest_current.1', 'riskrating_project',\n",
       "       'Total WIP', 'Positive WIP', 'Total Aging', 'Cleaned_Name',\n",
       "       'ActualNR_sum', 'Projectduration'],\n",
       "      dtype='object')"
      ]
     },
     "execution_count": 78,
     "metadata": {},
     "output_type": "execute_result"
    }
   ],
   "source": [
    "df2.columns"
   ]
  },
  {
   "cell_type": "code",
   "execution_count": 8,
   "id": "1b103e2d",
   "metadata": {},
   "outputs": [],
   "source": [
    "df3 = df2.drop_duplicates(subset=['Project Number'], keep = 'last')\n",
    "\n",
    "def analysis(column):\n",
    "    print(df3[column].unique())\n",
    "    sub = df3.groupby(column).count()\n",
    "    # plot the dataframe \n",
    "    return sub.plot(y=[\"Project Number\"], kind=\"bar\", figsize=(10,8))"
   ]
  },
  {
   "cell_type": "code",
   "execution_count": 77,
   "id": "1f953d05",
   "metadata": {},
   "outputs": [
    {
     "data": {
      "text/plain": [
       "(63522, 1100712)"
      ]
     },
     "execution_count": 77,
     "metadata": {},
     "output_type": "execute_result"
    }
   ],
   "source": [
    "len(df3), len(df2)"
   ]
  },
  {
   "cell_type": "code",
   "execution_count": 27,
   "id": "60a1e657",
   "metadata": {},
   "outputs": [],
   "source": [
    "#analysis('Projectduration')"
   ]
  },
  {
   "cell_type": "markdown",
   "id": "e4259cf3",
   "metadata": {},
   "source": [
    "### Let's add a columm to add up all actual net revenue (cumulative sum)"
   ]
  },
  {
   "cell_type": "code",
   "execution_count": 58,
   "id": "9203f9d4",
   "metadata": {},
   "outputs": [],
   "source": [
    "df2['ActualNR_sum'] = df2.groupby(\"Project Number\")['Actual Net Revenue - MTD'].cumsum()"
   ]
  },
  {
   "cell_type": "markdown",
   "id": "0ce5e8e1",
   "metadata": {},
   "source": [
    "### Let's see which SalescloudClientNO has most projects"
   ]
  },
  {
   "cell_type": "code",
   "execution_count": 85,
   "id": "c4715822",
   "metadata": {},
   "outputs": [
    {
     "data": {
      "text/html": [
       "<div>\n",
       "<style scoped>\n",
       "    .dataframe tbody tr th:only-of-type {\n",
       "        vertical-align: middle;\n",
       "    }\n",
       "\n",
       "    .dataframe tbody tr th {\n",
       "        vertical-align: top;\n",
       "    }\n",
       "\n",
       "    .dataframe thead th {\n",
       "        text-align: right;\n",
       "    }\n",
       "</style>\n",
       "<table border=\"1\" class=\"dataframe\">\n",
       "  <thead>\n",
       "    <tr style=\"text-align: right;\">\n",
       "      <th></th>\n",
       "      <th>SalesCloudClientNo</th>\n",
       "      <th>count</th>\n",
       "    </tr>\n",
       "  </thead>\n",
       "  <tbody>\n",
       "    <tr>\n",
       "      <th>8</th>\n",
       "      <td>99999.0</td>\n",
       "      <td>15470</td>\n",
       "    </tr>\n",
       "    <tr>\n",
       "      <th>93</th>\n",
       "      <td>10238092.0</td>\n",
       "      <td>3111</td>\n",
       "    </tr>\n",
       "    <tr>\n",
       "      <th>993</th>\n",
       "      <td>10239479.0</td>\n",
       "      <td>2244</td>\n",
       "    </tr>\n",
       "    <tr>\n",
       "      <th>175</th>\n",
       "      <td>10238206.0</td>\n",
       "      <td>1396</td>\n",
       "    </tr>\n",
       "    <tr>\n",
       "      <th>980</th>\n",
       "      <td>10239458.0</td>\n",
       "      <td>975</td>\n",
       "    </tr>\n",
       "    <tr>\n",
       "      <th>...</th>\n",
       "      <td>...</td>\n",
       "      <td>...</td>\n",
       "    </tr>\n",
       "    <tr>\n",
       "      <th>680</th>\n",
       "      <td>10238990.0</td>\n",
       "      <td>1</td>\n",
       "    </tr>\n",
       "    <tr>\n",
       "      <th>1725</th>\n",
       "      <td>10240858.0</td>\n",
       "      <td>1</td>\n",
       "    </tr>\n",
       "    <tr>\n",
       "      <th>1726</th>\n",
       "      <td>10240859.0</td>\n",
       "      <td>1</td>\n",
       "    </tr>\n",
       "    <tr>\n",
       "      <th>1727</th>\n",
       "      <td>10240860.0</td>\n",
       "      <td>1</td>\n",
       "    </tr>\n",
       "    <tr>\n",
       "      <th>0</th>\n",
       "      <td>6570.0</td>\n",
       "      <td>1</td>\n",
       "    </tr>\n",
       "  </tbody>\n",
       "</table>\n",
       "<p>2447 rows × 2 columns</p>\n",
       "</div>"
      ],
      "text/plain": [
       "      SalesCloudClientNo  count\n",
       "8                99999.0  15470\n",
       "93            10238092.0   3111\n",
       "993           10239479.0   2244\n",
       "175           10238206.0   1396\n",
       "980           10239458.0    975\n",
       "...                  ...    ...\n",
       "680           10238990.0      1\n",
       "1725          10240858.0      1\n",
       "1726          10240859.0      1\n",
       "1727          10240860.0      1\n",
       "0                 6570.0      1\n",
       "\n",
       "[2447 rows x 2 columns]"
      ]
     },
     "execution_count": 85,
     "metadata": {},
     "output_type": "execute_result"
    }
   ],
   "source": [
    "df_combo=df2.groupby([ \"SalesCloudClientNo\", \"Project Number\"] ).size().to_frame(name = 'count').reset_index()\n",
    "dfdf_combo=df_combo.groupby('SalesCloudClientNo').count()\n",
    "dfdf_combo.pop('Project Number')\n",
    "\n",
    "\n",
    "#This should be the names with more than two numbers\n",
    "dfdf_combo.reset_index(inplace=True)\n",
    "dfdf_combo.sort_values('count', \n",
    "                      inplace=True, \n",
    "                      ascending=False)\n",
    "dfdf_combo"
   ]
  },
  {
   "cell_type": "markdown",
   "id": "477dee50",
   "metadata": {},
   "source": [
    "### Let's see which project types have most revenue"
   ]
  },
  {
   "cell_type": "code",
   "execution_count": 55,
   "id": "4971989f",
   "metadata": {},
   "outputs": [],
   "source": [
    "def average_nr(column):\n",
    "    dff=df3.groupby([column])['ActualNR_sum'].sum().round().reset_index()\n",
    "    dfff=df3.groupby([column])['Project Number'].count().reset_index()\n",
    "    dff['ActualNR_sum'] = (dff['ActualNR_sum'] / dfff['Project Number']).round()\n",
    "    \n",
    "    fig, ax = plt.subplots(figsize=(10,8))\n",
    "    bars = ax.bar(dff[column], dff['ActualNR_sum'], width=0.5)\n",
    "    plt.xticks(rotation=90)\n",
    "    for bar in bars:\n",
    "        height = bar.get_height()\n",
    "        label_x_pos = bar.get_x() + bar.get_width() / 2\n",
    "        ax.text(label_x_pos, height, s=f'{height}', ha='center',va='bottom')"
   ]
  },
  {
   "cell_type": "code",
   "execution_count": 28,
   "id": "60c08ea7",
   "metadata": {},
   "outputs": [],
   "source": [
    "#average_nr('Division Short Name')"
   ]
  },
  {
   "cell_type": "code",
   "execution_count": 100,
   "id": "1ae58a24",
   "metadata": {},
   "outputs": [
    {
     "data": {
      "text/plain": [
       "Division Short Name\n",
       "Enabling Function   -2.403110e+05\n",
       "Environment          1.595409e+09\n",
       "Infrastructure       4.978442e+08\n",
       "Water                8.007870e+08\n",
       "Name: ActualNR_sum, dtype: float64"
      ]
     },
     "execution_count": 100,
     "metadata": {},
     "output_type": "execute_result"
    }
   ],
   "source": [
    "df3.groupby(['Division Short Name'])['ActualNR_sum'].sum()"
   ]
  },
  {
   "cell_type": "code",
   "execution_count": 29,
   "id": "cd61a255",
   "metadata": {},
   "outputs": [],
   "source": [
    "#average_nr('Contract Type Name')"
   ]
  },
  {
   "cell_type": "code",
   "execution_count": 30,
   "id": "984e9223",
   "metadata": {},
   "outputs": [],
   "source": [
    "#average_nr('Proj_CVP')"
   ]
  },
  {
   "cell_type": "code",
   "execution_count": 31,
   "id": "786f6f28",
   "metadata": {},
   "outputs": [],
   "source": [
    "#average_nr('Ultimate Customer AUS Market Sector')"
   ]
  },
  {
   "cell_type": "code",
   "execution_count": 86,
   "id": "a8311a23",
   "metadata": {},
   "outputs": [
    {
     "data": {
      "text/plain": [
       "Index(['Fiscal Period Code', 'Project Number', 'Project Id', 'Project Name',\n",
       "       'Health and Safety Status', 'project_date_create', 'Project Status',\n",
       "       'SalesCloudClientNo', 'Related Opportunity Project Number',\n",
       "       'Contract Type Name', 'Ultimate Customer AUS Market Sector',\n",
       "       'Division Short Name', 'location_2', 'location_4', 'Region', 'City',\n",
       "       'Country', 'Country Name', 'Proj_CVP', 'Proj_Serv_Offering',\n",
       "       'CVP Description', '﻿CVP Code', 'primary_client_industry',\n",
       "       'Sales Cloud Opportunity Number', 'Funding Amount - ITC (Snapshot)',\n",
       "       'Backlog NR', 'Actual Direct Labor Cost - MTD',\n",
       "       'Actual Non-Labor Cost - MTD', 'Actual Gross Revenue - MTD',\n",
       "       'Actual Net Revenue - MTD', 'EBITA - MTD',\n",
       "       'Forecast Direct Labor Cost - ITC', 'Forecast Net Revenue - ITC',\n",
       "       'Order Intake (NR) - MTD', 'WBS1', 'bookings_jtd', 'interest_current',\n",
       "       'interest_jtd', 'interest_ytd', 'multiplier_budget',\n",
       "       'multiplier_current', 'multiplier_target', 'overhead_current',\n",
       "       'overhead_rate', 'revenue_type', 'AUS Mkt Sector Aggregate',\n",
       "       'Baseline NR', 'Break Even Multiplier - Project', 'GBL Description',\n",
       "       'Legacy Project Number', 'Organization Size', 'Risk Profile',\n",
       "       'Sustainable Project', 'interest_current.1', 'riskrating_project',\n",
       "       'Total WIP', 'Positive WIP', 'Total Aging', 'Cleaned_Name',\n",
       "       'Projectduration', 'ActualNR_sum'],\n",
       "      dtype='object')"
      ]
     },
     "execution_count": 86,
     "metadata": {},
     "output_type": "execute_result"
    }
   ],
   "source": [
    "df3.groupby(['Division Short Name'])['ActualNR_sum'].sum()"
   ]
  },
  {
   "cell_type": "code",
   "execution_count": 32,
   "id": "0f435a8d",
   "metadata": {},
   "outputs": [],
   "source": [
    "#average_nr('Risk Profile')"
   ]
  },
  {
   "cell_type": "code",
   "execution_count": 33,
   "id": "30b5fb71",
   "metadata": {},
   "outputs": [],
   "source": [
    "#analysis('Risk Profile')"
   ]
  },
  {
   "cell_type": "code",
   "execution_count": 34,
   "id": "5340d505",
   "metadata": {},
   "outputs": [],
   "source": [
    "#average_nr('Projectduration')"
   ]
  },
  {
   "cell_type": "code",
   "execution_count": 17,
   "id": "37fba5b6",
   "metadata": {},
   "outputs": [
    {
     "data": {
      "text/plain": [
       "'30014265'"
      ]
     },
     "execution_count": 17,
     "metadata": {},
     "output_type": "execute_result"
    }
   ],
   "source": [
    "random_project(df2)"
   ]
  },
  {
   "cell_type": "code",
   "execution_count": 14,
   "id": "f8845669",
   "metadata": {},
   "outputs": [],
   "source": [
    "df2['Fiscal Period Code'] = pd.to_datetime(df2['Fiscal Period Code'], format='%Y%m') "
   ]
  },
  {
   "cell_type": "code",
   "execution_count": 22,
   "id": "d53fd20b",
   "metadata": {},
   "outputs": [],
   "source": [
    "df_30012521 = df2[df2['Project Number'] == '30012521']\n",
    "df_30014265 = df2[df2['Project Number'] == '30014265']\n",
    "dfdf = pd.concat([df_30012521, df_30014265])"
   ]
  },
  {
   "cell_type": "markdown",
   "id": "2df538ee",
   "metadata": {},
   "source": [
    "### Let's subset healthcare projects"
   ]
  },
  {
   "cell_type": "code",
   "execution_count": 25,
   "id": "93bf30af",
   "metadata": {},
   "outputs": [],
   "source": [
    "dfdf = df2[df2['Risk Profile'] == 'Low']\n",
    "dfdf.pivot(index=\"Fiscal Period Code\", columns=\"Project Number\", values=\"Actual Net Revenue - MTD\").plot(figsize=(10,8))\n",
    "#plt.text(1,1,'Pre', transform=ax3.transAxes)"
   ]
  },
  {
   "cell_type": "markdown",
   "id": "674948b3",
   "metadata": {},
   "source": [
    "### Let's make sure that some of the categorical variables are consistent throughout the dataset\n",
    "\n",
    "We should keep Fiscal period code, Project Number, Project status, SalesCloudClientNo, contract type, Ultimate Customer AUS Market Sector, Division Short Name, Region, City, Proj_CVP, Proj_Serv_Offering, , primary_client_industry, Funding Amount - ITC (Snapshot), Backlog NR, Actual Direct Labor Cost - MTD, Actual Non-Labor Cost - MTD, Actual Gross Revenue - MTD, Actual Net Revenue - MTD, EBITA - MTD, Forecast Direct Labor Cost - ITC, Forecast Net Revenue - ITC, Order Intake (NR) - MTD,  Order Intake (NR) - MTD, Baseline NR, Break Even Multiplier - Project, Organization Size, Risk Profile, riskrating_project\n",
    "\n",
    "\n",
    "(Optional) bookings_jtd\tinterest_current\tinterest_jtd\tinterest_ytd\tmultiplier_budget\tmultiplier_current\tmultiplier_target\toverhead_current\toverhead_rate, Total WIP\n",
    "\n",
    "\n",
    "drag out from last (Ultimate Customer AUS Market Sector, Risk Profile\n",
    "\n",
    "\n",
    "drag out from first (Proj_CVP, Proj_Serv_Offering, Region, City, primary_client_industry, riskrating_project, "
   ]
  },
  {
   "cell_type": "code",
   "execution_count": 35,
   "id": "b518a9a3",
   "metadata": {},
   "outputs": [],
   "source": [
    "df_first = df2.drop_duplicates(subset=['Project Number'], keep = 'first')\n",
    "df_last = df2.drop_duplicates(subset=['Project Number'], keep = 'last')"
   ]
  },
  {
   "cell_type": "code",
   "execution_count": 59,
   "id": "b517feb1",
   "metadata": {},
   "outputs": [],
   "source": [
    "def cohesive(column, subdf):\n",
    "    #subset df\n",
    "    realData = pd.Series(data=subdf[column].values, index=subdf['Project Number'])\n",
    "    #map back to the original dataset\n",
    "    df2[column] = df2['Project Number'].map(realData).fillna(df2[column])\n",
    "    #Use this to doublcheck\n",
    "    return df2[df2['Project Number'] == '30013144'][column]"
   ]
  },
  {
   "cell_type": "markdown",
   "id": "6d39cbec",
   "metadata": {},
   "source": [
    "## Ultimate Customer AUS Market Sector (last)"
   ]
  },
  {
   "cell_type": "code",
   "execution_count": 60,
   "id": "ac1f1dee",
   "metadata": {},
   "outputs": [
    {
     "data": {
      "text/plain": [
       "1275653    Chemicals\n",
       "1335023    Chemicals\n",
       "1359354    Chemicals\n",
       "1396098    Chemicals\n",
       "1423955    Chemicals\n",
       "1469937    Chemicals\n",
       "1493935    Chemicals\n",
       "1535775    Chemicals\n",
       "1556337    Chemicals\n",
       "1592947    Chemicals\n",
       "1616658    Chemicals\n",
       "1638992    Chemicals\n",
       "1669798    Chemicals\n",
       "1707202    Chemicals\n",
       "1713790    Chemicals\n",
       "1739518    Chemicals\n",
       "1790811    Chemicals\n",
       "1800145    Chemicals\n",
       "1836013    Chemicals\n",
       "1861736    Chemicals\n",
       "1895273    Chemicals\n",
       "1952453    Chemicals\n",
       "1970469    Chemicals\n",
       "2005281    Chemicals\n",
       "2039596    Chemicals\n",
       "2071608    Chemicals\n",
       "2102404    Chemicals\n",
       "2177162    Chemicals\n",
       "Name: Ultimate Customer AUS Market Sector, dtype: object"
      ]
     },
     "execution_count": 60,
     "metadata": {},
     "output_type": "execute_result"
    }
   ],
   "source": [
    "cohesive('Ultimate Customer AUS Market Sector', df_last)"
   ]
  },
  {
   "cell_type": "markdown",
   "id": "47c0bbee",
   "metadata": {},
   "source": [
    "### Risk Profile (last)"
   ]
  },
  {
   "cell_type": "code",
   "execution_count": 61,
   "id": "d776ad75",
   "metadata": {},
   "outputs": [
    {
     "data": {
      "text/plain": [
       "1275653    Low\n",
       "1335023    Low\n",
       "1359354    Low\n",
       "1396098    Low\n",
       "1423955    Low\n",
       "1469937    Low\n",
       "1493935    Low\n",
       "1535775    Low\n",
       "1556337    Low\n",
       "1592947    Low\n",
       "1616658    Low\n",
       "1638992    Low\n",
       "1669798    Low\n",
       "1707202    Low\n",
       "1713790    Low\n",
       "1739518    Low\n",
       "1790811    Low\n",
       "1800145    Low\n",
       "1836013    Low\n",
       "1861736    Low\n",
       "1895273    Low\n",
       "1952453    Low\n",
       "1970469    Low\n",
       "2005281    Low\n",
       "2039596    Low\n",
       "2071608    Low\n",
       "2102404    Low\n",
       "2177162    Low\n",
       "Name: Risk Profile, dtype: object"
      ]
     },
     "execution_count": 61,
     "metadata": {},
     "output_type": "execute_result"
    }
   ],
   "source": [
    "cohesive('Risk Profile', df_last)"
   ]
  },
  {
   "cell_type": "markdown",
   "id": "4b9f6f10",
   "metadata": {},
   "source": [
    "### drag out from first Proj_CVP, Proj_Serv_Offering, Region, City, primary_client_industry, riskrating_project,"
   ]
  },
  {
   "cell_type": "code",
   "execution_count": 62,
   "id": "6a2db12f",
   "metadata": {},
   "outputs": [
    {
     "data": {
      "text/plain": [
       "1275653    1.0\n",
       "1335023    1.0\n",
       "1359354    1.0\n",
       "1396098    1.0\n",
       "1423955    1.0\n",
       "1469937    1.0\n",
       "1493935    1.0\n",
       "1535775    1.0\n",
       "1556337    1.0\n",
       "1592947    1.0\n",
       "1616658    1.0\n",
       "1638992    1.0\n",
       "1669798    1.0\n",
       "1707202    1.0\n",
       "1713790    1.0\n",
       "1739518    1.0\n",
       "1790811    1.0\n",
       "1800145    1.0\n",
       "1836013    1.0\n",
       "1861736    1.0\n",
       "1895273    1.0\n",
       "1952453    1.0\n",
       "1970469    1.0\n",
       "2005281    1.0\n",
       "2039596    1.0\n",
       "2071608    1.0\n",
       "2102404    1.0\n",
       "2177162    1.0\n",
       "Name: riskrating_project, dtype: float64"
      ]
     },
     "execution_count": 62,
     "metadata": {},
     "output_type": "execute_result"
    }
   ],
   "source": [
    "cohesive('riskrating_project', df_first)"
   ]
  },
  {
   "cell_type": "code",
   "execution_count": 63,
   "id": "c946a7fc",
   "metadata": {},
   "outputs": [
    {
     "data": {
      "text/plain": [
       "1275653    Site Evaluation and Restoration\n",
       "1335023    Site Evaluation and Restoration\n",
       "1359354    Site Evaluation and Restoration\n",
       "1396098    Site Evaluation and Restoration\n",
       "1423955    Site Evaluation and Restoration\n",
       "1469937    Site Evaluation and Restoration\n",
       "1493935    Site Evaluation and Restoration\n",
       "1535775    Site Evaluation and Restoration\n",
       "1556337    Site Evaluation and Restoration\n",
       "1592947    Site Evaluation and Restoration\n",
       "1616658    Site Evaluation and Restoration\n",
       "1638992    Site Evaluation and Restoration\n",
       "1669798    Site Evaluation and Restoration\n",
       "1707202    Site Evaluation and Restoration\n",
       "1713790    Site Evaluation and Restoration\n",
       "1739518    Site Evaluation and Restoration\n",
       "1790811    Site Evaluation and Restoration\n",
       "1800145    Site Evaluation and Restoration\n",
       "1836013    Site Evaluation and Restoration\n",
       "1861736    Site Evaluation and Restoration\n",
       "1895273    Site Evaluation and Restoration\n",
       "1952453    Site Evaluation and Restoration\n",
       "1970469    Site Evaluation and Restoration\n",
       "2005281    Site Evaluation and Restoration\n",
       "2039596    Site Evaluation and Restoration\n",
       "2071608    Site Evaluation and Restoration\n",
       "2102404    Site Evaluation and Restoration\n",
       "2177162    Site Evaluation and Restoration\n",
       "Name: Proj_CVP, dtype: object"
      ]
     },
     "execution_count": 63,
     "metadata": {},
     "output_type": "execute_result"
    }
   ],
   "source": [
    "cohesive('Proj_CVP', df_first)"
   ]
  },
  {
   "cell_type": "code",
   "execution_count": 64,
   "id": "33f6aae4",
   "metadata": {},
   "outputs": [
    {
     "data": {
      "text/plain": [
       "1275653    EN - Environmental Planning\n",
       "1335023    EN - Environmental Planning\n",
       "1359354    EN - Environmental Planning\n",
       "1396098    EN - Environmental Planning\n",
       "1423955    EN - Environmental Planning\n",
       "1469937    EN - Environmental Planning\n",
       "1493935    EN - Environmental Planning\n",
       "1535775    EN - Environmental Planning\n",
       "1556337    EN - Environmental Planning\n",
       "1592947    EN - Environmental Planning\n",
       "1616658    EN - Environmental Planning\n",
       "1638992    EN - Environmental Planning\n",
       "1669798    EN - Environmental Planning\n",
       "1707202    EN - Environmental Planning\n",
       "1713790    EN - Environmental Planning\n",
       "1739518    EN - Environmental Planning\n",
       "1790811    EN - Environmental Planning\n",
       "1800145    EN - Environmental Planning\n",
       "1836013    EN - Environmental Planning\n",
       "1861736    EN - Environmental Planning\n",
       "1895273    EN - Environmental Planning\n",
       "1952453    EN - Environmental Planning\n",
       "1970469    EN - Environmental Planning\n",
       "2005281    EN - Environmental Planning\n",
       "2039596    EN - Environmental Planning\n",
       "2071608    EN - Environmental Planning\n",
       "2102404    EN - Environmental Planning\n",
       "2177162    EN - Environmental Planning\n",
       "Name: Proj_Serv_Offering, dtype: object"
      ]
     },
     "execution_count": 64,
     "metadata": {},
     "output_type": "execute_result"
    }
   ],
   "source": [
    "cohesive('Proj_Serv_Offering', df_first)"
   ]
  },
  {
   "cell_type": "code",
   "execution_count": 65,
   "id": "47bb21a2",
   "metadata": {},
   "outputs": [
    {
     "data": {
      "text/plain": [
       "1275653    Illinois, US\n",
       "1335023    Illinois, US\n",
       "1359354    Illinois, US\n",
       "1396098    Illinois, US\n",
       "1423955    Illinois, US\n",
       "1469937    Illinois, US\n",
       "1493935    Illinois, US\n",
       "1535775    Illinois, US\n",
       "1556337    Illinois, US\n",
       "1592947    Illinois, US\n",
       "1616658    Illinois, US\n",
       "1638992    Illinois, US\n",
       "1669798    Illinois, US\n",
       "1707202    Illinois, US\n",
       "1713790    Illinois, US\n",
       "1739518    Illinois, US\n",
       "1790811    Illinois, US\n",
       "1800145    Illinois, US\n",
       "1836013    Illinois, US\n",
       "1861736    Illinois, US\n",
       "1895273    Illinois, US\n",
       "1952453    Illinois, US\n",
       "1970469    Illinois, US\n",
       "2005281    Illinois, US\n",
       "2039596    Illinois, US\n",
       "2071608    Illinois, US\n",
       "2102404    Illinois, US\n",
       "2177162    Illinois, US\n",
       "Name: Region, dtype: object"
      ]
     },
     "execution_count": 65,
     "metadata": {},
     "output_type": "execute_result"
    }
   ],
   "source": [
    "cohesive('Region', df_first)"
   ]
  },
  {
   "cell_type": "code",
   "execution_count": 66,
   "id": "dfc3f1ab",
   "metadata": {},
   "outputs": [
    {
     "data": {
      "text/plain": [
       "1275653    Kankakee\n",
       "1335023    Kankakee\n",
       "1359354    Kankakee\n",
       "1396098    Kankakee\n",
       "1423955    Kankakee\n",
       "1469937    Kankakee\n",
       "1493935    Kankakee\n",
       "1535775    Kankakee\n",
       "1556337    Kankakee\n",
       "1592947    Kankakee\n",
       "1616658    Kankakee\n",
       "1638992    Kankakee\n",
       "1669798    Kankakee\n",
       "1707202    Kankakee\n",
       "1713790    Kankakee\n",
       "1739518    Kankakee\n",
       "1790811    Kankakee\n",
       "1800145    Kankakee\n",
       "1836013    Kankakee\n",
       "1861736    Kankakee\n",
       "1895273    Kankakee\n",
       "1952453    Kankakee\n",
       "1970469    Kankakee\n",
       "2005281    Kankakee\n",
       "2039596    Kankakee\n",
       "2071608    Kankakee\n",
       "2102404    Kankakee\n",
       "2177162    Kankakee\n",
       "Name: City, dtype: object"
      ]
     },
     "execution_count": 66,
     "metadata": {},
     "output_type": "execute_result"
    }
   ],
   "source": [
    "cohesive('City', df_first)"
   ]
  },
  {
   "cell_type": "code",
   "execution_count": 67,
   "id": "57c26360",
   "metadata": {},
   "outputs": [
    {
     "data": {
      "text/plain": [
       "1275653    CP - Chem/Pharma\n",
       "1335023    CP - Chem/Pharma\n",
       "1359354    CP - Chem/Pharma\n",
       "1396098    CP - Chem/Pharma\n",
       "1423955    CP - Chem/Pharma\n",
       "1469937    CP - Chem/Pharma\n",
       "1493935    CP - Chem/Pharma\n",
       "1535775    CP - Chem/Pharma\n",
       "1556337    CP - Chem/Pharma\n",
       "1592947    CP - Chem/Pharma\n",
       "1616658    CP - Chem/Pharma\n",
       "1638992    CP - Chem/Pharma\n",
       "1669798    CP - Chem/Pharma\n",
       "1707202    CP - Chem/Pharma\n",
       "1713790    CP - Chem/Pharma\n",
       "1739518    CP - Chem/Pharma\n",
       "1790811    CP - Chem/Pharma\n",
       "1800145    CP - Chem/Pharma\n",
       "1836013    CP - Chem/Pharma\n",
       "1861736    CP - Chem/Pharma\n",
       "1895273    CP - Chem/Pharma\n",
       "1952453    CP - Chem/Pharma\n",
       "1970469    CP - Chem/Pharma\n",
       "2005281    CP - Chem/Pharma\n",
       "2039596    CP - Chem/Pharma\n",
       "2071608    CP - Chem/Pharma\n",
       "2102404    CP - Chem/Pharma\n",
       "2177162    CP - Chem/Pharma\n",
       "Name: primary_client_industry, dtype: object"
      ]
     },
     "execution_count": 67,
     "metadata": {},
     "output_type": "execute_result"
    }
   ],
   "source": [
    "cohesive('primary_client_industry', df_first)"
   ]
  },
  {
   "cell_type": "code",
   "execution_count": 82,
   "id": "bd4d4e77",
   "metadata": {},
   "outputs": [],
   "source": [
    "df2.to_csv('preprocessed.csv')"
   ]
  },
  {
   "cell_type": "code",
   "execution_count": 83,
   "id": "9170be64",
   "metadata": {},
   "outputs": [
    {
     "data": {
      "text/plain": [
       "1100712"
      ]
     },
     "execution_count": 83,
     "metadata": {},
     "output_type": "execute_result"
    }
   ],
   "source": [
    "len(df2)"
   ]
  }
 ],
 "metadata": {
  "kernelspec": {
   "display_name": "Python 3",
   "language": "python",
   "name": "python3"
  },
  "language_info": {
   "codemirror_mode": {
    "name": "ipython",
    "version": 3
   },
   "file_extension": ".py",
   "mimetype": "text/x-python",
   "name": "python",
   "nbconvert_exporter": "python",
   "pygments_lexer": "ipython3",
   "version": "3.7.9"
  }
 },
 "nbformat": 4,
 "nbformat_minor": 5
}
